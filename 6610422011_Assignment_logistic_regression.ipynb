{
  "nbformat": 4,
  "nbformat_minor": 0,
  "metadata": {
    "colab": {
      "provenance": [],
      "authorship_tag": "ABX9TyPGiZy756QVx1xWA7BJSEha",
      "include_colab_link": true
    },
    "kernelspec": {
      "name": "python3",
      "display_name": "Python 3"
    },
    "language_info": {
      "name": "python"
    }
  },
  "cells": [
    {
      "cell_type": "markdown",
      "metadata": {
        "id": "view-in-github",
        "colab_type": "text"
      },
      "source": [
        "<a href=\"https://colab.research.google.com/github/TripopN/Walmart-stock-price-movement-prediction-with-logistic-regression/blob/main/6610422011_Assignment_logistic_regression.ipynb\" target=\"_parent\"><img src=\"https://colab.research.google.com/assets/colab-badge.svg\" alt=\"Open In Colab\"/></a>"
      ]
    },
    {
      "cell_type": "markdown",
      "source": [
        "Import necessary lib"
      ],
      "metadata": {
        "id": "0TKkkoLa58bM"
      }
    },
    {
      "cell_type": "code",
      "source": [
        "pip install TA-Lib"
      ],
      "metadata": {
        "colab": {
          "base_uri": "https://localhost:8080/"
        },
        "id": "E9XHWs0nFPZd",
        "outputId": "dfd58def-7fe8-4970-eea1-f2faea7f5f24"
      },
      "execution_count": 30,
      "outputs": [
        {
          "output_type": "stream",
          "name": "stdout",
          "text": [
            "Collecting TA-Lib\n",
            "  Using cached TA-Lib-0.4.28.tar.gz (357 kB)\n",
            "  Installing build dependencies ... \u001b[?25l\u001b[?25hdone\n",
            "  Getting requirements to build wheel ... \u001b[?25l\u001b[?25hdone\n",
            "  Installing backend dependencies ... \u001b[?25l\u001b[?25hdone\n",
            "  Preparing metadata (pyproject.toml) ... \u001b[?25l\u001b[?25hdone\n",
            "Requirement already satisfied: numpy in /usr/local/lib/python3.10/dist-packages (from TA-Lib) (1.25.2)\n",
            "Building wheels for collected packages: TA-Lib\n",
            "  \u001b[1;31merror\u001b[0m: \u001b[1msubprocess-exited-with-error\u001b[0m\n",
            "  \n",
            "  \u001b[31m×\u001b[0m \u001b[32mBuilding wheel for TA-Lib \u001b[0m\u001b[1;32m(\u001b[0m\u001b[32mpyproject.toml\u001b[0m\u001b[1;32m)\u001b[0m did not run successfully.\n",
            "  \u001b[31m│\u001b[0m exit code: \u001b[1;36m1\u001b[0m\n",
            "  \u001b[31m╰─>\u001b[0m See above for output.\n",
            "  \n",
            "  \u001b[1;35mnote\u001b[0m: This error originates from a subprocess, and is likely not a problem with pip.\n",
            "  Building wheel for TA-Lib (pyproject.toml) ... \u001b[?25l\u001b[?25herror\n",
            "\u001b[31m  ERROR: Failed building wheel for TA-Lib\u001b[0m\u001b[31m\n",
            "\u001b[0mFailed to build TA-Lib\n",
            "\u001b[31mERROR: Could not build wheels for TA-Lib, which is required to install pyproject.toml-based projects\u001b[0m\u001b[31m\n",
            "\u001b[0m"
          ]
        }
      ]
    },
    {
      "cell_type": "code",
      "execution_count": 1,
      "metadata": {
        "colab": {
          "base_uri": "https://localhost:8080/"
        },
        "id": "ZdGr7ANI0azq",
        "outputId": "582c39b0-cab6-421a-f22a-176386fc0747"
      },
      "outputs": [
        {
          "output_type": "stream",
          "name": "stderr",
          "text": [
            "/usr/local/lib/python3.10/dist-packages/yfinance/base.py:48: FutureWarning: The default dtype for empty Series will be 'object' instead of 'float64' in a future version. Specify a dtype explicitly to silence this warning.\n",
            "  _empty_series = pd.Series()\n"
          ]
        }
      ],
      "source": [
        "import numpy as np\n",
        "import pandas as pd\n",
        "import matplotlib.pyplot as plt\n",
        "import yfinance as yf\n",
        "\n",
        "from sklearn.linear_model import LogisticRegression\n",
        "from sklearn import metrics\n",
        "from sklearn.model_selection import cross_val_score"
      ]
    },
    {
      "cell_type": "markdown",
      "source": [
        "Get **Walmart** stock price from yahoo finance."
      ],
      "metadata": {
        "id": "ORLmfJpt6dDy"
      }
    },
    {
      "cell_type": "code",
      "source": [
        "wmt = yf.Ticker('wmt')\n",
        "interval = '1h'\n",
        "start = '2023-1-1'\n",
        "end = '2023-12-31'\n",
        "df = wmt.history(interval=interval,start=start,end=end)"
      ],
      "metadata": {
        "id": "pR69Woon6OAb"
      },
      "execution_count": 160,
      "outputs": []
    },
    {
      "cell_type": "code",
      "source": [
        "wmt_df =df.copy()"
      ],
      "metadata": {
        "id": "BKpXb8nWiliF"
      },
      "execution_count": 245,
      "outputs": []
    },
    {
      "cell_type": "code",
      "source": [
        "wmt_df.info()"
      ],
      "metadata": {
        "colab": {
          "base_uri": "https://localhost:8080/"
        },
        "id": "A6sd8DQk8e_4",
        "outputId": "19f8b0e2-b171-441c-b137-668bc550200f"
      },
      "execution_count": 246,
      "outputs": [
        {
          "output_type": "stream",
          "name": "stdout",
          "text": [
            "<class 'pandas.core.frame.DataFrame'>\n",
            "DatetimeIndex: 1742 entries, 2023-01-03 09:30:00-05:00 to 2023-12-29 15:30:00-05:00\n",
            "Data columns (total 7 columns):\n",
            " #   Column        Non-Null Count  Dtype  \n",
            "---  ------        --------------  -----  \n",
            " 0   Open          1742 non-null   float64\n",
            " 1   High          1742 non-null   float64\n",
            " 2   Low           1742 non-null   float64\n",
            " 3   Close         1742 non-null   float64\n",
            " 4   Volume        1742 non-null   int64  \n",
            " 5   Dividends     1742 non-null   float64\n",
            " 6   Stock Splits  1742 non-null   float64\n",
            "dtypes: float64(6), int64(1)\n",
            "memory usage: 108.9 KB\n"
          ]
        }
      ]
    },
    {
      "cell_type": "code",
      "source": [
        "wmt_df.isnull().sum()"
      ],
      "metadata": {
        "colab": {
          "base_uri": "https://localhost:8080/"
        },
        "id": "Tx3PlGdU8k8q",
        "outputId": "206fe403-50f8-4403-daf4-4d0ef4ad8c49"
      },
      "execution_count": 169,
      "outputs": [
        {
          "output_type": "execute_result",
          "data": {
            "text/plain": [
              "Open            0\n",
              "High            0\n",
              "Low             0\n",
              "Close           0\n",
              "Volume          0\n",
              "Dividends       0\n",
              "Stock Splits    0\n",
              "dtype: int64"
            ]
          },
          "metadata": {},
          "execution_count": 169
        }
      ]
    },
    {
      "cell_type": "code",
      "source": [
        "plt.figure(figsize = (10,5))\n",
        "plt.plot(wmt_df['Close'], color ='b', label = '1hr')\n",
        "plt.title(\"Walmart stock price (01-Jan-23 to 31-Dec-23)\")\n",
        "plt.legend()\n",
        "plt.show()"
      ],
      "metadata": {
        "colab": {
          "base_uri": "https://localhost:8080/",
          "height": 468
        },
        "id": "MlYmp3ZA-n36",
        "outputId": "10eda57f-a0a1-4519-ead6-e15e5a757f99"
      },
      "execution_count": 140,
      "outputs": [
        {
          "output_type": "display_data",
          "data": {
            "text/plain": [
              "<Figure size 1000x500 with 1 Axes>"
            ],
            "image/png": "[encoded data removed]"
          },
          "metadata": {}
        }
      ]
    },
    {
      "cell_type": "markdown",
      "source": [
        " Define Predictor/Independent Variables"
      ],
      "metadata": {
        "id": "IJAgKKj4878x"
      }
    },
    {
      "cell_type": "code",
      "source": [
        "wmt_df['ema_5'] = wmt_df['Close'].ewm(span=5, adjust=False, min_periods=5).mean()\n",
        "wmt_df['ema_15'] = wmt_df['Close'].ewm(span=15, adjust=False, min_periods=5).mean()\n",
        "#wmt_df['S_10'] = wmt_df['Close'].rolling(window=10).mean()\n",
        "#wmt_df['S_50'] = wmt_df['Close'].rolling(window=50).mean()\n",
        "wmt_df[\"ema_5-ema_15\"] = wmt_df['ema_5'] - wmt_df['ema_15']\n",
        "wmt_df['Open-Close'] = wmt_df['Open'] - wmt_df['Close'].shift(1)\n",
        "wmt_df['Open-Open'] = wmt_df['Open'] - wmt_df['Open'].shift(1)\n",
        "wmt_df = wmt_df.dropna()\n"
      ],
      "metadata": {
        "id": "MbTjNY4C87FP"
      },
      "execution_count": 247,
      "outputs": []
    },
    {
      "cell_type": "code",
      "source": [
        "wmt_df = wmt_df.drop(columns = ['Dividends','Stock Splits'])\n",
        "wmt_df.head()"
      ],
      "metadata": {
        "colab": {
          "base_uri": "https://localhost:8080/",
          "height": 238
        },
        "id": "i0Uj87zHNxKT",
        "outputId": "f2a4fe2e-eed9-494b-e8b0-ea6fa5a088a5"
      },
      "execution_count": 248,
      "outputs": [
        {
          "output_type": "execute_result",
          "data": {
            "text/plain": [
              "                                 Open        High         Low       Close  \\\n",
              "Datetime                                                                    \n",
              "2023-01-03 13:30:00-05:00  142.669998  143.070007  142.589996  142.949997   \n",
              "2023-01-03 14:30:00-05:00  142.949997  143.580002  142.809998  143.490005   \n",
              "2023-01-03 15:30:00-05:00  143.500000  143.710007  143.440002  143.580002   \n",
              "2023-01-04 09:30:00-05:00  143.419998  143.750000  142.070007  143.100006   \n",
              "2023-01-04 10:30:00-05:00  143.089996  143.279999  142.710098  143.250000   \n",
              "\n",
              "                           Volume       ema_5      ema_15  ema_5-ema_15  \\\n",
              "Datetime                                                                  \n",
              "2023-01-03 13:30:00-05:00  479814  142.782097  142.822506     -0.040409   \n",
              "2023-01-03 14:30:00-05:00  698456  143.018067  142.905943      0.112123   \n",
              "2023-01-03 15:30:00-05:00  935235  143.205378  142.990201      0.215178   \n",
              "2023-01-04 09:30:00-05:00  821172  143.170254  143.003926      0.166328   \n",
              "2023-01-04 10:30:00-05:00  495783  143.196836  143.034686      0.162151   \n",
              "\n",
              "                           Open-Close  Open-Open  \n",
              "Datetime                                          \n",
              "2023-01-03 13:30:00-05:00   -0.020004   0.229996  \n",
              "2023-01-03 14:30:00-05:00    0.000000   0.279999  \n",
              "2023-01-03 15:30:00-05:00    0.009995   0.550003  \n",
              "2023-01-04 09:30:00-05:00   -0.160004  -0.080002  \n",
              "2023-01-04 10:30:00-05:00   -0.010010  -0.330002  "
            ],
            "text/html": [
              "\n",
              "  <div id=\"df-40c250de-a2aa-42e4-91e7-e490aa211026\" class=\"colab-df-container\">\n",
              "    <div>\n",
              "<style scoped>\n",
              "    .dataframe tbody tr th:only-of-type {\n",
              "        vertical-align: middle;\n",
              "    }\n",
              "\n",
              "    .dataframe tbody tr th {\n",
              "        vertical-align: top;\n",
              "    }\n",
              "\n",
              "    .dataframe thead th {\n",
              "        text-align: right;\n",
              "    }\n",
              "</style>\n",
              "<table border=\"1\" class=\"dataframe\">\n",
              "  <thead>\n",
              "    <tr style=\"text-align: right;\">\n",
              "      <th></th>\n",
              "      <th>Open</th>\n",
              "      <th>High</th>\n",
              "      <th>Low</th>\n",
              "      <th>Close</th>\n",
              "      <th>Volume</th>\n",
              "      <th>ema_5</th>\n",
              "      <th>ema_15</th>\n",
              "      <th>ema_5-ema_15</th>\n",
              "      <th>Open-Close</th>\n",
              "      <th>Open-Open</th>\n",
              "    </tr>\n",
              "    <tr>\n",
              "      <th>Datetime</th>\n",
              "      <th></th>\n",
              "      <th></th>\n",
              "      <th></th>\n",
              "      <th></th>\n",
              "      <th></th>\n",
              "      <th></th>\n",
              "      <th></th>\n",
              "      <th></th>\n",
              "      <th></th>\n",
              "      <th></th>\n",
              "    </tr>\n",
              "  </thead>\n",
              "  <tbody>\n",
              "    <tr>\n",
              "      <th>2023-01-03 13:30:00-05:00</th>\n",
              "      <td>142.669998</td>\n",
              "      <td>143.070007</td>\n",
              "      <td>142.589996</td>\n",
              "      <td>142.949997</td>\n",
              "      <td>479814</td>\n",
              "      <td>142.782097</td>\n",
              "      <td>142.822506</td>\n",
              "      <td>-0.040409</td>\n",
              "      <td>-0.020004</td>\n",
              "      <td>0.229996</td>\n",
              "    </tr>\n",
              "    <tr>\n",
              "      <th>2023-01-03 14:30:00-05:00</th>\n",
              "      <td>142.949997</td>\n",
              "      <td>143.580002</td>\n",
              "      <td>142.809998</td>\n",
              "      <td>143.490005</td>\n",
              "      <td>698456</td>\n",
              "      <td>143.018067</td>\n",
              "      <td>142.905943</td>\n",
              "      <td>0.112123</td>\n",
              "      <td>0.000000</td>\n",
              "      <td>0.279999</td>\n",
              "    </tr>\n",
              "    <tr>\n",
              "      <th>2023-01-03 15:30:00-05:00</th>\n",
              "      <td>143.500000</td>\n",
              "      <td>143.710007</td>\n",
              "      <td>143.440002</td>\n",
              "      <td>143.580002</td>\n",
              "      <td>935235</td>\n",
              "      <td>143.205378</td>\n",
              "      <td>142.990201</td>\n",
              "      <td>0.215178</td>\n",
              "      <td>0.009995</td>\n",
              "      <td>0.550003</td>\n",
              "    </tr>\n",
              "    <tr>\n",
              "      <th>2023-01-04 09:30:00-05:00</th>\n",
              "      <td>143.419998</td>\n",
              "      <td>143.750000</td>\n",
              "      <td>142.070007</td>\n",
              "      <td>143.100006</td>\n",
              "      <td>821172</td>\n",
              "      <td>143.170254</td>\n",
              "      <td>143.003926</td>\n",
              "      <td>0.166328</td>\n",
              "      <td>-0.160004</td>\n",
              "      <td>-0.080002</td>\n",
              "    </tr>\n",
              "    <tr>\n",
              "      <th>2023-01-04 10:30:00-05:00</th>\n",
              "      <td>143.089996</td>\n",
              "      <td>143.279999</td>\n",
              "      <td>142.710098</td>\n",
              "      <td>143.250000</td>\n",
              "      <td>495783</td>\n",
              "      <td>143.196836</td>\n",
              "      <td>143.034686</td>\n",
              "      <td>0.162151</td>\n",
              "      <td>-0.010010</td>\n",
              "      <td>-0.330002</td>\n",
              "    </tr>\n",
              "  </tbody>\n",
              "</table>\n",
              "</div>\n",
              "    <div class=\"colab-df-buttons\">\n",
              "\n",
              "  <div class=\"colab-df-container\">\n",
              "    <button class=\"colab-df-convert\" onclick=\"convertToInteractive('df-40c250de-a2aa-42e4-91e7-e490aa211026')\"\n",
              "            title=\"Convert this dataframe to an interactive table.\"\n",
              "            style=\"display:none;\">\n",
              "\n",
              "  <svg xmlns=\"http://www.w3.org/2000/svg\" height=\"24px\" viewBox=\"0 -960 960 960\">\n",
              "    <path d=\"M120-120v-720h720v720H120Zm60-500h600v-160H180v160Zm220 220h160v-160H400v160Zm0 220h160v-160H400v160ZM180-400h160v-160H180v160Zm440 0h160v-160H620v160ZM180-180h160v-160H180v160Zm440 0h160v-160H620v160Z\"/>\n",
              "  </svg>\n",
              "    </button>\n",
              "\n",
              "  <style>\n",
              "    .colab-df-container {\n",
              "      display:flex;\n",
              "      gap: 12px;\n",
              "    }\n",
              "\n",
              "    .colab-df-convert {\n",
              "      background-color: #E8F0FE;\n",
              "      border: none;\n",
              "      border-radius: 50%;\n",
              "      cursor: pointer;\n",
              "      display: none;\n",
              "      fill: #1967D2;\n",
              "      height: 32px;\n",
              "      padding: 0 0 0 0;\n",
              "      width: 32px;\n",
              "    }\n",
              "\n",
              "    .colab-df-convert:hover {\n",
              "      background-color: #E2EBFA;\n",
              "      box-shadow: 0px 1px 2px rgba(60, 64, 67, 0.3), 0px 1px 3px 1px rgba(60, 64, 67, 0.15);\n",
              "      fill: #174EA6;\n",
              "    }\n",
              "\n",
              "    .colab-df-buttons div {\n",
              "      margin-bottom: 4px;\n",
              "    }\n",
              "\n",
              "    [theme=dark] .colab-df-convert {\n",
              "      background-color: #3B4455;\n",
              "      fill: #D2E3FC;\n",
              "    }\n",
              "\n",
              "    [theme=dark] .colab-df-convert:hover {\n",
              "      background-color: #434B5C;\n",
              "      box-shadow: 0px 1px 3px 1px rgba(0, 0, 0, 0.15);\n",
              "      filter: drop-shadow(0px 1px 2px rgba(0, 0, 0, 0.3));\n",
              "      fill: #FFFFFF;\n",
              "    }\n",
              "  </style>\n",
              "\n",
              "    <script>\n",
              "      const buttonEl =\n",
              "        document.querySelector('#df-40c250de-a2aa-42e4-91e7-e490aa211026 button.colab-df-convert');\n",
              "      buttonEl.style.display =\n",
              "        google.colab.kernel.accessAllowed ? 'block' : 'none';\n",
              "\n",
              "      async function convertToInteractive(key) {\n",
              "        const element = document.querySelector('#df-40c250de-a2aa-42e4-91e7-e490aa211026');\n",
              "        const dataTable =\n",
              "          await google.colab.kernel.invokeFunction('convertToInteractive',\n",
              "                                                    [key], {});\n",
              "        if (!dataTable) return;\n",
              "\n",
              "        const docLinkHtml = 'Like what you see? Visit the ' +\n",
              "          '<a target=\"_blank\" href=https://colab.research.google.com/notebooks/data_table.ipynb>data table notebook</a>'\n",
              "          + ' to learn more about interactive tables.';\n",
              "        element.innerHTML = '';\n",
              "        dataTable['output_type'] = 'display_data';\n",
              "        await google.colab.output.renderOutput(dataTable, element);\n",
              "        const docLink = document.createElement('div');\n",
              "        docLink.innerHTML = docLinkHtml;\n",
              "        element.appendChild(docLink);\n",
              "      }\n",
              "    </script>\n",
              "  </div>\n",
              "\n",
              "\n",
              "<div id=\"df-ff2fec36-d7de-474a-948f-a56c61114633\">\n",
              "  <button class=\"colab-df-quickchart\" onclick=\"quickchart('df-ff2fec36-d7de-474a-948f-a56c61114633')\"\n",
              "            title=\"Suggest charts\"\n",
              "            style=\"display:none;\">\n",
              "\n",
              "<svg xmlns=\"http://www.w3.org/2000/svg\" height=\"24px\"viewBox=\"0 0 24 24\"\n",
              "     width=\"24px\">\n",
              "    <g>\n",
              "        <path d=\"M19 3H5c-1.1 0-2 .9-2 2v14c0 1.1.9 2 2 2h14c1.1 0 2-.9 2-2V5c0-1.1-.9-2-2-2zM9 17H7v-7h2v7zm4 0h-2V7h2v10zm4 0h-2v-4h2v4z\"/>\n",
              "    </g>\n",
              "</svg>\n",
              "  </button>\n",
              "\n",
              "<style>\n",
              "  .colab-df-quickchart {\n",
              "      --bg-color: #E8F0FE;\n",
              "      --fill-color: #1967D2;\n",
              "      --hover-bg-color: #E2EBFA;\n",
              "      --hover-fill-color: #174EA6;\n",
              "      --disabled-fill-color: #AAA;\n",
              "      --disabled-bg-color: #DDD;\n",
              "  }\n",
              "\n",
              "  [theme=dark] .colab-df-quickchart {\n",
              "      --bg-color: #3B4455;\n",
              "      --fill-color: #D2E3FC;\n",
              "      --hover-bg-color: #434B5C;\n",
              "      --hover-fill-color: #FFFFFF;\n",
              "      --disabled-bg-color: #3B4455;\n",
              "      --disabled-fill-color: #666;\n",
              "  }\n",
              "\n",
              "  .colab-df-quickchart {\n",
              "    background-color: var(--bg-color);\n",
              "    border: none;\n",
              "    border-radius: 50%;\n",
              "    cursor: pointer;\n",
              "    display: none;\n",
              "    fill: var(--fill-color);\n",
              "    height: 32px;\n",
              "    padding: 0;\n",
              "    width: 32px;\n",
              "  }\n",
              "\n",
              "  .colab-df-quickchart:hover {\n",
              "    background-color: var(--hover-bg-color);\n",
              "    box-shadow: 0 1px 2px rgba(60, 64, 67, 0.3), 0 1px 3px 1px rgba(60, 64, 67, 0.15);\n",
              "    fill: var(--button-hover-fill-color);\n",
              "  }\n",
              "\n",
              "  .colab-df-quickchart-complete:disabled,\n",
              "  .colab-df-quickchart-complete:disabled:hover {\n",
              "    background-color: var(--disabled-bg-color);\n",
              "    fill: var(--disabled-fill-color);\n",
              "    box-shadow: none;\n",
              "  }\n",
              "\n",
              "  .colab-df-spinner {\n",
              "    border: 2px solid var(--fill-color);\n",
              "    border-color: transparent;\n",
              "    border-bottom-color: var(--fill-color);\n",
              "    animation:\n",
              "      spin 1s steps(1) infinite;\n",
              "  }\n",
              "\n",
              "  @keyframes spin {\n",
              "    0% {\n",
              "      border-color: transparent;\n",
              "      border-bottom-color: var(--fill-color);\n",
              "      border-left-color: var(--fill-color);\n",
              "    }\n",
              "    20% {\n",
              "      border-color: transparent;\n",
              "      border-left-color: var(--fill-color);\n",
              "      border-top-color: var(--fill-color);\n",
              "    }\n",
              "    30% {\n",
              "      border-color: transparent;\n",
              "      border-left-color: var(--fill-color);\n",
              "      border-top-color: var(--fill-color);\n",
              "      border-right-color: var(--fill-color);\n",
              "    }\n",
              "    40% {\n",
              "      border-color: transparent;\n",
              "      border-right-color: var(--fill-color);\n",
              "      border-top-color: var(--fill-color);\n",
              "    }\n",
              "    60% {\n",
              "      border-color: transparent;\n",
              "      border-right-color: var(--fill-color);\n",
              "    }\n",
              "    80% {\n",
              "      border-color: transparent;\n",
              "      border-right-color: var(--fill-color);\n",
              "      border-bottom-color: var(--fill-color);\n",
              "    }\n",
              "    90% {\n",
              "      border-color: transparent;\n",
              "      border-bottom-color: var(--fill-color);\n",
              "    }\n",
              "  }\n",
              "</style>\n",
              "\n",
              "  <script>\n",
              "    async function quickchart(key) {\n",
              "      const quickchartButtonEl =\n",
              "        document.querySelector('#' + key + ' button');\n",
              "      quickchartButtonEl.disabled = true;  // To prevent multiple clicks.\n",
              "      quickchartButtonEl.classList.add('colab-df-spinner');\n",
              "      try {\n",
              "        const charts = await google.colab.kernel.invokeFunction(\n",
              "            'suggestCharts', [key], {});\n",
              "      } catch (error) {\n",
              "        console.error('Error during call to suggestCharts:', error);\n",
              "      }\n",
              "      quickchartButtonEl.classList.remove('colab-df-spinner');\n",
              "      quickchartButtonEl.classList.add('colab-df-quickchart-complete');\n",
              "    }\n",
              "    (() => {\n",
              "      let quickchartButtonEl =\n",
              "        document.querySelector('#df-ff2fec36-d7de-474a-948f-a56c61114633 button');\n",
              "      quickchartButtonEl.style.display =\n",
              "        google.colab.kernel.accessAllowed ? 'block' : 'none';\n",
              "    })();\n",
              "  </script>\n",
              "</div>\n",
              "    </div>\n",
              "  </div>\n"
            ],
            "application/vnd.google.colaboratory.intrinsic+json": {
              "type": "dataframe",
              "variable_name": "wmt_df",
              "summary": "{\n  \"name\": \"wmt_df\",\n  \"rows\": 1738,\n  \"fields\": [\n    {\n      \"column\": \"Open\",\n      \"properties\": {\n        \"dtype\": \"number\",\n        \"std\": 7.7586238986967,\n        \"min\": 136.5500030517578,\n        \"max\": 169.38999938964844,\n        \"samples\": [\n          160.22999572753906,\n          157.6199951171875,\n          144.0\n        ],\n        \"num_unique_values\": 1414,\n        \"semantic_type\": \"\",\n        \"description\": \"\"\n      }\n    },\n    {\n      \"column\": \"High\",\n      \"properties\": {\n        \"dtype\": \"number\",\n        \"std\": 7.738421558950494,\n        \"min\": 137.0,\n        \"max\": 169.94000244140625,\n        \"samples\": [\n          151.75999450683594,\n          141.52499389648438,\n          159.14999389648438\n        ],\n        \"num_unique_values\": 1376,\n        \"semantic_type\": \"\",\n        \"description\": \"\"\n      }\n    },\n    {\n      \"column\": \"Low\",\n      \"properties\": {\n        \"dtype\": \"number\",\n        \"std\": 7.797395162173852,\n        \"min\": 125.48999786376953,\n        \"max\": 169.0850067138672,\n        \"samples\": [\n          165.19000244140625,\n          149.44000244140625,\n          157.12010192871094\n        ],\n        \"num_unique_values\": 1395,\n        \"semantic_type\": \"\",\n        \"description\": \"\"\n      }\n    },\n    {\n      \"column\": \"Close\",\n      \"properties\": {\n        \"dtype\": \"number\",\n        \"std\": 7.756917257549626,\n        \"min\": 136.55999755859375,\n        \"max\": 169.77000427246094,\n        \"samples\": [\n          163.41000366210938,\n          162.10000610351562,\n          160.0500030517578\n        ],\n        \"num_unique_values\": 1452,\n        \"semantic_type\": \"\",\n        \"description\": \"\"\n      }\n    },\n    {\n      \"column\": \"Volume\",\n      \"properties\": {\n        \"dtype\": \"number\",\n        \"std\": 572359,\n        \"min\": 0,\n        \"max\": 12442608,\n        \"samples\": [\n          895609,\n          844029,\n          730847\n        ],\n        \"num_unique_values\": 1735,\n        \"semantic_type\": \"\",\n        \"description\": \"\"\n      }\n    },\n    {\n      \"column\": \"ema_5\",\n      \"properties\": {\n        \"dtype\": \"number\",\n        \"std\": 7.736401908221256,\n        \"min\": 136.92405563531122,\n        \"max\": 169.2682352556544,\n        \"samples\": [\n          148.99039604489275,\n          164.73310781646916,\n          156.9322508386203\n        ],\n        \"num_unique_values\": 1738,\n        \"semantic_type\": \"\",\n        \"description\": \"\"\n      }\n    },\n    {\n      \"column\": \"ema_15\",\n      \"properties\": {\n        \"dtype\": \"number\",\n        \"std\": 7.698859789269953,\n        \"min\": 137.42951014292578,\n        \"max\": 168.43722693820126,\n        \"samples\": [\n          149.5690308830478,\n          164.4971142396955,\n          155.95372101763695\n        ],\n        \"num_unique_values\": 1738,\n        \"semantic_type\": \"\",\n        \"description\": \"\"\n      }\n    },\n    {\n      \"column\": \"ema_5-ema_15\",\n      \"properties\": {\n        \"dtype\": \"number\",\n        \"std\": 0.6370295519447476,\n        \"min\": -4.497730337223061,\n        \"max\": 1.4917447943371087,\n        \"samples\": [\n          -0.5786348381550397,\n          0.23599357677366584,\n          0.97852982098334\n        ],\n        \"num_unique_values\": 1738,\n        \"semantic_type\": \"\",\n        \"description\": \"\"\n      }\n    },\n    {\n      \"column\": \"Open-Close\",\n      \"properties\": {\n        \"dtype\": \"number\",\n        \"std\": 0.53909352891127,\n        \"min\": -11.020004272460938,\n        \"max\": 17.25,\n        \"samples\": [\n          -0.034912109375,\n          0.5,\n          0.0500030517578125\n        ],\n        \"num_unique_values\": 384,\n        \"semantic_type\": \"\",\n        \"description\": \"\"\n      }\n    },\n    {\n      \"column\": \"Open-Open\",\n      \"properties\": {\n        \"dtype\": \"number\",\n        \"std\": 0.8451670166433722,\n        \"min\": -17.490005493164062,\n        \"max\": 17.403900146484375,\n        \"samples\": [\n          1.07000732421875,\n          0.3699951171875,\n          -0.3700103759765625\n        ],\n        \"num_unique_values\": 720,\n        \"semantic_type\": \"\",\n        \"description\": \"\"\n      }\n    }\n  ]\n}"
            }
          },
          "metadata": {},
          "execution_count": 248
        }
      ]
    },
    {
      "cell_type": "code",
      "source": [
        "X = wmt_df.iloc[:,:10]"
      ],
      "metadata": {
        "id": "biKauMOqGqjW"
      },
      "execution_count": 249,
      "outputs": []
    },
    {
      "cell_type": "code",
      "source": [
        "X.tail()"
      ],
      "metadata": {
        "colab": {
          "base_uri": "https://localhost:8080/",
          "height": 238
        },
        "id": "mPynKxMOI5xu",
        "outputId": "9b9c0e1a-4d51-444b-a49c-04953955e278"
      },
      "execution_count": 250,
      "outputs": [
        {
          "output_type": "execute_result",
          "data": {
            "text/plain": [
              "                                 Open        High         Low       Close  \\\n",
              "Datetime                                                                    \n",
              "2023-12-29 11:30:00-05:00  157.750595  157.820007  157.160004  157.274994   \n",
              "2023-12-29 12:30:00-05:00  157.270004  157.690002  157.240005  157.574997   \n",
              "2023-12-29 13:30:00-05:00  157.580002  157.809998  157.559998  157.660004   \n",
              "2023-12-29 14:30:00-05:00  157.669998  157.929993  157.639999  157.889999   \n",
              "2023-12-29 15:30:00-05:00  157.899994  158.020004  157.649994  157.649994   \n",
              "\n",
              "                            Volume       ema_5      ema_15  ema_5-ema_15  \\\n",
              "Datetime                                                                   \n",
              "2023-12-29 11:30:00-05:00   468988  157.612056  157.546298      0.065758   \n",
              "2023-12-29 12:30:00-05:00   457363  157.599703  157.549886      0.049818   \n",
              "2023-12-29 13:30:00-05:00   533250  157.619803  157.563650      0.056153   \n",
              "2023-12-29 14:30:00-05:00   803502  157.709869  157.604444      0.105425   \n",
              "2023-12-29 15:30:00-05:00  1579816  157.689910  157.610138      0.079773   \n",
              "\n",
              "                           Open-Close  Open-Open  \n",
              "Datetime                                          \n",
              "2023-12-29 11:30:00-05:00   -0.009399  -0.219406  \n",
              "2023-12-29 12:30:00-05:00   -0.004990  -0.480591  \n",
              "2023-12-29 13:30:00-05:00    0.005005   0.309998  \n",
              "2023-12-29 14:30:00-05:00    0.009995   0.089996  \n",
              "2023-12-29 15:30:00-05:00    0.009995   0.229996  "
            ],
            "text/html": [
              "\n",
              "  <div id=\"df-3d8f7d3f-c84f-4049-a26c-48c8f60a9919\" class=\"colab-df-container\">\n",
              "    <div>\n",
              "<style scoped>\n",
              "    .dataframe tbody tr th:only-of-type {\n",
              "        vertical-align: middle;\n",
              "    }\n",
              "\n",
              "    .dataframe tbody tr th {\n",
              "        vertical-align: top;\n",
              "    }\n",
              "\n",
              "    .dataframe thead th {\n",
              "        text-align: right;\n",
              "    }\n",
              "</style>\n",
              "<table border=\"1\" class=\"dataframe\">\n",
              "  <thead>\n",
              "    <tr style=\"text-align: right;\">\n",
              "      <th></th>\n",
              "      <th>Open</th>\n",
              "      <th>High</th>\n",
              "      <th>Low</th>\n",
              "      <th>Close</th>\n",
              "      <th>Volume</th>\n",
              "      <th>ema_5</th>\n",
              "      <th>ema_15</th>\n",
              "      <th>ema_5-ema_15</th>\n",
              "      <th>Open-Close</th>\n",
              "      <th>Open-Open</th>\n",
              "    </tr>\n",
              "    <tr>\n",
              "      <th>Datetime</th>\n",
              "      <th></th>\n",
              "      <th></th>\n",
              "      <th></th>\n",
              "      <th></th>\n",
              "      <th></th>\n",
              "      <th></th>\n",
              "      <th></th>\n",
              "      <th></th>\n",
              "      <th></th>\n",
              "      <th></th>\n",
              "    </tr>\n",
              "  </thead>\n",
              "  <tbody>\n",
              "    <tr>\n",
              "      <th>2023-12-29 11:30:00-05:00</th>\n",
              "      <td>157.750595</td>\n",
              "      <td>157.820007</td>\n",
              "      <td>157.160004</td>\n",
              "      <td>157.274994</td>\n",
              "      <td>468988</td>\n",
              "      <td>157.612056</td>\n",
              "      <td>157.546298</td>\n",
              "      <td>0.065758</td>\n",
              "      <td>-0.009399</td>\n",
              "      <td>-0.219406</td>\n",
              "    </tr>\n",
              "    <tr>\n",
              "      <th>2023-12-29 12:30:00-05:00</th>\n",
              "      <td>157.270004</td>\n",
              "      <td>157.690002</td>\n",
              "      <td>157.240005</td>\n",
              "      <td>157.574997</td>\n",
              "      <td>457363</td>\n",
              "      <td>157.599703</td>\n",
              "      <td>157.549886</td>\n",
              "      <td>0.049818</td>\n",
              "      <td>-0.004990</td>\n",
              "      <td>-0.480591</td>\n",
              "    </tr>\n",
              "    <tr>\n",
              "      <th>2023-12-29 13:30:00-05:00</th>\n",
              "      <td>157.580002</td>\n",
              "      <td>157.809998</td>\n",
              "      <td>157.559998</td>\n",
              "      <td>157.660004</td>\n",
              "      <td>533250</td>\n",
              "      <td>157.619803</td>\n",
              "      <td>157.563650</td>\n",
              "      <td>0.056153</td>\n",
              "      <td>0.005005</td>\n",
              "      <td>0.309998</td>\n",
              "    </tr>\n",
              "    <tr>\n",
              "      <th>2023-12-29 14:30:00-05:00</th>\n",
              "      <td>157.669998</td>\n",
              "      <td>157.929993</td>\n",
              "      <td>157.639999</td>\n",
              "      <td>157.889999</td>\n",
              "      <td>803502</td>\n",
              "      <td>157.709869</td>\n",
              "      <td>157.604444</td>\n",
              "      <td>0.105425</td>\n",
              "      <td>0.009995</td>\n",
              "      <td>0.089996</td>\n",
              "    </tr>\n",
              "    <tr>\n",
              "      <th>2023-12-29 15:30:00-05:00</th>\n",
              "      <td>157.899994</td>\n",
              "      <td>158.020004</td>\n",
              "      <td>157.649994</td>\n",
              "      <td>157.649994</td>\n",
              "      <td>1579816</td>\n",
              "      <td>157.689910</td>\n",
              "      <td>157.610138</td>\n",
              "      <td>0.079773</td>\n",
              "      <td>0.009995</td>\n",
              "      <td>0.229996</td>\n",
              "    </tr>\n",
              "  </tbody>\n",
              "</table>\n",
              "</div>\n",
              "    <div class=\"colab-df-buttons\">\n",
              "\n",
              "  <div class=\"colab-df-container\">\n",
              "    <button class=\"colab-df-convert\" onclick=\"convertToInteractive('df-3d8f7d3f-c84f-4049-a26c-48c8f60a9919')\"\n",
              "            title=\"Convert this dataframe to an interactive table.\"\n",
              "            style=\"display:none;\">\n",
              "\n",
              "  <svg xmlns=\"http://www.w3.org/2000/svg\" height=\"24px\" viewBox=\"0 -960 960 960\">\n",
              "    <path d=\"M120-120v-720h720v720H120Zm60-500h600v-160H180v160Zm220 220h160v-160H400v160Zm0 220h160v-160H400v160ZM180-400h160v-160H180v160Zm440 0h160v-160H620v160ZM180-180h160v-160H180v160Zm440 0h160v-160H620v160Z\"/>\n",
              "  </svg>\n",
              "    </button>\n",
              "\n",
              "  <style>\n",
              "    .colab-df-container {\n",
              "      display:flex;\n",
              "      gap: 12px;\n",
              "    }\n",
              "\n",
              "    .colab-df-convert {\n",
              "      background-color: #E8F0FE;\n",
              "      border: none;\n",
              "      border-radius: 50%;\n",
              "      cursor: pointer;\n",
              "      display: none;\n",
              "      fill: #1967D2;\n",
              "      height: 32px;\n",
              "      padding: 0 0 0 0;\n",
              "      width: 32px;\n",
              "    }\n",
              "\n",
              "    .colab-df-convert:hover {\n",
              "      background-color: #E2EBFA;\n",
              "      box-shadow: 0px 1px 2px rgba(60, 64, 67, 0.3), 0px 1px 3px 1px rgba(60, 64, 67, 0.15);\n",
              "      fill: #174EA6;\n",
              "    }\n",
              "\n",
              "    .colab-df-buttons div {\n",
              "      margin-bottom: 4px;\n",
              "    }\n",
              "\n",
              "    [theme=dark] .colab-df-convert {\n",
              "      background-color: #3B4455;\n",
              "      fill: #D2E3FC;\n",
              "    }\n",
              "\n",
              "    [theme=dark] .colab-df-convert:hover {\n",
              "      background-color: #434B5C;\n",
              "      box-shadow: 0px 1px 3px 1px rgba(0, 0, 0, 0.15);\n",
              "      filter: drop-shadow(0px 1px 2px rgba(0, 0, 0, 0.3));\n",
              "      fill: #FFFFFF;\n",
              "    }\n",
              "  </style>\n",
              "\n",
              "    <script>\n",
              "      const buttonEl =\n",
              "        document.querySelector('#df-3d8f7d3f-c84f-4049-a26c-48c8f60a9919 button.colab-df-convert');\n",
              "      buttonEl.style.display =\n",
              "        google.colab.kernel.accessAllowed ? 'block' : 'none';\n",
              "\n",
              "      async function convertToInteractive(key) {\n",
              "        const element = document.querySelector('#df-3d8f7d3f-c84f-4049-a26c-48c8f60a9919');\n",
              "        const dataTable =\n",
              "          await google.colab.kernel.invokeFunction('convertToInteractive',\n",
              "                                                    [key], {});\n",
              "        if (!dataTable) return;\n",
              "\n",
              "        const docLinkHtml = 'Like what you see? Visit the ' +\n",
              "          '<a target=\"_blank\" href=https://colab.research.google.com/notebooks/data_table.ipynb>data table notebook</a>'\n",
              "          + ' to learn more about interactive tables.';\n",
              "        element.innerHTML = '';\n",
              "        dataTable['output_type'] = 'display_data';\n",
              "        await google.colab.output.renderOutput(dataTable, element);\n",
              "        const docLink = document.createElement('div');\n",
              "        docLink.innerHTML = docLinkHtml;\n",
              "        element.appendChild(docLink);\n",
              "      }\n",
              "    </script>\n",
              "  </div>\n",
              "\n",
              "\n",
              "<div id=\"df-ba793057-8f95-42a1-9c77-3b329387d773\">\n",
              "  <button class=\"colab-df-quickchart\" onclick=\"quickchart('df-ba793057-8f95-42a1-9c77-3b329387d773')\"\n",
              "            title=\"Suggest charts\"\n",
              "            style=\"display:none;\">\n",
              "\n",
              "<svg xmlns=\"http://www.w3.org/2000/svg\" height=\"24px\"viewBox=\"0 0 24 24\"\n",
              "     width=\"24px\">\n",
              "    <g>\n",
              "        <path d=\"M19 3H5c-1.1 0-2 .9-2 2v14c0 1.1.9 2 2 2h14c1.1 0 2-.9 2-2V5c0-1.1-.9-2-2-2zM9 17H7v-7h2v7zm4 0h-2V7h2v10zm4 0h-2v-4h2v4z\"/>\n",
              "    </g>\n",
              "</svg>\n",
              "  </button>\n",
              "\n",
              "<style>\n",
              "  .colab-df-quickchart {\n",
              "      --bg-color: #E8F0FE;\n",
              "      --fill-color: #1967D2;\n",
              "      --hover-bg-color: #E2EBFA;\n",
              "      --hover-fill-color: #174EA6;\n",
              "      --disabled-fill-color: #AAA;\n",
              "      --disabled-bg-color: #DDD;\n",
              "  }\n",
              "\n",
              "  [theme=dark] .colab-df-quickchart {\n",
              "      --bg-color: #3B4455;\n",
              "      --fill-color: #D2E3FC;\n",
              "      --hover-bg-color: #434B5C;\n",
              "      --hover-fill-color: #FFFFFF;\n",
              "      --disabled-bg-color: #3B4455;\n",
              "      --disabled-fill-color: #666;\n",
              "  }\n",
              "\n",
              "  .colab-df-quickchart {\n",
              "    background-color: var(--bg-color);\n",
              "    border: none;\n",
              "    border-radius: 50%;\n",
              "    cursor: pointer;\n",
              "    display: none;\n",
              "    fill: var(--fill-color);\n",
              "    height: 32px;\n",
              "    padding: 0;\n",
              "    width: 32px;\n",
              "  }\n",
              "\n",
              "  .colab-df-quickchart:hover {\n",
              "    background-color: var(--hover-bg-color);\n",
              "    box-shadow: 0 1px 2px rgba(60, 64, 67, 0.3), 0 1px 3px 1px rgba(60, 64, 67, 0.15);\n",
              "    fill: var(--button-hover-fill-color);\n",
              "  }\n",
              "\n",
              "  .colab-df-quickchart-complete:disabled,\n",
              "  .colab-df-quickchart-complete:disabled:hover {\n",
              "    background-color: var(--disabled-bg-color);\n",
              "    fill: var(--disabled-fill-color);\n",
              "    box-shadow: none;\n",
              "  }\n",
              "\n",
              "  .colab-df-spinner {\n",
              "    border: 2px solid var(--fill-color);\n",
              "    border-color: transparent;\n",
              "    border-bottom-color: var(--fill-color);\n",
              "    animation:\n",
              "      spin 1s steps(1) infinite;\n",
              "  }\n",
              "\n",
              "  @keyframes spin {\n",
              "    0% {\n",
              "      border-color: transparent;\n",
              "      border-bottom-color: var(--fill-color);\n",
              "      border-left-color: var(--fill-color);\n",
              "    }\n",
              "    20% {\n",
              "      border-color: transparent;\n",
              "      border-left-color: var(--fill-color);\n",
              "      border-top-color: var(--fill-color);\n",
              "    }\n",
              "    30% {\n",
              "      border-color: transparent;\n",
              "      border-left-color: var(--fill-color);\n",
              "      border-top-color: var(--fill-color);\n",
              "      border-right-color: var(--fill-color);\n",
              "    }\n",
              "    40% {\n",
              "      border-color: transparent;\n",
              "      border-right-color: var(--fill-color);\n",
              "      border-top-color: var(--fill-color);\n",
              "    }\n",
              "    60% {\n",
              "      border-color: transparent;\n",
              "      border-right-color: var(--fill-color);\n",
              "    }\n",
              "    80% {\n",
              "      border-color: transparent;\n",
              "      border-right-color: var(--fill-color);\n",
              "      border-bottom-color: var(--fill-color);\n",
              "    }\n",
              "    90% {\n",
              "      border-color: transparent;\n",
              "      border-bottom-color: var(--fill-color);\n",
              "    }\n",
              "  }\n",
              "</style>\n",
              "\n",
              "  <script>\n",
              "    async function quickchart(key) {\n",
              "      const quickchartButtonEl =\n",
              "        document.querySelector('#' + key + ' button');\n",
              "      quickchartButtonEl.disabled = true;  // To prevent multiple clicks.\n",
              "      quickchartButtonEl.classList.add('colab-df-spinner');\n",
              "      try {\n",
              "        const charts = await google.colab.kernel.invokeFunction(\n",
              "            'suggestCharts', [key], {});\n",
              "      } catch (error) {\n",
              "        console.error('Error during call to suggestCharts:', error);\n",
              "      }\n",
              "      quickchartButtonEl.classList.remove('colab-df-spinner');\n",
              "      quickchartButtonEl.classList.add('colab-df-quickchart-complete');\n",
              "    }\n",
              "    (() => {\n",
              "      let quickchartButtonEl =\n",
              "        document.querySelector('#df-ba793057-8f95-42a1-9c77-3b329387d773 button');\n",
              "      quickchartButtonEl.style.display =\n",
              "        google.colab.kernel.accessAllowed ? 'block' : 'none';\n",
              "    })();\n",
              "  </script>\n",
              "</div>\n",
              "    </div>\n",
              "  </div>\n"
            ],
            "application/vnd.google.colaboratory.intrinsic+json": {
              "type": "dataframe",
              "summary": "{\n  \"name\": \"X\",\n  \"rows\": 5,\n  \"fields\": [\n    {\n      \"column\": \"Open\",\n      \"properties\": {\n        \"dtype\": \"number\",\n        \"std\": 0.23508065547671436,\n        \"min\": 157.27000427246094,\n        \"max\": 157.89999389648438,\n        \"samples\": [\n          157.27000427246094,\n          157.89999389648438,\n          157.5800018310547\n        ],\n        \"num_unique_values\": 5,\n        \"semantic_type\": \"\",\n        \"description\": \"\"\n      }\n    },\n    {\n      \"column\": \"High\",\n      \"properties\": {\n        \"dtype\": \"number\",\n        \"std\": 0.12581655428163924,\n        \"min\": 157.69000244140625,\n        \"max\": 158.02000427246094,\n        \"samples\": [\n          157.69000244140625,\n          158.02000427246094,\n          157.80999755859375\n        ],\n        \"num_unique_values\": 5,\n        \"semantic_type\": \"\",\n        \"description\": \"\"\n      }\n    },\n    {\n      \"column\": \"Low\",\n      \"properties\": {\n        \"dtype\": \"number\",\n        \"std\": 0.23258996027645376,\n        \"min\": 157.16000366210938,\n        \"max\": 157.64999389648438,\n        \"samples\": [\n          157.24000549316406,\n          157.64999389648438,\n          157.55999755859375\n        ],\n        \"num_unique_values\": 5,\n        \"semantic_type\": \"\",\n        \"description\": \"\"\n      }\n    },\n    {\n      \"column\": \"Close\",\n      \"properties\": {\n        \"dtype\": \"number\",\n        \"std\": 0.22133336801029824,\n        \"min\": 157.27499389648438,\n        \"max\": 157.88999938964844,\n        \"samples\": [\n          157.5749969482422,\n          157.64999389648438,\n          157.66000366210938\n        ],\n        \"num_unique_values\": 5,\n        \"semantic_type\": \"\",\n        \"description\": \"\"\n      }\n    },\n    {\n      \"column\": \"Volume\",\n      \"properties\": {\n        \"dtype\": \"number\",\n        \"std\": 474688,\n        \"min\": 457363,\n        \"max\": 1579816,\n        \"samples\": [\n          457363,\n          1579816,\n          533250\n        ],\n        \"num_unique_values\": 5,\n        \"semantic_type\": \"\",\n        \"description\": \"\"\n      }\n    },\n    {\n      \"column\": \"ema_5\",\n      \"properties\": {\n        \"dtype\": \"number\",\n        \"std\": 0.04997201920368692,\n        \"min\": 157.5997031778138,\n        \"max\": 157.70986868937993,\n        \"samples\": [\n          157.5997031778138,\n          157.68991042508142,\n          157.61980333924566\n        ],\n        \"num_unique_values\": 5,\n        \"semantic_type\": \"\",\n        \"description\": \"\"\n      }\n    },\n    {\n      \"column\": \"ema_15\",\n      \"properties\": {\n        \"dtype\": \"number\",\n        \"std\": 0.03035160097546189,\n        \"min\": 157.54629821713993,\n        \"max\": 157.61013769768294,\n        \"samples\": [\n          157.5498855585277,\n          157.61013769768294,\n          157.56365032147542\n        ],\n        \"num_unique_values\": 5,\n        \"semantic_type\": \"\",\n        \"description\": \"\"\n      }\n    },\n    {\n      \"column\": \"ema_5-ema_15\",\n      \"properties\": {\n        \"dtype\": \"number\",\n        \"std\": 0.02212399693083226,\n        \"min\": 0.0498176192861024,\n        \"max\": 0.10542473438289335,\n        \"samples\": [\n          0.0498176192861024,\n          0.07977272739847763,\n          0.056153017770242286\n        ],\n        \"num_unique_values\": 5,\n        \"semantic_type\": \"\",\n        \"description\": \"\"\n      }\n    },\n    {\n      \"column\": \"Open-Close\",\n      \"properties\": {\n        \"dtype\": \"number\",\n        \"std\": 0.008882312677977877,\n        \"min\": -0.0093994140625,\n        \"max\": 0.0099945068359375,\n        \"samples\": [\n          -0.0049896240234375,\n          0.0099945068359375,\n          -0.0093994140625\n        ],\n        \"num_unique_values\": 4,\n        \"semantic_type\": \"\",\n        \"description\": \"\"\n      }\n    },\n    {\n      \"column\": \"Open-Open\",\n      \"properties\": {\n        \"dtype\": \"number\",\n        \"std\": 0.32985687892892196,\n        \"min\": -0.4805908203125,\n        \"max\": 0.30999755859375,\n        \"samples\": [\n          -0.4805908203125,\n          0.2299957275390625,\n          0.30999755859375\n        ],\n        \"num_unique_values\": 5,\n        \"semantic_type\": \"\",\n        \"description\": \"\"\n      }\n    }\n  ]\n}"
            }
          },
          "metadata": {},
          "execution_count": 250
        }
      ]
    },
    {
      "cell_type": "markdown",
      "source": [
        "Define Target/Dependent Variable"
      ],
      "metadata": {
        "id": "KvEKmiOyGxWI"
      }
    },
    {
      "cell_type": "code",
      "source": [
        "y = np.where(wmt_df['Close'].shift(-1) > wmt_df['Close'],1,-1)"
      ],
      "metadata": {
        "id": "QF1U7jufGzI1"
      },
      "execution_count": 251,
      "outputs": []
    },
    {
      "cell_type": "code",
      "source": [
        "y"
      ],
      "metadata": {
        "colab": {
          "base_uri": "https://localhost:8080/"
        },
        "id": "wPEBdienHkY_",
        "outputId": "d76aa22c-a668-41a8-9cea-dca974c46f0d"
      },
      "execution_count": 252,
      "outputs": [
        {
          "output_type": "execute_result",
          "data": {
            "text/plain": [
              "array([ 1,  1, -1, ...,  1, -1, -1])"
            ]
          },
          "metadata": {},
          "execution_count": 252
        }
      ]
    },
    {
      "cell_type": "markdown",
      "source": [
        "Split The Dataset"
      ],
      "metadata": {
        "id": "6-mNkBfJHEBG"
      }
    },
    {
      "cell_type": "code",
      "source": [
        "split = int(0.7*len(wmt_df))\n",
        "X_train, X_test, y_train, y_test = X[:split], X[split:], y[:split], y[split:]"
      ],
      "metadata": {
        "id": "daCloUx9HFag"
      },
      "execution_count": 253,
      "outputs": []
    },
    {
      "cell_type": "code",
      "source": [
        "X_train.shape\n"
      ],
      "metadata": {
        "colab": {
          "base_uri": "https://localhost:8080/"
        },
        "id": "gpwhrT75m2ms",
        "outputId": "de14c228-3f44-4086-daab-aecd81321f31"
      },
      "execution_count": 254,
      "outputs": [
        {
          "output_type": "execute_result",
          "data": {
            "text/plain": [
              "(1216, 10)"
            ]
          },
          "metadata": {},
          "execution_count": 254
        }
      ]
    },
    {
      "cell_type": "markdown",
      "source": [
        "Instantiate The Logistic Regression in Python"
      ],
      "metadata": {
        "id": "h6kgI6R3HPk5"
      }
    },
    {
      "cell_type": "code",
      "source": [
        "logis = LogisticRegression()\n",
        "logis = logis.fit(X_train,y_train)"
      ],
      "metadata": {
        "id": "zQVHdEyHHQ1t"
      },
      "execution_count": 255,
      "outputs": []
    },
    {
      "cell_type": "markdown",
      "source": [
        "Examine The Coefficients"
      ],
      "metadata": {
        "id": "Hb9Q87NIJbKc"
      }
    },
    {
      "cell_type": "code",
      "source": [
        "pd.DataFrame(zip(X.columns, np.transpose(logis.coef_)))"
      ],
      "metadata": {
        "colab": {
          "base_uri": "https://localhost:8080/",
          "height": 363
        },
        "id": "LpJNqi24Jcco",
        "outputId": "406a98ca-eedd-468f-e655-a99d189feedf"
      },
      "execution_count": 256,
      "outputs": [
        {
          "output_type": "execute_result",
          "data": {
            "text/plain": [
              "              0                         1\n",
              "0          Open   [0.0002948779304848202]\n",
              "1          High  [0.00029527879099758216]\n",
              "2           Low   [0.0002933116654589178]\n",
              "3         Close  [0.00029481935351831665]\n",
              "4        Volume  [-1.988199907653472e-07]\n",
              "5         ema_5  [0.00029484657842252193]\n",
              "6        ema_15   [0.0002942933950676949]\n",
              "7  ema_5-ema_15   [5.531833548267845e-07]\n",
              "8    Open-Close   [5.175651593954503e-08]\n",
              "9     Open-Open  [-6.062637617159437e-08]"
            ],
            "text/html": [
              "\n",
              "  <div id=\"df-1328fb89-0321-419b-817a-f87c6949124f\" class=\"colab-df-container\">\n",
              "    <div>\n",
              "<style scoped>\n",
              "    .dataframe tbody tr th:only-of-type {\n",
              "        vertical-align: middle;\n",
              "    }\n",
              "\n",
              "    .dataframe tbody tr th {\n",
              "        vertical-align: top;\n",
              "    }\n",
              "\n",
              "    .dataframe thead th {\n",
              "        text-align: right;\n",
              "    }\n",
              "</style>\n",
              "<table border=\"1\" class=\"dataframe\">\n",
              "  <thead>\n",
              "    <tr style=\"text-align: right;\">\n",
              "      <th></th>\n",
              "      <th>0</th>\n",
              "      <th>1</th>\n",
              "    </tr>\n",
              "  </thead>\n",
              "  <tbody>\n",
              "    <tr>\n",
              "      <th>0</th>\n",
              "      <td>Open</td>\n",
              "      <td>[0.0002948779304848202]</td>\n",
              "    </tr>\n",
              "    <tr>\n",
              "      <th>1</th>\n",
              "      <td>High</td>\n",
              "      <td>[0.00029527879099758216]</td>\n",
              "    </tr>\n",
              "    <tr>\n",
              "      <th>2</th>\n",
              "      <td>Low</td>\n",
              "      <td>[0.0002933116654589178]</td>\n",
              "    </tr>\n",
              "    <tr>\n",
              "      <th>3</th>\n",
              "      <td>Close</td>\n",
              "      <td>[0.00029481935351831665]</td>\n",
              "    </tr>\n",
              "    <tr>\n",
              "      <th>4</th>\n",
              "      <td>Volume</td>\n",
              "      <td>[-1.988199907653472e-07]</td>\n",
              "    </tr>\n",
              "    <tr>\n",
              "      <th>5</th>\n",
              "      <td>ema_5</td>\n",
              "      <td>[0.00029484657842252193]</td>\n",
              "    </tr>\n",
              "    <tr>\n",
              "      <th>6</th>\n",
              "      <td>ema_15</td>\n",
              "      <td>[0.0002942933950676949]</td>\n",
              "    </tr>\n",
              "    <tr>\n",
              "      <th>7</th>\n",
              "      <td>ema_5-ema_15</td>\n",
              "      <td>[5.531833548267845e-07]</td>\n",
              "    </tr>\n",
              "    <tr>\n",
              "      <th>8</th>\n",
              "      <td>Open-Close</td>\n",
              "      <td>[5.175651593954503e-08]</td>\n",
              "    </tr>\n",
              "    <tr>\n",
              "      <th>9</th>\n",
              "      <td>Open-Open</td>\n",
              "      <td>[-6.062637617159437e-08]</td>\n",
              "    </tr>\n",
              "  </tbody>\n",
              "</table>\n",
              "</div>\n",
              "    <div class=\"colab-df-buttons\">\n",
              "\n",
              "  <div class=\"colab-df-container\">\n",
              "    <button class=\"colab-df-convert\" onclick=\"convertToInteractive('df-1328fb89-0321-419b-817a-f87c6949124f')\"\n",
              "            title=\"Convert this dataframe to an interactive table.\"\n",
              "            style=\"display:none;\">\n",
              "\n",
              "  <svg xmlns=\"http://www.w3.org/2000/svg\" height=\"24px\" viewBox=\"0 -960 960 960\">\n",
              "    <path d=\"M120-120v-720h720v720H120Zm60-500h600v-160H180v160Zm220 220h160v-160H400v160Zm0 220h160v-160H400v160ZM180-400h160v-160H180v160Zm440 0h160v-160H620v160ZM180-180h160v-160H180v160Zm440 0h160v-160H620v160Z\"/>\n",
              "  </svg>\n",
              "    </button>\n",
              "\n",
              "  <style>\n",
              "    .colab-df-container {\n",
              "      display:flex;\n",
              "      gap: 12px;\n",
              "    }\n",
              "\n",
              "    .colab-df-convert {\n",
              "      background-color: #E8F0FE;\n",
              "      border: none;\n",
              "      border-radius: 50%;\n",
              "      cursor: pointer;\n",
              "      display: none;\n",
              "      fill: #1967D2;\n",
              "      height: 32px;\n",
              "      padding: 0 0 0 0;\n",
              "      width: 32px;\n",
              "    }\n",
              "\n",
              "    .colab-df-convert:hover {\n",
              "      background-color: #E2EBFA;\n",
              "      box-shadow: 0px 1px 2px rgba(60, 64, 67, 0.3), 0px 1px 3px 1px rgba(60, 64, 67, 0.15);\n",
              "      fill: #174EA6;\n",
              "    }\n",
              "\n",
              "    .colab-df-buttons div {\n",
              "      margin-bottom: 4px;\n",
              "    }\n",
              "\n",
              "    [theme=dark] .colab-df-convert {\n",
              "      background-color: #3B4455;\n",
              "      fill: #D2E3FC;\n",
              "    }\n",
              "\n",
              "    [theme=dark] .colab-df-convert:hover {\n",
              "      background-color: #434B5C;\n",
              "      box-shadow: 0px 1px 3px 1px rgba(0, 0, 0, 0.15);\n",
              "      filter: drop-shadow(0px 1px 2px rgba(0, 0, 0, 0.3));\n",
              "      fill: #FFFFFF;\n",
              "    }\n",
              "  </style>\n",
              "\n",
              "    <script>\n",
              "      const buttonEl =\n",
              "        document.querySelector('#df-1328fb89-0321-419b-817a-f87c6949124f button.colab-df-convert');\n",
              "      buttonEl.style.display =\n",
              "        google.colab.kernel.accessAllowed ? 'block' : 'none';\n",
              "\n",
              "      async function convertToInteractive(key) {\n",
              "        const element = document.querySelector('#df-1328fb89-0321-419b-817a-f87c6949124f');\n",
              "        const dataTable =\n",
              "          await google.colab.kernel.invokeFunction('convertToInteractive',\n",
              "                                                    [key], {});\n",
              "        if (!dataTable) return;\n",
              "\n",
              "        const docLinkHtml = 'Like what you see? Visit the ' +\n",
              "          '<a target=\"_blank\" href=https://colab.research.google.com/notebooks/data_table.ipynb>data table notebook</a>'\n",
              "          + ' to learn more about interactive tables.';\n",
              "        element.innerHTML = '';\n",
              "        dataTable['output_type'] = 'display_data';\n",
              "        await google.colab.output.renderOutput(dataTable, element);\n",
              "        const docLink = document.createElement('div');\n",
              "        docLink.innerHTML = docLinkHtml;\n",
              "        element.appendChild(docLink);\n",
              "      }\n",
              "    </script>\n",
              "  </div>\n",
              "\n",
              "\n",
              "<div id=\"df-bfca0f02-e1c6-4f88-9208-528b5acd8da3\">\n",
              "  <button class=\"colab-df-quickchart\" onclick=\"quickchart('df-bfca0f02-e1c6-4f88-9208-528b5acd8da3')\"\n",
              "            title=\"Suggest charts\"\n",
              "            style=\"display:none;\">\n",
              "\n",
              "<svg xmlns=\"http://www.w3.org/2000/svg\" height=\"24px\"viewBox=\"0 0 24 24\"\n",
              "     width=\"24px\">\n",
              "    <g>\n",
              "        <path d=\"M19 3H5c-1.1 0-2 .9-2 2v14c0 1.1.9 2 2 2h14c1.1 0 2-.9 2-2V5c0-1.1-.9-2-2-2zM9 17H7v-7h2v7zm4 0h-2V7h2v10zm4 0h-2v-4h2v4z\"/>\n",
              "    </g>\n",
              "</svg>\n",
              "  </button>\n",
              "\n",
              "<style>\n",
              "  .colab-df-quickchart {\n",
              "      --bg-color: #E8F0FE;\n",
              "      --fill-color: #1967D2;\n",
              "      --hover-bg-color: #E2EBFA;\n",
              "      --hover-fill-color: #174EA6;\n",
              "      --disabled-fill-color: #AAA;\n",
              "      --disabled-bg-color: #DDD;\n",
              "  }\n",
              "\n",
              "  [theme=dark] .colab-df-quickchart {\n",
              "      --bg-color: #3B4455;\n",
              "      --fill-color: #D2E3FC;\n",
              "      --hover-bg-color: #434B5C;\n",
              "      --hover-fill-color: #FFFFFF;\n",
              "      --disabled-bg-color: #3B4455;\n",
              "      --disabled-fill-color: #666;\n",
              "  }\n",
              "\n",
              "  .colab-df-quickchart {\n",
              "    background-color: var(--bg-color);\n",
              "    border: none;\n",
              "    border-radius: 50%;\n",
              "    cursor: pointer;\n",
              "    display: none;\n",
              "    fill: var(--fill-color);\n",
              "    height: 32px;\n",
              "    padding: 0;\n",
              "    width: 32px;\n",
              "  }\n",
              "\n",
              "  .colab-df-quickchart:hover {\n",
              "    background-color: var(--hover-bg-color);\n",
              "    box-shadow: 0 1px 2px rgba(60, 64, 67, 0.3), 0 1px 3px 1px rgba(60, 64, 67, 0.15);\n",
              "    fill: var(--button-hover-fill-color);\n",
              "  }\n",
              "\n",
              "  .colab-df-quickchart-complete:disabled,\n",
              "  .colab-df-quickchart-complete:disabled:hover {\n",
              "    background-color: var(--disabled-bg-color);\n",
              "    fill: var(--disabled-fill-color);\n",
              "    box-shadow: none;\n",
              "  }\n",
              "\n",
              "  .colab-df-spinner {\n",
              "    border: 2px solid var(--fill-color);\n",
              "    border-color: transparent;\n",
              "    border-bottom-color: var(--fill-color);\n",
              "    animation:\n",
              "      spin 1s steps(1) infinite;\n",
              "  }\n",
              "\n",
              "  @keyframes spin {\n",
              "    0% {\n",
              "      border-color: transparent;\n",
              "      border-bottom-color: var(--fill-color);\n",
              "      border-left-color: var(--fill-color);\n",
              "    }\n",
              "    20% {\n",
              "      border-color: transparent;\n",
              "      border-left-color: var(--fill-color);\n",
              "      border-top-color: var(--fill-color);\n",
              "    }\n",
              "    30% {\n",
              "      border-color: transparent;\n",
              "      border-left-color: var(--fill-color);\n",
              "      border-top-color: var(--fill-color);\n",
              "      border-right-color: var(--fill-color);\n",
              "    }\n",
              "    40% {\n",
              "      border-color: transparent;\n",
              "      border-right-color: var(--fill-color);\n",
              "      border-top-color: var(--fill-color);\n",
              "    }\n",
              "    60% {\n",
              "      border-color: transparent;\n",
              "      border-right-color: var(--fill-color);\n",
              "    }\n",
              "    80% {\n",
              "      border-color: transparent;\n",
              "      border-right-color: var(--fill-color);\n",
              "      border-bottom-color: var(--fill-color);\n",
              "    }\n",
              "    90% {\n",
              "      border-color: transparent;\n",
              "      border-bottom-color: var(--fill-color);\n",
              "    }\n",
              "  }\n",
              "</style>\n",
              "\n",
              "  <script>\n",
              "    async function quickchart(key) {\n",
              "      const quickchartButtonEl =\n",
              "        document.querySelector('#' + key + ' button');\n",
              "      quickchartButtonEl.disabled = true;  // To prevent multiple clicks.\n",
              "      quickchartButtonEl.classList.add('colab-df-spinner');\n",
              "      try {\n",
              "        const charts = await google.colab.kernel.invokeFunction(\n",
              "            'suggestCharts', [key], {});\n",
              "      } catch (error) {\n",
              "        console.error('Error during call to suggestCharts:', error);\n",
              "      }\n",
              "      quickchartButtonEl.classList.remove('colab-df-spinner');\n",
              "      quickchartButtonEl.classList.add('colab-df-quickchart-complete');\n",
              "    }\n",
              "    (() => {\n",
              "      let quickchartButtonEl =\n",
              "        document.querySelector('#df-bfca0f02-e1c6-4f88-9208-528b5acd8da3 button');\n",
              "      quickchartButtonEl.style.display =\n",
              "        google.colab.kernel.accessAllowed ? 'block' : 'none';\n",
              "    })();\n",
              "  </script>\n",
              "</div>\n",
              "    </div>\n",
              "  </div>\n"
            ],
            "application/vnd.google.colaboratory.intrinsic+json": {
              "type": "dataframe",
              "repr_error": "unhashable type: 'numpy.ndarray'"
            }
          },
          "metadata": {},
          "execution_count": 256
        }
      ]
    },
    {
      "cell_type": "markdown",
      "source": [
        "Calculate Class Probabilities"
      ],
      "metadata": {
        "id": "OMMu37LCJlvx"
      }
    },
    {
      "cell_type": "code",
      "source": [
        "# Specify the date for prediction\n",
        "prediction_date = '2023-09-20'\n",
        "probability = logis.predict_proba(X_test)\n",
        "print(probability)"
      ],
      "metadata": {
        "colab": {
          "base_uri": "https://localhost:8080/"
        },
        "id": "ie-jiXbzKlfx",
        "outputId": "c38701e6-5efe-47f7-d2ac-bb2c691738c4"
      },
      "execution_count": 257,
      "outputs": [
        {
          "output_type": "stream",
          "name": "stdout",
          "text": [
            "[[0.4672626  0.5327374 ]\n",
            " [0.45641413 0.54358587]\n",
            " [0.45277228 0.54722772]\n",
            " ...\n",
            " [0.45696051 0.54303949]\n",
            " [0.47027375 0.52972625]\n",
            " [0.50881884 0.49118116]]\n"
          ]
        }
      ]
    },
    {
      "cell_type": "code",
      "source": [
        "print(X_test.tail())\n"
      ],
      "metadata": {
        "colab": {
          "base_uri": "https://localhost:8080/"
        },
        "id": "8wNTJCVUQ201",
        "outputId": "7e055540-790c-4906-b36f-e1b2290a402f"
      },
      "execution_count": 258,
      "outputs": [
        {
          "output_type": "stream",
          "name": "stdout",
          "text": [
            "                                 Open        High         Low       Close  \\\n",
            "Datetime                                                                    \n",
            "2023-12-29 11:30:00-05:00  157.750595  157.820007  157.160004  157.274994   \n",
            "2023-12-29 12:30:00-05:00  157.270004  157.690002  157.240005  157.574997   \n",
            "2023-12-29 13:30:00-05:00  157.580002  157.809998  157.559998  157.660004   \n",
            "2023-12-29 14:30:00-05:00  157.669998  157.929993  157.639999  157.889999   \n",
            "2023-12-29 15:30:00-05:00  157.899994  158.020004  157.649994  157.649994   \n",
            "\n",
            "                            Volume       ema_5      ema_15  ema_5-ema_15  \\\n",
            "Datetime                                                                   \n",
            "2023-12-29 11:30:00-05:00   468988  157.612056  157.546298      0.065758   \n",
            "2023-12-29 12:30:00-05:00   457363  157.599703  157.549886      0.049818   \n",
            "2023-12-29 13:30:00-05:00   533250  157.619803  157.563650      0.056153   \n",
            "2023-12-29 14:30:00-05:00   803502  157.709869  157.604444      0.105425   \n",
            "2023-12-29 15:30:00-05:00  1579816  157.689910  157.610138      0.079773   \n",
            "\n",
            "                           Open-Close  Open-Open  \n",
            "Datetime                                          \n",
            "2023-12-29 11:30:00-05:00   -0.009399  -0.219406  \n",
            "2023-12-29 12:30:00-05:00   -0.004990  -0.480591  \n",
            "2023-12-29 13:30:00-05:00    0.005005   0.309998  \n",
            "2023-12-29 14:30:00-05:00    0.009995   0.089996  \n",
            "2023-12-29 15:30:00-05:00    0.009995   0.229996  \n"
          ]
        }
      ]
    },
    {
      "cell_type": "markdown",
      "source": [
        "Predict Class Labels"
      ],
      "metadata": {
        "id": "PGNqWT0pLQZn"
      }
    },
    {
      "cell_type": "code",
      "source": [
        "predicted = logis.predict(X_test)"
      ],
      "metadata": {
        "id": "seb21mAuLR_L"
      },
      "execution_count": 259,
      "outputs": []
    },
    {
      "cell_type": "code",
      "source": [
        "print(predicted)\n",
        "print(len(predicted))"
      ],
      "metadata": {
        "colab": {
          "base_uri": "https://localhost:8080/"
        },
        "id": "k1v2u4XmLVPi",
        "outputId": "3b89f40d-e318-4aa4-9b62-a8c0aa2749a0"
      },
      "execution_count": 260,
      "outputs": [
        {
          "output_type": "stream",
          "name": "stdout",
          "text": [
            "[ 1  1  1  1  1  1  1  1 -1  1  1  1  1  1 -1  1  1  1  1  1  1  1  1  1\n",
            "  1  1  1  1  1  1  1  1  1  1  1  1  1  1  1  1  1  1  1  1  1  1  1  1\n",
            "  1  1  1  1  1  1  1  1  1  1  1  1  1  1  1  1  1  1  1  1  1  1  1  1\n",
            "  1  1  1  1  1  1  1  1  1  1  1  1  1  1  1  1  1  1  1  1  1  1  1  1\n",
            "  1  1  1  1  1  1  1  1  1  1  1  1  1  1  1  1  1 -1 -1  1  1  1 -1 -1\n",
            " -1  1  1  1  1  1  1  1  1  1  1  1  1  1  1  1  1  1  1  1  1  1  1  1\n",
            "  1  1  1  1  1  1  1  1  1  1  1  1  1  1  1  1  1  1  1  1  1  1  1  1\n",
            "  1  1  1  1  1  1  1  1  1  1  1  1  1  1  1  1  1  1  1  1  1  1  1  1\n",
            "  1  1  1  1  1  1  1  1  1  1  1  1  1  1  1  1  1  1  1  1  1  1  1  1\n",
            "  1  1  1  1  1  1  1  1  1  1  1  1  1  1  1  1  1  1  1  1  1  1  1  1\n",
            "  1  1  1  1  1  1  1  1  1  1  1  1  1  1  1  1  1  1  1  1  1  1  1  1\n",
            "  1  1  1  1  1  1  1  1  1  1  1  1  1  1  1  1  1  1  1  1  1  1  1  1\n",
            "  1  1  1  1  1  1  1  1  1  1  1  1  1  1  1  1  1  1  1  1  1 -1 -1  1\n",
            "  1  1  1 -1 -1 -1 -1 -1 -1 -1 -1 -1 -1  1  1  1  1 -1 -1  1  1  1  1  1\n",
            " -1 -1  1  1  1  1  1 -1 -1  1  1  1  1  1 -1 -1  1  1 -1  1  1  1  1  1\n",
            "  1  1  1  1  1  1  1  1 -1 -1  1  1  1  1  1 -1 -1  1  1  1  1 -1 -1 -1\n",
            " -1  1  1  1 -1 -1  1  1  1  1  1  1  1  1  1  1  1  1  1 -1  1  1  1  1\n",
            "  1  1 -1  1  1  1  1  1  1 -1 -1  1  1  1 -1 -1 -1  1  1  1  1 -1 -1 -1\n",
            "  1  1  1  1  1  1 -1  1  1  1  1 -1 -1 -1  1  1  1  1  1 -1 -1  1  1  1\n",
            "  1  1 -1 -1  1  1  1  1  1  1 -1  1  1  1  1  1  1  1  1  1  1  1  1 -1\n",
            "  1  1  1  1  1  1  1 -1  1  1  1  1  1  1  1  1  1  1  1  1  1  1  1  1\n",
            "  1  1  1  1  1  1  1  1  1  1  1  1  1  1  1  1  1 -1]\n",
            "522\n"
          ]
        }
      ]
    },
    {
      "cell_type": "markdown",
      "source": [
        "Evaluate The Model"
      ],
      "metadata": {
        "id": "xuh9tjV5L3K1"
      }
    },
    {
      "cell_type": "code",
      "source": [
        "print(metrics.confusion_matrix(y_test, predicted))"
      ],
      "metadata": {
        "colab": {
          "base_uri": "https://localhost:8080/"
        },
        "id": "4zXRNt35L5Z3",
        "outputId": "a91c0193-8f61-4154-fba6-089e241a7da6"
      },
      "execution_count": 261,
      "outputs": [
        {
          "output_type": "stream",
          "name": "stdout",
          "text": [
            "[[ 29 214]\n",
            " [ 31 248]]\n"
          ]
        }
      ]
    },
    {
      "cell_type": "code",
      "source": [
        "print(metrics.classification_report(y_test, predicted))"
      ],
      "metadata": {
        "colab": {
          "base_uri": "https://localhost:8080/"
        },
        "id": "Q4wFT-6OMAFZ",
        "outputId": "c2b7d84d-c3ba-40da-f893-2ed5a0dfa69a"
      },
      "execution_count": 262,
      "outputs": [
        {
          "output_type": "stream",
          "name": "stdout",
          "text": [
            "              precision    recall  f1-score   support\n",
            "\n",
            "          -1       0.48      0.12      0.19       243\n",
            "           1       0.54      0.89      0.67       279\n",
            "\n",
            "    accuracy                           0.53       522\n",
            "   macro avg       0.51      0.50      0.43       522\n",
            "weighted avg       0.51      0.53      0.45       522\n",
            "\n"
          ]
        }
      ]
    },
    {
      "cell_type": "markdown",
      "source": [
        "Create Trading Strategy Using The Model"
      ],
      "metadata": {
        "id": "PUm2CTtTMM76"
      }
    },
    {
      "cell_type": "code",
      "source": [
        "wmt_df['Predicted_Signal'] = logis.predict(X)\n",
        "wmt_df['WMT_returns'] = np.log(wmt_df['Close']/wmt_df['Close'].shift(1))\n",
        "Cumulative_WMT_returns = np.cumsum(wmt_df[split:]['WMT_returns'])\n",
        "\n",
        "\n",
        "wmt_df['Strategy_returns'] = wmt_df['WMT_returns']* wmt_df['Predicted_Signal'].shift(1)\n",
        "Cumulative_Strategy_returns = np.cumsum(wmt_df[split:]['Strategy_returns'])\n",
        "plt.figure(figsize=(10,5))\n",
        "plt.plot(Cumulative_Strategy_returns, color='g', label = 'Strategy Returns')\n",
        "plt.legend()\n",
        "plt.show()"
      ],
      "metadata": {
        "colab": {
          "base_uri": "https://localhost:8080/",
          "height": 445
        },
        "id": "umNFwqrsMOkP",
        "outputId": "c97110ee-aa9c-4bb9-a88a-8a5df3a0a24f"
      },
      "execution_count": 263,
      "outputs": [
        {
          "output_type": "display_data",
          "data": {
            "text/plain": [
              "<Figure size 1000x500 with 1 Axes>"
            ],
            "image/png": "[encoded data removed]"
          },
          "metadata": {}
        }
      ]
    }
  ]
}