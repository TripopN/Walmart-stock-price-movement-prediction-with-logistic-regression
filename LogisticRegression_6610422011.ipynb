{
  "nbformat": 4,
  "nbformat_minor": 0,
  "metadata": {
    "colab": {
      "provenance": [],
      "collapsed_sections": [
        "0TKkkoLa58bM",
        "ORLmfJpt6dDy",
        "JRB2UjU7k4id",
        "3vgr2Qu_k7pf",
        "XlerRiDugCLO",
        "IJAgKKj4878x",
        "jz5Gf0teknwG",
        "vMIlpunvf2qs",
        "6-mNkBfJHEBG"
      ],
      "authorship_tag": "ABX9TyN13tsxwgmvRB+l7kFqsoK+",
      "include_colab_link": true
    },
    "kernelspec": {
      "name": "python3",
      "display_name": "Python 3"
    },
    "language_info": {
      "name": "python"
    }
  },
  "cells": [
    {
      "cell_type": "markdown",
      "metadata": {
        "id": "view-in-github",
        "colab_type": "text"
      },
      "source": [
        "<a href=\"https://colab.research.google.com/github/TripopN/Walmart-stock-price-movement-prediction-with-logistic-regression/blob/main/LogisticRegression_6610422011.ipynb\" target=\"_parent\"><img src=\"https://colab.research.google.com/assets/colab-badge.svg\" alt=\"Open In Colab\"/></a>"
      ]
    },
    {
      "cell_type": "markdown",
      "source": [
        "## Import necessary lib"
      ],
      "metadata": {
        "id": "0TKkkoLa58bM"
      }
    },
    {
      "cell_type": "code",
      "source": [
        "url = 'https://anaconda.org/conda-forge/libta-lib/0.4.0/download/linux-64/libta-lib-0.4.0-h166bdaf_1.tar.bz2'\n",
        "!curl -L $url | tar xj -C /usr/lib/x86_64-linux-gnu/ lib --strip-components=1\n",
        "url = 'https://anaconda.org/conda-forge/ta-lib/0.4.19/download/linux-64/ta-lib-0.4.19-py310hde88566_4.tar.bz2'\n",
        "!curl -L $url | tar xj -C /usr/local/lib/python3.10/dist-packages/ lib/python3.10/site-packages/talib --strip-components=3\n",
        "import talib"
      ],
      "metadata": {
        "colab": {
          "base_uri": "https://localhost:8080/"
        },
        "id": "GfkXxCJMQ4M8",
        "outputId": "f3a02eae-2c98-45c0-f8da-778ef475caf2"
      },
      "execution_count": 2,
      "outputs": [
        {
          "output_type": "stream",
          "name": "stdout",
          "text": [
            "  % Total    % Received % Xferd  Average Speed   Time    Time     Time  Current\n",
            "                                 Dload  Upload   Total   Spent    Left  Speed\n",
            "100  4532    0  4532    0     0  15196      0 --:--:-- --:--:-- --:--:-- 15157\n",
            "100  517k  100  517k    0     0   526k      0 --:--:-- --:--:-- --:--:--  526k\n",
            "  % Total    % Received % Xferd  Average Speed   Time    Time     Time  Current\n",
            "                                 Dload  Upload   Total   Spent    Left  Speed\n",
            "100  4520    0  4520    0     0  14794      0 --:--:-- --:--:-- --:--:-- 14771\n",
            "100  392k  100  392k    0     0   507k      0 --:--:-- --:--:-- --:--:--  507k\n"
          ]
        }
      ]
    },
    {
      "cell_type": "code",
      "execution_count": 3,
      "metadata": {
        "id": "ZdGr7ANI0azq",
        "colab": {
          "base_uri": "https://localhost:8080/"
        },
        "outputId": "28385018-c30c-4265-a3ae-817f4afcc5e5"
      },
      "outputs": [
        {
          "output_type": "stream",
          "name": "stderr",
          "text": [
            "/usr/local/lib/python3.10/dist-packages/yfinance/base.py:48: FutureWarning: The default dtype for empty Series will be 'object' instead of 'float64' in a future version. Specify a dtype explicitly to silence this warning.\n",
            "  _empty_series = pd.Series()\n"
          ]
        }
      ],
      "source": [
        "import numpy as np\n",
        "import pandas as pd\n",
        "import matplotlib.pyplot as plt\n",
        "import yfinance as yf\n",
        "from sklearn.linear_model import LogisticRegression\n",
        "from sklearn import metrics\n",
        "from sklearn.model_selection import cross_val_score\n",
        "import talib as ta\n",
        "from sklearn.model_selection import train_test_split"
      ]
    },
    {
      "cell_type": "markdown",
      "source": [
        "## Get **Walmart** stock price from yahoo finance."
      ],
      "metadata": {
        "id": "ORLmfJpt6dDy"
      }
    },
    {
      "cell_type": "code",
      "source": [
        "wmt = yf.Ticker('wmt')\n",
        "interval = '1h'\n",
        "start = '2022-03-1'\n",
        "end = '2023-12-31'\n",
        "df = wmt.history(interval=interval,start=start,end=end)"
      ],
      "metadata": {
        "id": "pR69Woon6OAb"
      },
      "execution_count": 31,
      "outputs": []
    },
    {
      "cell_type": "code",
      "source": [
        "wmt_df =df.copy()"
      ],
      "metadata": {
        "id": "BKpXb8nWiliF"
      },
      "execution_count": 32,
      "outputs": []
    },
    {
      "cell_type": "markdown",
      "source": [
        "## Data Overview"
      ],
      "metadata": {
        "id": "JRB2UjU7k4id"
      }
    },
    {
      "cell_type": "code",
      "source": [
        "wmt_df.head()"
      ],
      "metadata": {
        "colab": {
          "base_uri": "https://localhost:8080/",
          "height": 237
        },
        "id": "rxR4hDCPCQK7",
        "outputId": "81f1454e-c8dc-4619-f46b-87ad7d8848a7"
      },
      "execution_count": 15,
      "outputs": [
        {
          "output_type": "execute_result",
          "data": {
            "text/plain": [
              "                                 Open        High         Low       Close  \\\n",
              "Datetime                                                                    \n",
              "2022-03-01 09:30:00-05:00  135.869995  137.889999  135.649994  137.160004   \n",
              "2022-03-01 10:30:00-05:00  137.130005  137.720001  136.889999  137.510101   \n",
              "2022-03-01 11:30:00-05:00  137.520004  137.520004  135.740005  135.850006   \n",
              "2022-03-01 12:30:00-05:00  135.855103  136.360001  135.369995  135.389999   \n",
              "2022-03-01 13:30:00-05:00  135.398499  135.789993  135.020004  135.619995   \n",
              "\n",
              "                            Volume  Dividends  Stock Splits  \n",
              "Datetime                                                     \n",
              "2022-03-01 09:30:00-05:00  1832286        0.0           0.0  \n",
              "2022-03-01 10:30:00-05:00   873266        0.0           0.0  \n",
              "2022-03-01 11:30:00-05:00   730723        0.0           0.0  \n",
              "2022-03-01 12:30:00-05:00   531727        0.0           0.0  \n",
              "2022-03-01 13:30:00-05:00   622989        0.0           0.0  "
            ],
            "text/html": [
              "\n",
              "  <div id=\"df-ebdc2e73-32ae-4b21-8ade-bb79ea083c11\" class=\"colab-df-container\">\n",
              "    <div>\n",
              "<style scoped>\n",
              "    .dataframe tbody tr th:only-of-type {\n",
              "        vertical-align: middle;\n",
              "    }\n",
              "\n",
              "    .dataframe tbody tr th {\n",
              "        vertical-align: top;\n",
              "    }\n",
              "\n",
              "    .dataframe thead th {\n",
              "        text-align: right;\n",
              "    }\n",
              "</style>\n",
              "<table border=\"1\" class=\"dataframe\">\n",
              "  <thead>\n",
              "    <tr style=\"text-align: right;\">\n",
              "      <th></th>\n",
              "      <th>Open</th>\n",
              "      <th>High</th>\n",
              "      <th>Low</th>\n",
              "      <th>Close</th>\n",
              "      <th>Volume</th>\n",
              "      <th>Dividends</th>\n",
              "      <th>Stock Splits</th>\n",
              "    </tr>\n",
              "    <tr>\n",
              "      <th>Datetime</th>\n",
              "      <th></th>\n",
              "      <th></th>\n",
              "      <th></th>\n",
              "      <th></th>\n",
              "      <th></th>\n",
              "      <th></th>\n",
              "      <th></th>\n",
              "    </tr>\n",
              "  </thead>\n",
              "  <tbody>\n",
              "    <tr>\n",
              "      <th>2022-03-01 09:30:00-05:00</th>\n",
              "      <td>135.869995</td>\n",
              "      <td>137.889999</td>\n",
              "      <td>135.649994</td>\n",
              "      <td>137.160004</td>\n",
              "      <td>1832286</td>\n",
              "      <td>0.0</td>\n",
              "      <td>0.0</td>\n",
              "    </tr>\n",
              "    <tr>\n",
              "      <th>2022-03-01 10:30:00-05:00</th>\n",
              "      <td>137.130005</td>\n",
              "      <td>137.720001</td>\n",
              "      <td>136.889999</td>\n",
              "      <td>137.510101</td>\n",
              "      <td>873266</td>\n",
              "      <td>0.0</td>\n",
              "      <td>0.0</td>\n",
              "    </tr>\n",
              "    <tr>\n",
              "      <th>2022-03-01 11:30:00-05:00</th>\n",
              "      <td>137.520004</td>\n",
              "      <td>137.520004</td>\n",
              "      <td>135.740005</td>\n",
              "      <td>135.850006</td>\n",
              "      <td>730723</td>\n",
              "      <td>0.0</td>\n",
              "      <td>0.0</td>\n",
              "    </tr>\n",
              "    <tr>\n",
              "      <th>2022-03-01 12:30:00-05:00</th>\n",
              "      <td>135.855103</td>\n",
              "      <td>136.360001</td>\n",
              "      <td>135.369995</td>\n",
              "      <td>135.389999</td>\n",
              "      <td>531727</td>\n",
              "      <td>0.0</td>\n",
              "      <td>0.0</td>\n",
              "    </tr>\n",
              "    <tr>\n",
              "      <th>2022-03-01 13:30:00-05:00</th>\n",
              "      <td>135.398499</td>\n",
              "      <td>135.789993</td>\n",
              "      <td>135.020004</td>\n",
              "      <td>135.619995</td>\n",
              "      <td>622989</td>\n",
              "      <td>0.0</td>\n",
              "      <td>0.0</td>\n",
              "    </tr>\n",
              "  </tbody>\n",
              "</table>\n",
              "</div>\n",
              "    <div class=\"colab-df-buttons\">\n",
              "\n",
              "  <div class=\"colab-df-container\">\n",
              "    <button class=\"colab-df-convert\" onclick=\"convertToInteractive('df-ebdc2e73-32ae-4b21-8ade-bb79ea083c11')\"\n",
              "            title=\"Convert this dataframe to an interactive table.\"\n",
              "            style=\"display:none;\">\n",
              "\n",
              "  <svg xmlns=\"http://www.w3.org/2000/svg\" height=\"24px\" viewBox=\"0 -960 960 960\">\n",
              "    <path d=\"M120-120v-720h720v720H120Zm60-500h600v-160H180v160Zm220 220h160v-160H400v160Zm0 220h160v-160H400v160ZM180-400h160v-160H180v160Zm440 0h160v-160H620v160ZM180-180h160v-160H180v160Zm440 0h160v-160H620v160Z\"/>\n",
              "  </svg>\n",
              "    </button>\n",
              "\n",
              "  <style>\n",
              "    .colab-df-container {\n",
              "      display:flex;\n",
              "      gap: 12px;\n",
              "    }\n",
              "\n",
              "    .colab-df-convert {\n",
              "      background-color: #E8F0FE;\n",
              "      border: none;\n",
              "      border-radius: 50%;\n",
              "      cursor: pointer;\n",
              "      display: none;\n",
              "      fill: #1967D2;\n",
              "      height: 32px;\n",
              "      padding: 0 0 0 0;\n",
              "      width: 32px;\n",
              "    }\n",
              "\n",
              "    .colab-df-convert:hover {\n",
              "      background-color: #E2EBFA;\n",
              "      box-shadow: 0px 1px 2px rgba(60, 64, 67, 0.3), 0px 1px 3px 1px rgba(60, 64, 67, 0.15);\n",
              "      fill: #174EA6;\n",
              "    }\n",
              "\n",
              "    .colab-df-buttons div {\n",
              "      margin-bottom: 4px;\n",
              "    }\n",
              "\n",
              "    [theme=dark] .colab-df-convert {\n",
              "      background-color: #3B4455;\n",
              "      fill: #D2E3FC;\n",
              "    }\n",
              "\n",
              "    [theme=dark] .colab-df-convert:hover {\n",
              "      background-color: #434B5C;\n",
              "      box-shadow: 0px 1px 3px 1px rgba(0, 0, 0, 0.15);\n",
              "      filter: drop-shadow(0px 1px 2px rgba(0, 0, 0, 0.3));\n",
              "      fill: #FFFFFF;\n",
              "    }\n",
              "  </style>\n",
              "\n",
              "    <script>\n",
              "      const buttonEl =\n",
              "        document.querySelector('#df-ebdc2e73-32ae-4b21-8ade-bb79ea083c11 button.colab-df-convert');\n",
              "      buttonEl.style.display =\n",
              "        google.colab.kernel.accessAllowed ? 'block' : 'none';\n",
              "\n",
              "      async function convertToInteractive(key) {\n",
              "        const element = document.querySelector('#df-ebdc2e73-32ae-4b21-8ade-bb79ea083c11');\n",
              "        const dataTable =\n",
              "          await google.colab.kernel.invokeFunction('convertToInteractive',\n",
              "                                                    [key], {});\n",
              "        if (!dataTable) return;\n",
              "\n",
              "        const docLinkHtml = 'Like what you see? Visit the ' +\n",
              "          '<a target=\"_blank\" href=https://colab.research.google.com/notebooks/data_table.ipynb>data table notebook</a>'\n",
              "          + ' to learn more about interactive tables.';\n",
              "        element.innerHTML = '';\n",
              "        dataTable['output_type'] = 'display_data';\n",
              "        await google.colab.output.renderOutput(dataTable, element);\n",
              "        const docLink = document.createElement('div');\n",
              "        docLink.innerHTML = docLinkHtml;\n",
              "        element.appendChild(docLink);\n",
              "      }\n",
              "    </script>\n",
              "  </div>\n",
              "\n",
              "\n",
              "<div id=\"df-5e9574db-b5a0-459d-b839-f1e6d5465856\">\n",
              "  <button class=\"colab-df-quickchart\" onclick=\"quickchart('df-5e9574db-b5a0-459d-b839-f1e6d5465856')\"\n",
              "            title=\"Suggest charts\"\n",
              "            style=\"display:none;\">\n",
              "\n",
              "<svg xmlns=\"http://www.w3.org/2000/svg\" height=\"24px\"viewBox=\"0 0 24 24\"\n",
              "     width=\"24px\">\n",
              "    <g>\n",
              "        <path d=\"M19 3H5c-1.1 0-2 .9-2 2v14c0 1.1.9 2 2 2h14c1.1 0 2-.9 2-2V5c0-1.1-.9-2-2-2zM9 17H7v-7h2v7zm4 0h-2V7h2v10zm4 0h-2v-4h2v4z\"/>\n",
              "    </g>\n",
              "</svg>\n",
              "  </button>\n",
              "\n",
              "<style>\n",
              "  .colab-df-quickchart {\n",
              "      --bg-color: #E8F0FE;\n",
              "      --fill-color: #1967D2;\n",
              "      --hover-bg-color: #E2EBFA;\n",
              "      --hover-fill-color: #174EA6;\n",
              "      --disabled-fill-color: #AAA;\n",
              "      --disabled-bg-color: #DDD;\n",
              "  }\n",
              "\n",
              "  [theme=dark] .colab-df-quickchart {\n",
              "      --bg-color: #3B4455;\n",
              "      --fill-color: #D2E3FC;\n",
              "      --hover-bg-color: #434B5C;\n",
              "      --hover-fill-color: #FFFFFF;\n",
              "      --disabled-bg-color: #3B4455;\n",
              "      --disabled-fill-color: #666;\n",
              "  }\n",
              "\n",
              "  .colab-df-quickchart {\n",
              "    background-color: var(--bg-color);\n",
              "    border: none;\n",
              "    border-radius: 50%;\n",
              "    cursor: pointer;\n",
              "    display: none;\n",
              "    fill: var(--fill-color);\n",
              "    height: 32px;\n",
              "    padding: 0;\n",
              "    width: 32px;\n",
              "  }\n",
              "\n",
              "  .colab-df-quickchart:hover {\n",
              "    background-color: var(--hover-bg-color);\n",
              "    box-shadow: 0 1px 2px rgba(60, 64, 67, 0.3), 0 1px 3px 1px rgba(60, 64, 67, 0.15);\n",
              "    fill: var(--button-hover-fill-color);\n",
              "  }\n",
              "\n",
              "  .colab-df-quickchart-complete:disabled,\n",
              "  .colab-df-quickchart-complete:disabled:hover {\n",
              "    background-color: var(--disabled-bg-color);\n",
              "    fill: var(--disabled-fill-color);\n",
              "    box-shadow: none;\n",
              "  }\n",
              "\n",
              "  .colab-df-spinner {\n",
              "    border: 2px solid var(--fill-color);\n",
              "    border-color: transparent;\n",
              "    border-bottom-color: var(--fill-color);\n",
              "    animation:\n",
              "      spin 1s steps(1) infinite;\n",
              "  }\n",
              "\n",
              "  @keyframes spin {\n",
              "    0% {\n",
              "      border-color: transparent;\n",
              "      border-bottom-color: var(--fill-color);\n",
              "      border-left-color: var(--fill-color);\n",
              "    }\n",
              "    20% {\n",
              "      border-color: transparent;\n",
              "      border-left-color: var(--fill-color);\n",
              "      border-top-color: var(--fill-color);\n",
              "    }\n",
              "    30% {\n",
              "      border-color: transparent;\n",
              "      border-left-color: var(--fill-color);\n",
              "      border-top-color: var(--fill-color);\n",
              "      border-right-color: var(--fill-color);\n",
              "    }\n",
              "    40% {\n",
              "      border-color: transparent;\n",
              "      border-right-color: var(--fill-color);\n",
              "      border-top-color: var(--fill-color);\n",
              "    }\n",
              "    60% {\n",
              "      border-color: transparent;\n",
              "      border-right-color: var(--fill-color);\n",
              "    }\n",
              "    80% {\n",
              "      border-color: transparent;\n",
              "      border-right-color: var(--fill-color);\n",
              "      border-bottom-color: var(--fill-color);\n",
              "    }\n",
              "    90% {\n",
              "      border-color: transparent;\n",
              "      border-bottom-color: var(--fill-color);\n",
              "    }\n",
              "  }\n",
              "</style>\n",
              "\n",
              "  <script>\n",
              "    async function quickchart(key) {\n",
              "      const quickchartButtonEl =\n",
              "        document.querySelector('#' + key + ' button');\n",
              "      quickchartButtonEl.disabled = true;  // To prevent multiple clicks.\n",
              "      quickchartButtonEl.classList.add('colab-df-spinner');\n",
              "      try {\n",
              "        const charts = await google.colab.kernel.invokeFunction(\n",
              "            'suggestCharts', [key], {});\n",
              "      } catch (error) {\n",
              "        console.error('Error during call to suggestCharts:', error);\n",
              "      }\n",
              "      quickchartButtonEl.classList.remove('colab-df-spinner');\n",
              "      quickchartButtonEl.classList.add('colab-df-quickchart-complete');\n",
              "    }\n",
              "    (() => {\n",
              "      let quickchartButtonEl =\n",
              "        document.querySelector('#df-5e9574db-b5a0-459d-b839-f1e6d5465856 button');\n",
              "      quickchartButtonEl.style.display =\n",
              "        google.colab.kernel.accessAllowed ? 'block' : 'none';\n",
              "    })();\n",
              "  </script>\n",
              "</div>\n",
              "    </div>\n",
              "  </div>\n"
            ],
            "application/vnd.google.colaboratory.intrinsic+json": {
              "type": "dataframe",
              "variable_name": "wmt_df",
              "summary": "{\n  \"name\": \"wmt_df\",\n  \"rows\": 3222,\n  \"fields\": [\n    {\n      \"column\": \"Open\",\n      \"properties\": {\n        \"dtype\": \"number\",\n        \"std\": 11.894685417750965,\n        \"min\": 117.44999694824219,\n        \"max\": 169.38999938964844,\n        \"num_unique_values\": 2482,\n        \"samples\": [\n          155.52999877929688,\n          131.1999969482422,\n          146.58999633789062\n        ],\n        \"semantic_type\": \"\",\n        \"description\": \"\"\n      }\n    },\n    {\n      \"column\": \"High\",\n      \"properties\": {\n        \"dtype\": \"number\",\n        \"std\": 11.843549790494436,\n        \"min\": 118.5199966430664,\n        \"max\": 169.94000244140625,\n        \"num_unique_values\": 2457,\n        \"samples\": [\n          129.70799255371094,\n          135.0749969482422,\n          150.22000122070312\n        ],\n        \"semantic_type\": \"\",\n        \"description\": \"\"\n      }\n    },\n    {\n      \"column\": \"Low\",\n      \"properties\": {\n        \"dtype\": \"number\",\n        \"std\": 11.924042786591846,\n        \"min\": 117.2699966430664,\n        \"max\": 169.0850067138672,\n        \"num_unique_values\": 2467,\n        \"samples\": [\n          148.9550018310547,\n          148.10000610351562,\n          156.92999267578125\n        ],\n        \"semantic_type\": \"\",\n        \"description\": \"\"\n      }\n    },\n    {\n      \"column\": \"Close\",\n      \"properties\": {\n        \"dtype\": \"number\",\n        \"std\": 11.879393581942434,\n        \"min\": 117.47000122070312,\n        \"max\": 169.77000427246094,\n        \"num_unique_values\": 2585,\n        \"samples\": [\n          124.48699951171875,\n          155.0529022216797,\n          121.97000122070312\n        ],\n        \"semantic_type\": \"\",\n        \"description\": \"\"\n      }\n    },\n    {\n      \"column\": \"Volume\",\n      \"properties\": {\n        \"dtype\": \"number\",\n        \"std\": 765257,\n        \"min\": 0,\n        \"max\": 14724824,\n        \"num_unique_values\": 3217,\n        \"samples\": [\n          763782,\n          467758,\n          570696\n        ],\n        \"semantic_type\": \"\",\n        \"description\": \"\"\n      }\n    },\n    {\n      \"column\": \"Dividends\",\n      \"properties\": {\n        \"dtype\": \"number\",\n        \"std\": 0.028123883778494712,\n        \"min\": 0.0,\n        \"max\": 0.57,\n        \"num_unique_values\": 3,\n        \"samples\": [\n          0.0,\n          0.56,\n          0.57\n        ],\n        \"semantic_type\": \"\",\n        \"description\": \"\"\n      }\n    },\n    {\n      \"column\": \"Stock Splits\",\n      \"properties\": {\n        \"dtype\": \"number\",\n        \"std\": 0.0,\n        \"min\": 0.0,\n        \"max\": 0.0,\n        \"num_unique_values\": 1,\n        \"samples\": [\n          0.0\n        ],\n        \"semantic_type\": \"\",\n        \"description\": \"\"\n      }\n    }\n  ]\n}"
            }
          },
          "metadata": {},
          "execution_count": 15
        }
      ]
    },
    {
      "cell_type": "code",
      "source": [
        "wmt_df.info()"
      ],
      "metadata": {
        "colab": {
          "base_uri": "https://localhost:8080/"
        },
        "id": "A6sd8DQk8e_4",
        "outputId": "6e6226b4-882f-40de-ef4e-d19638a3ba88"
      },
      "execution_count": 17,
      "outputs": [
        {
          "output_type": "stream",
          "name": "stdout",
          "text": [
            "<class 'pandas.core.frame.DataFrame'>\n",
            "DatetimeIndex: 3222 entries, 2022-03-01 09:30:00-05:00 to 2023-12-29 15:30:00-05:00\n",
            "Data columns (total 5 columns):\n",
            " #   Column  Non-Null Count  Dtype  \n",
            "---  ------  --------------  -----  \n",
            " 0   Open    3222 non-null   float64\n",
            " 1   High    3222 non-null   float64\n",
            " 2   Low     3222 non-null   float64\n",
            " 3   Close   3222 non-null   float64\n",
            " 4   Volume  3222 non-null   int64  \n",
            "dtypes: float64(4), int64(1)\n",
            "memory usage: 151.0 KB\n"
          ]
        }
      ]
    },
    {
      "cell_type": "markdown",
      "source": [
        "## Drop some columns and drop null."
      ],
      "metadata": {
        "id": "3vgr2Qu_k7pf"
      }
    },
    {
      "cell_type": "code",
      "source": [
        "wmt_df = wmt_df.drop(columns = ['Dividends','Stock Splits'])\n",
        "wmt_df.head()"
      ],
      "metadata": {
        "colab": {
          "base_uri": "https://localhost:8080/",
          "height": 0
        },
        "id": "8ctyJP90hIYv",
        "outputId": "ca5871d2-6813-4a11-b42a-69a7982ea447"
      },
      "execution_count": 33,
      "outputs": [
        {
          "output_type": "execute_result",
          "data": {
            "text/plain": [
              "                                 Open        High         Low       Close  \\\n",
              "Datetime                                                                    \n",
              "2022-03-01 09:30:00-05:00  135.869995  137.889999  135.649994  137.160004   \n",
              "2022-03-01 10:30:00-05:00  137.130005  137.720001  136.889999  137.510101   \n",
              "2022-03-01 11:30:00-05:00  137.520004  137.520004  135.740005  135.850006   \n",
              "2022-03-01 12:30:00-05:00  135.855103  136.360001  135.369995  135.389999   \n",
              "2022-03-01 13:30:00-05:00  135.398499  135.789993  135.020004  135.619995   \n",
              "\n",
              "                            Volume  \n",
              "Datetime                            \n",
              "2022-03-01 09:30:00-05:00  1832286  \n",
              "2022-03-01 10:30:00-05:00   873266  \n",
              "2022-03-01 11:30:00-05:00   730723  \n",
              "2022-03-01 12:30:00-05:00   531727  \n",
              "2022-03-01 13:30:00-05:00   622989  "
            ],
            "text/html": [
              "\n",
              "  <div id=\"df-146824b6-8531-4d15-b3a0-70ffe0cc206e\" class=\"colab-df-container\">\n",
              "    <div>\n",
              "<style scoped>\n",
              "    .dataframe tbody tr th:only-of-type {\n",
              "        vertical-align: middle;\n",
              "    }\n",
              "\n",
              "    .dataframe tbody tr th {\n",
              "        vertical-align: top;\n",
              "    }\n",
              "\n",
              "    .dataframe thead th {\n",
              "        text-align: right;\n",
              "    }\n",
              "</style>\n",
              "<table border=\"1\" class=\"dataframe\">\n",
              "  <thead>\n",
              "    <tr style=\"text-align: right;\">\n",
              "      <th></th>\n",
              "      <th>Open</th>\n",
              "      <th>High</th>\n",
              "      <th>Low</th>\n",
              "      <th>Close</th>\n",
              "      <th>Volume</th>\n",
              "    </tr>\n",
              "    <tr>\n",
              "      <th>Datetime</th>\n",
              "      <th></th>\n",
              "      <th></th>\n",
              "      <th></th>\n",
              "      <th></th>\n",
              "      <th></th>\n",
              "    </tr>\n",
              "  </thead>\n",
              "  <tbody>\n",
              "    <tr>\n",
              "      <th>2022-03-01 09:30:00-05:00</th>\n",
              "      <td>135.869995</td>\n",
              "      <td>137.889999</td>\n",
              "      <td>135.649994</td>\n",
              "      <td>137.160004</td>\n",
              "      <td>1832286</td>\n",
              "    </tr>\n",
              "    <tr>\n",
              "      <th>2022-03-01 10:30:00-05:00</th>\n",
              "      <td>137.130005</td>\n",
              "      <td>137.720001</td>\n",
              "      <td>136.889999</td>\n",
              "      <td>137.510101</td>\n",
              "      <td>873266</td>\n",
              "    </tr>\n",
              "    <tr>\n",
              "      <th>2022-03-01 11:30:00-05:00</th>\n",
              "      <td>137.520004</td>\n",
              "      <td>137.520004</td>\n",
              "      <td>135.740005</td>\n",
              "      <td>135.850006</td>\n",
              "      <td>730723</td>\n",
              "    </tr>\n",
              "    <tr>\n",
              "      <th>2022-03-01 12:30:00-05:00</th>\n",
              "      <td>135.855103</td>\n",
              "      <td>136.360001</td>\n",
              "      <td>135.369995</td>\n",
              "      <td>135.389999</td>\n",
              "      <td>531727</td>\n",
              "    </tr>\n",
              "    <tr>\n",
              "      <th>2022-03-01 13:30:00-05:00</th>\n",
              "      <td>135.398499</td>\n",
              "      <td>135.789993</td>\n",
              "      <td>135.020004</td>\n",
              "      <td>135.619995</td>\n",
              "      <td>622989</td>\n",
              "    </tr>\n",
              "  </tbody>\n",
              "</table>\n",
              "</div>\n",
              "    <div class=\"colab-df-buttons\">\n",
              "\n",
              "  <div class=\"colab-df-container\">\n",
              "    <button class=\"colab-df-convert\" onclick=\"convertToInteractive('df-146824b6-8531-4d15-b3a0-70ffe0cc206e')\"\n",
              "            title=\"Convert this dataframe to an interactive table.\"\n",
              "            style=\"display:none;\">\n",
              "\n",
              "  <svg xmlns=\"http://www.w3.org/2000/svg\" height=\"24px\" viewBox=\"0 -960 960 960\">\n",
              "    <path d=\"M120-120v-720h720v720H120Zm60-500h600v-160H180v160Zm220 220h160v-160H400v160Zm0 220h160v-160H400v160ZM180-400h160v-160H180v160Zm440 0h160v-160H620v160ZM180-180h160v-160H180v160Zm440 0h160v-160H620v160Z\"/>\n",
              "  </svg>\n",
              "    </button>\n",
              "\n",
              "  <style>\n",
              "    .colab-df-container {\n",
              "      display:flex;\n",
              "      gap: 12px;\n",
              "    }\n",
              "\n",
              "    .colab-df-convert {\n",
              "      background-color: #E8F0FE;\n",
              "      border: none;\n",
              "      border-radius: 50%;\n",
              "      cursor: pointer;\n",
              "      display: none;\n",
              "      fill: #1967D2;\n",
              "      height: 32px;\n",
              "      padding: 0 0 0 0;\n",
              "      width: 32px;\n",
              "    }\n",
              "\n",
              "    .colab-df-convert:hover {\n",
              "      background-color: #E2EBFA;\n",
              "      box-shadow: 0px 1px 2px rgba(60, 64, 67, 0.3), 0px 1px 3px 1px rgba(60, 64, 67, 0.15);\n",
              "      fill: #174EA6;\n",
              "    }\n",
              "\n",
              "    .colab-df-buttons div {\n",
              "      margin-bottom: 4px;\n",
              "    }\n",
              "\n",
              "    [theme=dark] .colab-df-convert {\n",
              "      background-color: #3B4455;\n",
              "      fill: #D2E3FC;\n",
              "    }\n",
              "\n",
              "    [theme=dark] .colab-df-convert:hover {\n",
              "      background-color: #434B5C;\n",
              "      box-shadow: 0px 1px 3px 1px rgba(0, 0, 0, 0.15);\n",
              "      filter: drop-shadow(0px 1px 2px rgba(0, 0, 0, 0.3));\n",
              "      fill: #FFFFFF;\n",
              "    }\n",
              "  </style>\n",
              "\n",
              "    <script>\n",
              "      const buttonEl =\n",
              "        document.querySelector('#df-146824b6-8531-4d15-b3a0-70ffe0cc206e button.colab-df-convert');\n",
              "      buttonEl.style.display =\n",
              "        google.colab.kernel.accessAllowed ? 'block' : 'none';\n",
              "\n",
              "      async function convertToInteractive(key) {\n",
              "        const element = document.querySelector('#df-146824b6-8531-4d15-b3a0-70ffe0cc206e');\n",
              "        const dataTable =\n",
              "          await google.colab.kernel.invokeFunction('convertToInteractive',\n",
              "                                                    [key], {});\n",
              "        if (!dataTable) return;\n",
              "\n",
              "        const docLinkHtml = 'Like what you see? Visit the ' +\n",
              "          '<a target=\"_blank\" href=https://colab.research.google.com/notebooks/data_table.ipynb>data table notebook</a>'\n",
              "          + ' to learn more about interactive tables.';\n",
              "        element.innerHTML = '';\n",
              "        dataTable['output_type'] = 'display_data';\n",
              "        await google.colab.output.renderOutput(dataTable, element);\n",
              "        const docLink = document.createElement('div');\n",
              "        docLink.innerHTML = docLinkHtml;\n",
              "        element.appendChild(docLink);\n",
              "      }\n",
              "    </script>\n",
              "  </div>\n",
              "\n",
              "\n",
              "<div id=\"df-f344385b-3946-4387-a719-1a6e16bcfbcb\">\n",
              "  <button class=\"colab-df-quickchart\" onclick=\"quickchart('df-f344385b-3946-4387-a719-1a6e16bcfbcb')\"\n",
              "            title=\"Suggest charts\"\n",
              "            style=\"display:none;\">\n",
              "\n",
              "<svg xmlns=\"http://www.w3.org/2000/svg\" height=\"24px\"viewBox=\"0 0 24 24\"\n",
              "     width=\"24px\">\n",
              "    <g>\n",
              "        <path d=\"M19 3H5c-1.1 0-2 .9-2 2v14c0 1.1.9 2 2 2h14c1.1 0 2-.9 2-2V5c0-1.1-.9-2-2-2zM9 17H7v-7h2v7zm4 0h-2V7h2v10zm4 0h-2v-4h2v4z\"/>\n",
              "    </g>\n",
              "</svg>\n",
              "  </button>\n",
              "\n",
              "<style>\n",
              "  .colab-df-quickchart {\n",
              "      --bg-color: #E8F0FE;\n",
              "      --fill-color: #1967D2;\n",
              "      --hover-bg-color: #E2EBFA;\n",
              "      --hover-fill-color: #174EA6;\n",
              "      --disabled-fill-color: #AAA;\n",
              "      --disabled-bg-color: #DDD;\n",
              "  }\n",
              "\n",
              "  [theme=dark] .colab-df-quickchart {\n",
              "      --bg-color: #3B4455;\n",
              "      --fill-color: #D2E3FC;\n",
              "      --hover-bg-color: #434B5C;\n",
              "      --hover-fill-color: #FFFFFF;\n",
              "      --disabled-bg-color: #3B4455;\n",
              "      --disabled-fill-color: #666;\n",
              "  }\n",
              "\n",
              "  .colab-df-quickchart {\n",
              "    background-color: var(--bg-color);\n",
              "    border: none;\n",
              "    border-radius: 50%;\n",
              "    cursor: pointer;\n",
              "    display: none;\n",
              "    fill: var(--fill-color);\n",
              "    height: 32px;\n",
              "    padding: 0;\n",
              "    width: 32px;\n",
              "  }\n",
              "\n",
              "  .colab-df-quickchart:hover {\n",
              "    background-color: var(--hover-bg-color);\n",
              "    box-shadow: 0 1px 2px rgba(60, 64, 67, 0.3), 0 1px 3px 1px rgba(60, 64, 67, 0.15);\n",
              "    fill: var(--button-hover-fill-color);\n",
              "  }\n",
              "\n",
              "  .colab-df-quickchart-complete:disabled,\n",
              "  .colab-df-quickchart-complete:disabled:hover {\n",
              "    background-color: var(--disabled-bg-color);\n",
              "    fill: var(--disabled-fill-color);\n",
              "    box-shadow: none;\n",
              "  }\n",
              "\n",
              "  .colab-df-spinner {\n",
              "    border: 2px solid var(--fill-color);\n",
              "    border-color: transparent;\n",
              "    border-bottom-color: var(--fill-color);\n",
              "    animation:\n",
              "      spin 1s steps(1) infinite;\n",
              "  }\n",
              "\n",
              "  @keyframes spin {\n",
              "    0% {\n",
              "      border-color: transparent;\n",
              "      border-bottom-color: var(--fill-color);\n",
              "      border-left-color: var(--fill-color);\n",
              "    }\n",
              "    20% {\n",
              "      border-color: transparent;\n",
              "      border-left-color: var(--fill-color);\n",
              "      border-top-color: var(--fill-color);\n",
              "    }\n",
              "    30% {\n",
              "      border-color: transparent;\n",
              "      border-left-color: var(--fill-color);\n",
              "      border-top-color: var(--fill-color);\n",
              "      border-right-color: var(--fill-color);\n",
              "    }\n",
              "    40% {\n",
              "      border-color: transparent;\n",
              "      border-right-color: var(--fill-color);\n",
              "      border-top-color: var(--fill-color);\n",
              "    }\n",
              "    60% {\n",
              "      border-color: transparent;\n",
              "      border-right-color: var(--fill-color);\n",
              "    }\n",
              "    80% {\n",
              "      border-color: transparent;\n",
              "      border-right-color: var(--fill-color);\n",
              "      border-bottom-color: var(--fill-color);\n",
              "    }\n",
              "    90% {\n",
              "      border-color: transparent;\n",
              "      border-bottom-color: var(--fill-color);\n",
              "    }\n",
              "  }\n",
              "</style>\n",
              "\n",
              "  <script>\n",
              "    async function quickchart(key) {\n",
              "      const quickchartButtonEl =\n",
              "        document.querySelector('#' + key + ' button');\n",
              "      quickchartButtonEl.disabled = true;  // To prevent multiple clicks.\n",
              "      quickchartButtonEl.classList.add('colab-df-spinner');\n",
              "      try {\n",
              "        const charts = await google.colab.kernel.invokeFunction(\n",
              "            'suggestCharts', [key], {});\n",
              "      } catch (error) {\n",
              "        console.error('Error during call to suggestCharts:', error);\n",
              "      }\n",
              "      quickchartButtonEl.classList.remove('colab-df-spinner');\n",
              "      quickchartButtonEl.classList.add('colab-df-quickchart-complete');\n",
              "    }\n",
              "    (() => {\n",
              "      let quickchartButtonEl =\n",
              "        document.querySelector('#df-f344385b-3946-4387-a719-1a6e16bcfbcb button');\n",
              "      quickchartButtonEl.style.display =\n",
              "        google.colab.kernel.accessAllowed ? 'block' : 'none';\n",
              "    })();\n",
              "  </script>\n",
              "</div>\n",
              "    </div>\n",
              "  </div>\n"
            ],
            "application/vnd.google.colaboratory.intrinsic+json": {
              "type": "dataframe",
              "variable_name": "wmt_df",
              "summary": "{\n  \"name\": \"wmt_df\",\n  \"rows\": 3222,\n  \"fields\": [\n    {\n      \"column\": \"Open\",\n      \"properties\": {\n        \"dtype\": \"number\",\n        \"std\": 11.894685417750965,\n        \"min\": 117.44999694824219,\n        \"max\": 169.38999938964844,\n        \"num_unique_values\": 2482,\n        \"samples\": [\n          155.52999877929688,\n          131.1999969482422,\n          146.58999633789062\n        ],\n        \"semantic_type\": \"\",\n        \"description\": \"\"\n      }\n    },\n    {\n      \"column\": \"High\",\n      \"properties\": {\n        \"dtype\": \"number\",\n        \"std\": 11.843549790494436,\n        \"min\": 118.5199966430664,\n        \"max\": 169.94000244140625,\n        \"num_unique_values\": 2457,\n        \"samples\": [\n          129.70799255371094,\n          135.0749969482422,\n          150.22000122070312\n        ],\n        \"semantic_type\": \"\",\n        \"description\": \"\"\n      }\n    },\n    {\n      \"column\": \"Low\",\n      \"properties\": {\n        \"dtype\": \"number\",\n        \"std\": 11.924042786591846,\n        \"min\": 117.2699966430664,\n        \"max\": 169.0850067138672,\n        \"num_unique_values\": 2467,\n        \"samples\": [\n          148.9550018310547,\n          148.10000610351562,\n          156.92999267578125\n        ],\n        \"semantic_type\": \"\",\n        \"description\": \"\"\n      }\n    },\n    {\n      \"column\": \"Close\",\n      \"properties\": {\n        \"dtype\": \"number\",\n        \"std\": 11.879393581942434,\n        \"min\": 117.47000122070312,\n        \"max\": 169.77000427246094,\n        \"num_unique_values\": 2585,\n        \"samples\": [\n          124.48699951171875,\n          155.0529022216797,\n          121.97000122070312\n        ],\n        \"semantic_type\": \"\",\n        \"description\": \"\"\n      }\n    },\n    {\n      \"column\": \"Volume\",\n      \"properties\": {\n        \"dtype\": \"number\",\n        \"std\": 765257,\n        \"min\": 0,\n        \"max\": 14724824,\n        \"num_unique_values\": 3217,\n        \"samples\": [\n          763782,\n          467758,\n          570696\n        ],\n        \"semantic_type\": \"\",\n        \"description\": \"\"\n      }\n    }\n  ]\n}"
            }
          },
          "metadata": {},
          "execution_count": 33
        }
      ]
    },
    {
      "cell_type": "code",
      "source": [
        "wmt_df.isnull().sum()"
      ],
      "metadata": {
        "colab": {
          "base_uri": "https://localhost:8080/"
        },
        "id": "Tx3PlGdU8k8q",
        "outputId": "9d446fb8-3487-4a59-f37a-0793940d7360"
      },
      "execution_count": 34,
      "outputs": [
        {
          "output_type": "execute_result",
          "data": {
            "text/plain": [
              "Open      0\n",
              "High      0\n",
              "Low       0\n",
              "Close     0\n",
              "Volume    0\n",
              "dtype: int64"
            ]
          },
          "metadata": {},
          "execution_count": 34
        }
      ]
    },
    {
      "cell_type": "code",
      "source": [
        "plt.figure(figsize = (10,5))\n",
        "plt.plot(wmt_df['Close'], color ='b', label = '1hr')\n",
        "plt.title(\"Walmart stock price (01-Jan-23 to 31-Dec-23)\")\n",
        "plt.legend()\n",
        "plt.show()"
      ],
      "metadata": {
        "colab": {
          "base_uri": "https://localhost:8080/",
          "height": 0
        },
        "id": "MlYmp3ZA-n36",
        "outputId": "d7e1843b-4953-4b4b-f0c0-990a5ca3985b"
      },
      "execution_count": 35,
      "outputs": [
        {
          "output_type": "display_data",
          "data": {
            "text/plain": [
              "<Figure size 1000x500 with 1 Axes>"
            ],
            "image/png": "[encoded data removed]"
          },
          "metadata": {}
        }
      ]
    },
    {
      "cell_type": "markdown",
      "source": [
        "#  1.Create model by follow method from https://blog.quantinsti.com/machine-learning-logistic-regression-python/"
      ],
      "metadata": {
        "id": "XlerRiDugCLO"
      }
    },
    {
      "cell_type": "markdown",
      "source": [
        "###  Define Predictor/Independent Variables"
      ],
      "metadata": {
        "id": "IJAgKKj4878x"
      }
    },
    {
      "cell_type": "code",
      "source": [
        "wmt_df['S_10'] = wmt_df['Close'].rolling(window=10).mean()\n",
        "wmt_df['Corr'] = wmt_df['Close'].rolling(window=10).corr(wmt_df['S_10'])\n",
        "wmt_df['RSI'] = ta.RSI(np.array(wmt_df['Close']), timeperiod =10)\n",
        "wmt_df['Open-Close'] = wmt_df['Open'] - wmt_df['Close'].shift(1)\n",
        "wmt_df['Open-Open'] = wmt_df['Open'] - wmt_df['Open'].shift(1)\n",
        "wmt_df = wmt_df.dropna()"
      ],
      "metadata": {
        "id": "BSV_8NiOfM3B"
      },
      "execution_count": 36,
      "outputs": []
    },
    {
      "cell_type": "code",
      "source": [
        "wmt_df.head(2)"
      ],
      "metadata": {
        "colab": {
          "base_uri": "https://localhost:8080/",
          "height": 143
        },
        "id": "4j08CEeFhBET",
        "outputId": "db2d9858-a8d4-49a3-a37b-01f162a94a21"
      },
      "execution_count": 37,
      "outputs": [
        {
          "output_type": "execute_result",
          "data": {
            "text/plain": [
              "                                 Open        High         Low       Close  \\\n",
              "Datetime                                                                    \n",
              "2022-03-03 13:30:00-05:00  140.000000  140.190002  139.740005  140.110001   \n",
              "2022-03-03 14:30:00-05:00  140.119995  140.119995  139.300003  139.850006   \n",
              "\n",
              "                            Volume       S_10      Corr        RSI  \\\n",
              "Datetime                                                             \n",
              "2022-03-03 13:30:00-05:00   750082  138.02999  0.904388  74.741951   \n",
              "2022-03-03 14:30:00-05:00  1129932  138.35799  0.866884  70.359714   \n",
              "\n",
              "                           Open-Close  Open-Open  \n",
              "Datetime                                          \n",
              "2022-03-03 13:30:00-05:00    0.000000   0.039993  \n",
              "2022-03-03 14:30:00-05:00    0.009995   0.119995  "
            ],
            "text/html": [
              "\n",
              "  <div id=\"df-295b2f52-49dd-4ced-a519-b662061eaaa5\" class=\"colab-df-container\">\n",
              "    <div>\n",
              "<style scoped>\n",
              "    .dataframe tbody tr th:only-of-type {\n",
              "        vertical-align: middle;\n",
              "    }\n",
              "\n",
              "    .dataframe tbody tr th {\n",
              "        vertical-align: top;\n",
              "    }\n",
              "\n",
              "    .dataframe thead th {\n",
              "        text-align: right;\n",
              "    }\n",
              "</style>\n",
              "<table border=\"1\" class=\"dataframe\">\n",
              "  <thead>\n",
              "    <tr style=\"text-align: right;\">\n",
              "      <th></th>\n",
              "      <th>Open</th>\n",
              "      <th>High</th>\n",
              "      <th>Low</th>\n",
              "      <th>Close</th>\n",
              "      <th>Volume</th>\n",
              "      <th>S_10</th>\n",
              "      <th>Corr</th>\n",
              "      <th>RSI</th>\n",
              "      <th>Open-Close</th>\n",
              "      <th>Open-Open</th>\n",
              "    </tr>\n",
              "    <tr>\n",
              "      <th>Datetime</th>\n",
              "      <th></th>\n",
              "      <th></th>\n",
              "      <th></th>\n",
              "      <th></th>\n",
              "      <th></th>\n",
              "      <th></th>\n",
              "      <th></th>\n",
              "      <th></th>\n",
              "      <th></th>\n",
              "      <th></th>\n",
              "    </tr>\n",
              "  </thead>\n",
              "  <tbody>\n",
              "    <tr>\n",
              "      <th>2022-03-03 13:30:00-05:00</th>\n",
              "      <td>140.000000</td>\n",
              "      <td>140.190002</td>\n",
              "      <td>139.740005</td>\n",
              "      <td>140.110001</td>\n",
              "      <td>750082</td>\n",
              "      <td>138.02999</td>\n",
              "      <td>0.904388</td>\n",
              "      <td>74.741951</td>\n",
              "      <td>0.000000</td>\n",
              "      <td>0.039993</td>\n",
              "    </tr>\n",
              "    <tr>\n",
              "      <th>2022-03-03 14:30:00-05:00</th>\n",
              "      <td>140.119995</td>\n",
              "      <td>140.119995</td>\n",
              "      <td>139.300003</td>\n",
              "      <td>139.850006</td>\n",
              "      <td>1129932</td>\n",
              "      <td>138.35799</td>\n",
              "      <td>0.866884</td>\n",
              "      <td>70.359714</td>\n",
              "      <td>0.009995</td>\n",
              "      <td>0.119995</td>\n",
              "    </tr>\n",
              "  </tbody>\n",
              "</table>\n",
              "</div>\n",
              "    <div class=\"colab-df-buttons\">\n",
              "\n",
              "  <div class=\"colab-df-container\">\n",
              "    <button class=\"colab-df-convert\" onclick=\"convertToInteractive('df-295b2f52-49dd-4ced-a519-b662061eaaa5')\"\n",
              "            title=\"Convert this dataframe to an interactive table.\"\n",
              "            style=\"display:none;\">\n",
              "\n",
              "  <svg xmlns=\"http://www.w3.org/2000/svg\" height=\"24px\" viewBox=\"0 -960 960 960\">\n",
              "    <path d=\"M120-120v-720h720v720H120Zm60-500h600v-160H180v160Zm220 220h160v-160H400v160Zm0 220h160v-160H400v160ZM180-400h160v-160H180v160Zm440 0h160v-160H620v160ZM180-180h160v-160H180v160Zm440 0h160v-160H620v160Z\"/>\n",
              "  </svg>\n",
              "    </button>\n",
              "\n",
              "  <style>\n",
              "    .colab-df-container {\n",
              "      display:flex;\n",
              "      gap: 12px;\n",
              "    }\n",
              "\n",
              "    .colab-df-convert {\n",
              "      background-color: #E8F0FE;\n",
              "      border: none;\n",
              "      border-radius: 50%;\n",
              "      cursor: pointer;\n",
              "      display: none;\n",
              "      fill: #1967D2;\n",
              "      height: 32px;\n",
              "      padding: 0 0 0 0;\n",
              "      width: 32px;\n",
              "    }\n",
              "\n",
              "    .colab-df-convert:hover {\n",
              "      background-color: #E2EBFA;\n",
              "      box-shadow: 0px 1px 2px rgba(60, 64, 67, 0.3), 0px 1px 3px 1px rgba(60, 64, 67, 0.15);\n",
              "      fill: #174EA6;\n",
              "    }\n",
              "\n",
              "    .colab-df-buttons div {\n",
              "      margin-bottom: 4px;\n",
              "    }\n",
              "\n",
              "    [theme=dark] .colab-df-convert {\n",
              "      background-color: #3B4455;\n",
              "      fill: #D2E3FC;\n",
              "    }\n",
              "\n",
              "    [theme=dark] .colab-df-convert:hover {\n",
              "      background-color: #434B5C;\n",
              "      box-shadow: 0px 1px 3px 1px rgba(0, 0, 0, 0.15);\n",
              "      filter: drop-shadow(0px 1px 2px rgba(0, 0, 0, 0.3));\n",
              "      fill: #FFFFFF;\n",
              "    }\n",
              "  </style>\n",
              "\n",
              "    <script>\n",
              "      const buttonEl =\n",
              "        document.querySelector('#df-295b2f52-49dd-4ced-a519-b662061eaaa5 button.colab-df-convert');\n",
              "      buttonEl.style.display =\n",
              "        google.colab.kernel.accessAllowed ? 'block' : 'none';\n",
              "\n",
              "      async function convertToInteractive(key) {\n",
              "        const element = document.querySelector('#df-295b2f52-49dd-4ced-a519-b662061eaaa5');\n",
              "        const dataTable =\n",
              "          await google.colab.kernel.invokeFunction('convertToInteractive',\n",
              "                                                    [key], {});\n",
              "        if (!dataTable) return;\n",
              "\n",
              "        const docLinkHtml = 'Like what you see? Visit the ' +\n",
              "          '<a target=\"_blank\" href=https://colab.research.google.com/notebooks/data_table.ipynb>data table notebook</a>'\n",
              "          + ' to learn more about interactive tables.';\n",
              "        element.innerHTML = '';\n",
              "        dataTable['output_type'] = 'display_data';\n",
              "        await google.colab.output.renderOutput(dataTable, element);\n",
              "        const docLink = document.createElement('div');\n",
              "        docLink.innerHTML = docLinkHtml;\n",
              "        element.appendChild(docLink);\n",
              "      }\n",
              "    </script>\n",
              "  </div>\n",
              "\n",
              "\n",
              "<div id=\"df-037d2557-72e6-4897-b7d8-e64c763bcf76\">\n",
              "  <button class=\"colab-df-quickchart\" onclick=\"quickchart('df-037d2557-72e6-4897-b7d8-e64c763bcf76')\"\n",
              "            title=\"Suggest charts\"\n",
              "            style=\"display:none;\">\n",
              "\n",
              "<svg xmlns=\"http://www.w3.org/2000/svg\" height=\"24px\"viewBox=\"0 0 24 24\"\n",
              "     width=\"24px\">\n",
              "    <g>\n",
              "        <path d=\"M19 3H5c-1.1 0-2 .9-2 2v14c0 1.1.9 2 2 2h14c1.1 0 2-.9 2-2V5c0-1.1-.9-2-2-2zM9 17H7v-7h2v7zm4 0h-2V7h2v10zm4 0h-2v-4h2v4z\"/>\n",
              "    </g>\n",
              "</svg>\n",
              "  </button>\n",
              "\n",
              "<style>\n",
              "  .colab-df-quickchart {\n",
              "      --bg-color: #E8F0FE;\n",
              "      --fill-color: #1967D2;\n",
              "      --hover-bg-color: #E2EBFA;\n",
              "      --hover-fill-color: #174EA6;\n",
              "      --disabled-fill-color: #AAA;\n",
              "      --disabled-bg-color: #DDD;\n",
              "  }\n",
              "\n",
              "  [theme=dark] .colab-df-quickchart {\n",
              "      --bg-color: #3B4455;\n",
              "      --fill-color: #D2E3FC;\n",
              "      --hover-bg-color: #434B5C;\n",
              "      --hover-fill-color: #FFFFFF;\n",
              "      --disabled-bg-color: #3B4455;\n",
              "      --disabled-fill-color: #666;\n",
              "  }\n",
              "\n",
              "  .colab-df-quickchart {\n",
              "    background-color: var(--bg-color);\n",
              "    border: none;\n",
              "    border-radius: 50%;\n",
              "    cursor: pointer;\n",
              "    display: none;\n",
              "    fill: var(--fill-color);\n",
              "    height: 32px;\n",
              "    padding: 0;\n",
              "    width: 32px;\n",
              "  }\n",
              "\n",
              "  .colab-df-quickchart:hover {\n",
              "    background-color: var(--hover-bg-color);\n",
              "    box-shadow: 0 1px 2px rgba(60, 64, 67, 0.3), 0 1px 3px 1px rgba(60, 64, 67, 0.15);\n",
              "    fill: var(--button-hover-fill-color);\n",
              "  }\n",
              "\n",
              "  .colab-df-quickchart-complete:disabled,\n",
              "  .colab-df-quickchart-complete:disabled:hover {\n",
              "    background-color: var(--disabled-bg-color);\n",
              "    fill: var(--disabled-fill-color);\n",
              "    box-shadow: none;\n",
              "  }\n",
              "\n",
              "  .colab-df-spinner {\n",
              "    border: 2px solid var(--fill-color);\n",
              "    border-color: transparent;\n",
              "    border-bottom-color: var(--fill-color);\n",
              "    animation:\n",
              "      spin 1s steps(1) infinite;\n",
              "  }\n",
              "\n",
              "  @keyframes spin {\n",
              "    0% {\n",
              "      border-color: transparent;\n",
              "      border-bottom-color: var(--fill-color);\n",
              "      border-left-color: var(--fill-color);\n",
              "    }\n",
              "    20% {\n",
              "      border-color: transparent;\n",
              "      border-left-color: var(--fill-color);\n",
              "      border-top-color: var(--fill-color);\n",
              "    }\n",
              "    30% {\n",
              "      border-color: transparent;\n",
              "      border-left-color: var(--fill-color);\n",
              "      border-top-color: var(--fill-color);\n",
              "      border-right-color: var(--fill-color);\n",
              "    }\n",
              "    40% {\n",
              "      border-color: transparent;\n",
              "      border-right-color: var(--fill-color);\n",
              "      border-top-color: var(--fill-color);\n",
              "    }\n",
              "    60% {\n",
              "      border-color: transparent;\n",
              "      border-right-color: var(--fill-color);\n",
              "    }\n",
              "    80% {\n",
              "      border-color: transparent;\n",
              "      border-right-color: var(--fill-color);\n",
              "      border-bottom-color: var(--fill-color);\n",
              "    }\n",
              "    90% {\n",
              "      border-color: transparent;\n",
              "      border-bottom-color: var(--fill-color);\n",
              "    }\n",
              "  }\n",
              "</style>\n",
              "\n",
              "  <script>\n",
              "    async function quickchart(key) {\n",
              "      const quickchartButtonEl =\n",
              "        document.querySelector('#' + key + ' button');\n",
              "      quickchartButtonEl.disabled = true;  // To prevent multiple clicks.\n",
              "      quickchartButtonEl.classList.add('colab-df-spinner');\n",
              "      try {\n",
              "        const charts = await google.colab.kernel.invokeFunction(\n",
              "            'suggestCharts', [key], {});\n",
              "      } catch (error) {\n",
              "        console.error('Error during call to suggestCharts:', error);\n",
              "      }\n",
              "      quickchartButtonEl.classList.remove('colab-df-spinner');\n",
              "      quickchartButtonEl.classList.add('colab-df-quickchart-complete');\n",
              "    }\n",
              "    (() => {\n",
              "      let quickchartButtonEl =\n",
              "        document.querySelector('#df-037d2557-72e6-4897-b7d8-e64c763bcf76 button');\n",
              "      quickchartButtonEl.style.display =\n",
              "        google.colab.kernel.accessAllowed ? 'block' : 'none';\n",
              "    })();\n",
              "  </script>\n",
              "</div>\n",
              "    </div>\n",
              "  </div>\n"
            ],
            "application/vnd.google.colaboratory.intrinsic+json": {
              "type": "dataframe",
              "variable_name": "wmt_df",
              "summary": "{\n  \"name\": \"wmt_df\",\n  \"rows\": 3204,\n  \"fields\": [\n    {\n      \"column\": \"Open\",\n      \"properties\": {\n        \"dtype\": \"number\",\n        \"std\": 11.907130794287502,\n        \"min\": 117.44999694824219,\n        \"max\": 169.38999938964844,\n        \"num_unique_values\": 2470,\n        \"samples\": [\n          141.80999755859375,\n          160.2100067138672,\n          147.7899932861328\n        ],\n        \"semantic_type\": \"\",\n        \"description\": \"\"\n      }\n    },\n    {\n      \"column\": \"High\",\n      \"properties\": {\n        \"dtype\": \"number\",\n        \"std\": 11.856685805949683,\n        \"min\": 118.5199966430664,\n        \"max\": 169.94000244140625,\n        \"num_unique_values\": 2443,\n        \"samples\": [\n          139.75999450683594,\n          155.6300048828125,\n          141.60130310058594\n        ],\n        \"semantic_type\": \"\",\n        \"description\": \"\"\n      }\n    },\n    {\n      \"column\": \"Low\",\n      \"properties\": {\n        \"dtype\": \"number\",\n        \"std\": 11.936496645344297,\n        \"min\": 117.2699966430664,\n        \"max\": 169.0850067138672,\n        \"num_unique_values\": 2453,\n        \"samples\": [\n          165.2899932861328,\n          128.97000122070312,\n          149.66000366210938\n        ],\n        \"semantic_type\": \"\",\n        \"description\": \"\"\n      }\n    },\n    {\n      \"column\": \"Close\",\n      \"properties\": {\n        \"dtype\": \"number\",\n        \"std\": 11.892458855427945,\n        \"min\": 117.47000122070312,\n        \"max\": 169.77000427246094,\n        \"num_unique_values\": 2570,\n        \"samples\": [\n          164.96499633789062,\n          160.0500030517578,\n          152.4600067138672\n        ],\n        \"semantic_type\": \"\",\n        \"description\": \"\"\n      }\n    },\n    {\n      \"column\": \"Volume\",\n      \"properties\": {\n        \"dtype\": \"number\",\n        \"std\": 766641,\n        \"min\": 0,\n        \"max\": 14724824,\n        \"num_unique_values\": 3199,\n        \"samples\": [\n          736609,\n          849221,\n          531987\n        ],\n        \"semantic_type\": \"\",\n        \"description\": \"\"\n      }\n    },\n    {\n      \"column\": \"S_10\",\n      \"properties\": {\n        \"dtype\": \"number\",\n        \"std\": 11.850463892874442,\n        \"min\": 118.71849975585937,\n        \"max\": 168.6391571044922,\n        \"num_unique_values\": 3198,\n        \"samples\": [\n          159.59850006103517,\n          147.62548828125,\n          124.86049957275391\n        ],\n        \"semantic_type\": \"\",\n        \"description\": \"\"\n      }\n    },\n    {\n      \"column\": \"Corr\",\n      \"properties\": {\n        \"dtype\": \"number\",\n        \"std\": 0.49854956549044027,\n        \"min\": -0.9118018988228106,\n        \"max\": 0.9875243862823776,\n        \"num_unique_values\": 3204,\n        \"samples\": [\n          0.606493572175317,\n          0.8476825001824021,\n          0.5408649959296749\n        ],\n        \"semantic_type\": \"\",\n        \"description\": \"\"\n      }\n    },\n    {\n      \"column\": \"RSI\",\n      \"properties\": {\n        \"dtype\": \"number\",\n        \"std\": 15.926486651866075,\n        \"min\": 7.260382547260338,\n        \"max\": 90.45125104361799,\n        \"num_unique_values\": 3191,\n        \"samples\": [\n          70.91795300754478,\n          65.27058630182489,\n          71.9805047351106\n        ],\n        \"semantic_type\": \"\",\n        \"description\": \"\"\n      }\n    },\n    {\n      \"column\": \"Open-Close\",\n      \"properties\": {\n        \"dtype\": \"number\",\n        \"std\": 0.5584616755705557,\n        \"min\": -11.830001831054688,\n        \"max\": 17.25,\n        \"num_unique_values\": 670,\n        \"samples\": [\n          -0.0600128173828125,\n          0.006103515625,\n          -0.2800140380859375\n        ],\n        \"semantic_type\": \"\",\n        \"description\": \"\"\n      }\n    },\n    {\n      \"column\": \"Open-Open\",\n      \"properties\": {\n        \"dtype\": \"number\",\n        \"std\": 0.8352257540423048,\n        \"min\": -17.490005493164062,\n        \"max\": 17.403900146484375,\n        \"num_unique_values\": 1171,\n        \"samples\": [\n          0.0405120849609375,\n          0.790008544921875,\n          0.2899932861328125\n        ],\n        \"semantic_type\": \"\",\n        \"description\": \"\"\n      }\n    }\n  ]\n}"
            }
          },
          "metadata": {},
          "execution_count": 37
        }
      ]
    },
    {
      "cell_type": "markdown",
      "source": [
        "### Determine X"
      ],
      "metadata": {
        "id": "jz5Gf0teknwG"
      }
    },
    {
      "cell_type": "code",
      "source": [
        "X = wmt_df.iloc[:,:10]"
      ],
      "metadata": {
        "id": "MeDed_tegsEd"
      },
      "execution_count": 38,
      "outputs": []
    },
    {
      "cell_type": "markdown",
      "source": [
        "### Define Target/Dependent Variable"
      ],
      "metadata": {
        "id": "vMIlpunvf2qs"
      }
    },
    {
      "cell_type": "code",
      "source": [
        "y = np.where(wmt_df['Close'].shift(-1) > wmt_df['Close'],1,-1)"
      ],
      "metadata": {
        "id": "muMFZMu0f6Xp"
      },
      "execution_count": 39,
      "outputs": []
    },
    {
      "cell_type": "markdown",
      "source": [
        "### Split The Dataset"
      ],
      "metadata": {
        "id": "6-mNkBfJHEBG"
      }
    },
    {
      "cell_type": "code",
      "source": [
        "split = int(0.7*len(wmt_df))\n",
        "X_train, X_test, y_train, y_test = X[:split], X[split:], y[:split], y[split:]"
      ],
      "metadata": {
        "id": "daCloUx9HFag"
      },
      "execution_count": 40,
      "outputs": []
    },
    {
      "cell_type": "code",
      "source": [
        "X_train.shape\n"
      ],
      "metadata": {
        "colab": {
          "base_uri": "https://localhost:8080/"
        },
        "id": "gpwhrT75m2ms",
        "outputId": "882edc16-f22a-412a-bc61-261c512e5118"
      },
      "execution_count": 94,
      "outputs": [
        {
          "output_type": "execute_result",
          "data": {
            "text/plain": [
              "(2242, 10)"
            ]
          },
          "metadata": {},
          "execution_count": 94
        }
      ]
    },
    {
      "cell_type": "markdown",
      "source": [
        "### Instantiate The Logistic Regression in Python"
      ],
      "metadata": {
        "id": "h6kgI6R3HPk5"
      }
    },
    {
      "cell_type": "code",
      "source": [
        "model1 = LogisticRegression()\n",
        "medel1 = model1.fit(X_train,y_train)"
      ],
      "metadata": {
        "id": "zQVHdEyHHQ1t"
      },
      "execution_count": 41,
      "outputs": []
    },
    {
      "cell_type": "markdown",
      "source": [
        "### Examine The Coefficients"
      ],
      "metadata": {
        "id": "Hb9Q87NIJbKc"
      }
    },
    {
      "cell_type": "code",
      "source": [
        "pd.DataFrame(zip(X.columns, np.transpose(model1.coef_)))"
      ],
      "metadata": {
        "colab": {
          "base_uri": "https://localhost:8080/",
          "height": 363
        },
        "id": "LpJNqi24Jcco",
        "outputId": "da84b636-3827-4d3e-9c5c-ae4ff12db14a"
      },
      "execution_count": 42,
      "outputs": [
        {
          "output_type": "execute_result",
          "data": {
            "text/plain": [
              "            0                         1\n",
              "0        Open   [6.296860256525463e-12]\n",
              "1        High   [6.334845440066811e-12]\n",
              "2         Low   [6.240274473375973e-12]\n",
              "3       Close   [6.310396810947348e-12]\n",
              "4      Volume  [1.4908263494703996e-08]\n",
              "5        S_10   [6.207995842076272e-12]\n",
              "6        Corr  [1.4234921179940826e-14]\n",
              "7         RSI   [3.121227709966219e-12]\n",
              "8  Open-Close    [-4.5935849688522e-15]\n",
              "9   Open-Open   [1.134583161680704e-14]"
            ],
            "text/html": [
              "\n",
              "  <div id=\"df-8efab571-7888-4574-b0f0-a82e747efdaa\" class=\"colab-df-container\">\n",
              "    <div>\n",
              "<style scoped>\n",
              "    .dataframe tbody tr th:only-of-type {\n",
              "        vertical-align: middle;\n",
              "    }\n",
              "\n",
              "    .dataframe tbody tr th {\n",
              "        vertical-align: top;\n",
              "    }\n",
              "\n",
              "    .dataframe thead th {\n",
              "        text-align: right;\n",
              "    }\n",
              "</style>\n",
              "<table border=\"1\" class=\"dataframe\">\n",
              "  <thead>\n",
              "    <tr style=\"text-align: right;\">\n",
              "      <th></th>\n",
              "      <th>0</th>\n",
              "      <th>1</th>\n",
              "    </tr>\n",
              "  </thead>\n",
              "  <tbody>\n",
              "    <tr>\n",
              "      <th>0</th>\n",
              "      <td>Open</td>\n",
              "      <td>[6.296860256525463e-12]</td>\n",
              "    </tr>\n",
              "    <tr>\n",
              "      <th>1</th>\n",
              "      <td>High</td>\n",
              "      <td>[6.334845440066811e-12]</td>\n",
              "    </tr>\n",
              "    <tr>\n",
              "      <th>2</th>\n",
              "      <td>Low</td>\n",
              "      <td>[6.240274473375973e-12]</td>\n",
              "    </tr>\n",
              "    <tr>\n",
              "      <th>3</th>\n",
              "      <td>Close</td>\n",
              "      <td>[6.310396810947348e-12]</td>\n",
              "    </tr>\n",
              "    <tr>\n",
              "      <th>4</th>\n",
              "      <td>Volume</td>\n",
              "      <td>[1.4908263494703996e-08]</td>\n",
              "    </tr>\n",
              "    <tr>\n",
              "      <th>5</th>\n",
              "      <td>S_10</td>\n",
              "      <td>[6.207995842076272e-12]</td>\n",
              "    </tr>\n",
              "    <tr>\n",
              "      <th>6</th>\n",
              "      <td>Corr</td>\n",
              "      <td>[1.4234921179940826e-14]</td>\n",
              "    </tr>\n",
              "    <tr>\n",
              "      <th>7</th>\n",
              "      <td>RSI</td>\n",
              "      <td>[3.121227709966219e-12]</td>\n",
              "    </tr>\n",
              "    <tr>\n",
              "      <th>8</th>\n",
              "      <td>Open-Close</td>\n",
              "      <td>[-4.5935849688522e-15]</td>\n",
              "    </tr>\n",
              "    <tr>\n",
              "      <th>9</th>\n",
              "      <td>Open-Open</td>\n",
              "      <td>[1.134583161680704e-14]</td>\n",
              "    </tr>\n",
              "  </tbody>\n",
              "</table>\n",
              "</div>\n",
              "    <div class=\"colab-df-buttons\">\n",
              "\n",
              "  <div class=\"colab-df-container\">\n",
              "    <button class=\"colab-df-convert\" onclick=\"convertToInteractive('df-8efab571-7888-4574-b0f0-a82e747efdaa')\"\n",
              "            title=\"Convert this dataframe to an interactive table.\"\n",
              "            style=\"display:none;\">\n",
              "\n",
              "  <svg xmlns=\"http://www.w3.org/2000/svg\" height=\"24px\" viewBox=\"0 -960 960 960\">\n",
              "    <path d=\"M120-120v-720h720v720H120Zm60-500h600v-160H180v160Zm220 220h160v-160H400v160Zm0 220h160v-160H400v160ZM180-400h160v-160H180v160Zm440 0h160v-160H620v160ZM180-180h160v-160H180v160Zm440 0h160v-160H620v160Z\"/>\n",
              "  </svg>\n",
              "    </button>\n",
              "\n",
              "  <style>\n",
              "    .colab-df-container {\n",
              "      display:flex;\n",
              "      gap: 12px;\n",
              "    }\n",
              "\n",
              "    .colab-df-convert {\n",
              "      background-color: #E8F0FE;\n",
              "      border: none;\n",
              "      border-radius: 50%;\n",
              "      cursor: pointer;\n",
              "      display: none;\n",
              "      fill: #1967D2;\n",
              "      height: 32px;\n",
              "      padding: 0 0 0 0;\n",
              "      width: 32px;\n",
              "    }\n",
              "\n",
              "    .colab-df-convert:hover {\n",
              "      background-color: #E2EBFA;\n",
              "      box-shadow: 0px 1px 2px rgba(60, 64, 67, 0.3), 0px 1px 3px 1px rgba(60, 64, 67, 0.15);\n",
              "      fill: #174EA6;\n",
              "    }\n",
              "\n",
              "    .colab-df-buttons div {\n",
              "      margin-bottom: 4px;\n",
              "    }\n",
              "\n",
              "    [theme=dark] .colab-df-convert {\n",
              "      background-color: #3B4455;\n",
              "      fill: #D2E3FC;\n",
              "    }\n",
              "\n",
              "    [theme=dark] .colab-df-convert:hover {\n",
              "      background-color: #434B5C;\n",
              "      box-shadow: 0px 1px 3px 1px rgba(0, 0, 0, 0.15);\n",
              "      filter: drop-shadow(0px 1px 2px rgba(0, 0, 0, 0.3));\n",
              "      fill: #FFFFFF;\n",
              "    }\n",
              "  </style>\n",
              "\n",
              "    <script>\n",
              "      const buttonEl =\n",
              "        document.querySelector('#df-8efab571-7888-4574-b0f0-a82e747efdaa button.colab-df-convert');\n",
              "      buttonEl.style.display =\n",
              "        google.colab.kernel.accessAllowed ? 'block' : 'none';\n",
              "\n",
              "      async function convertToInteractive(key) {\n",
              "        const element = document.querySelector('#df-8efab571-7888-4574-b0f0-a82e747efdaa');\n",
              "        const dataTable =\n",
              "          await google.colab.kernel.invokeFunction('convertToInteractive',\n",
              "                                                    [key], {});\n",
              "        if (!dataTable) return;\n",
              "\n",
              "        const docLinkHtml = 'Like what you see? Visit the ' +\n",
              "          '<a target=\"_blank\" href=https://colab.research.google.com/notebooks/data_table.ipynb>data table notebook</a>'\n",
              "          + ' to learn more about interactive tables.';\n",
              "        element.innerHTML = '';\n",
              "        dataTable['output_type'] = 'display_data';\n",
              "        await google.colab.output.renderOutput(dataTable, element);\n",
              "        const docLink = document.createElement('div');\n",
              "        docLink.innerHTML = docLinkHtml;\n",
              "        element.appendChild(docLink);\n",
              "      }\n",
              "    </script>\n",
              "  </div>\n",
              "\n",
              "\n",
              "<div id=\"df-2c0b3604-43f4-462a-9917-49b3575b5f47\">\n",
              "  <button class=\"colab-df-quickchart\" onclick=\"quickchart('df-2c0b3604-43f4-462a-9917-49b3575b5f47')\"\n",
              "            title=\"Suggest charts\"\n",
              "            style=\"display:none;\">\n",
              "\n",
              "<svg xmlns=\"http://www.w3.org/2000/svg\" height=\"24px\"viewBox=\"0 0 24 24\"\n",
              "     width=\"24px\">\n",
              "    <g>\n",
              "        <path d=\"M19 3H5c-1.1 0-2 .9-2 2v14c0 1.1.9 2 2 2h14c1.1 0 2-.9 2-2V5c0-1.1-.9-2-2-2zM9 17H7v-7h2v7zm4 0h-2V7h2v10zm4 0h-2v-4h2v4z\"/>\n",
              "    </g>\n",
              "</svg>\n",
              "  </button>\n",
              "\n",
              "<style>\n",
              "  .colab-df-quickchart {\n",
              "      --bg-color: #E8F0FE;\n",
              "      --fill-color: #1967D2;\n",
              "      --hover-bg-color: #E2EBFA;\n",
              "      --hover-fill-color: #174EA6;\n",
              "      --disabled-fill-color: #AAA;\n",
              "      --disabled-bg-color: #DDD;\n",
              "  }\n",
              "\n",
              "  [theme=dark] .colab-df-quickchart {\n",
              "      --bg-color: #3B4455;\n",
              "      --fill-color: #D2E3FC;\n",
              "      --hover-bg-color: #434B5C;\n",
              "      --hover-fill-color: #FFFFFF;\n",
              "      --disabled-bg-color: #3B4455;\n",
              "      --disabled-fill-color: #666;\n",
              "  }\n",
              "\n",
              "  .colab-df-quickchart {\n",
              "    background-color: var(--bg-color);\n",
              "    border: none;\n",
              "    border-radius: 50%;\n",
              "    cursor: pointer;\n",
              "    display: none;\n",
              "    fill: var(--fill-color);\n",
              "    height: 32px;\n",
              "    padding: 0;\n",
              "    width: 32px;\n",
              "  }\n",
              "\n",
              "  .colab-df-quickchart:hover {\n",
              "    background-color: var(--hover-bg-color);\n",
              "    box-shadow: 0 1px 2px rgba(60, 64, 67, 0.3), 0 1px 3px 1px rgba(60, 64, 67, 0.15);\n",
              "    fill: var(--button-hover-fill-color);\n",
              "  }\n",
              "\n",
              "  .colab-df-quickchart-complete:disabled,\n",
              "  .colab-df-quickchart-complete:disabled:hover {\n",
              "    background-color: var(--disabled-bg-color);\n",
              "    fill: var(--disabled-fill-color);\n",
              "    box-shadow: none;\n",
              "  }\n",
              "\n",
              "  .colab-df-spinner {\n",
              "    border: 2px solid var(--fill-color);\n",
              "    border-color: transparent;\n",
              "    border-bottom-color: var(--fill-color);\n",
              "    animation:\n",
              "      spin 1s steps(1) infinite;\n",
              "  }\n",
              "\n",
              "  @keyframes spin {\n",
              "    0% {\n",
              "      border-color: transparent;\n",
              "      border-bottom-color: var(--fill-color);\n",
              "      border-left-color: var(--fill-color);\n",
              "    }\n",
              "    20% {\n",
              "      border-color: transparent;\n",
              "      border-left-color: var(--fill-color);\n",
              "      border-top-color: var(--fill-color);\n",
              "    }\n",
              "    30% {\n",
              "      border-color: transparent;\n",
              "      border-left-color: var(--fill-color);\n",
              "      border-top-color: var(--fill-color);\n",
              "      border-right-color: var(--fill-color);\n",
              "    }\n",
              "    40% {\n",
              "      border-color: transparent;\n",
              "      border-right-color: var(--fill-color);\n",
              "      border-top-color: var(--fill-color);\n",
              "    }\n",
              "    60% {\n",
              "      border-color: transparent;\n",
              "      border-right-color: var(--fill-color);\n",
              "    }\n",
              "    80% {\n",
              "      border-color: transparent;\n",
              "      border-right-color: var(--fill-color);\n",
              "      border-bottom-color: var(--fill-color);\n",
              "    }\n",
              "    90% {\n",
              "      border-color: transparent;\n",
              "      border-bottom-color: var(--fill-color);\n",
              "    }\n",
              "  }\n",
              "</style>\n",
              "\n",
              "  <script>\n",
              "    async function quickchart(key) {\n",
              "      const quickchartButtonEl =\n",
              "        document.querySelector('#' + key + ' button');\n",
              "      quickchartButtonEl.disabled = true;  // To prevent multiple clicks.\n",
              "      quickchartButtonEl.classList.add('colab-df-spinner');\n",
              "      try {\n",
              "        const charts = await google.colab.kernel.invokeFunction(\n",
              "            'suggestCharts', [key], {});\n",
              "      } catch (error) {\n",
              "        console.error('Error during call to suggestCharts:', error);\n",
              "      }\n",
              "      quickchartButtonEl.classList.remove('colab-df-spinner');\n",
              "      quickchartButtonEl.classList.add('colab-df-quickchart-complete');\n",
              "    }\n",
              "    (() => {\n",
              "      let quickchartButtonEl =\n",
              "        document.querySelector('#df-2c0b3604-43f4-462a-9917-49b3575b5f47 button');\n",
              "      quickchartButtonEl.style.display =\n",
              "        google.colab.kernel.accessAllowed ? 'block' : 'none';\n",
              "    })();\n",
              "  </script>\n",
              "</div>\n",
              "    </div>\n",
              "  </div>\n"
            ],
            "application/vnd.google.colaboratory.intrinsic+json": {
              "type": "dataframe",
              "summary": "{\n  \"name\": \"pd\",\n  \"rows\": 10,\n  \"fields\": [\n    {\n      \"column\": 0,\n      \"properties\": {\n        \"dtype\": \"string\",\n        \"num_unique_values\": 10,\n        \"samples\": [\n          \"Open-Close\",\n          \"High\",\n          \"S_10\"\n        ],\n        \"semantic_type\": \"\",\n        \"description\": \"\"\n      }\n    },\n    {\n      \"column\": 1,\n      \"properties\": {\n        \"dtype\": \"object\",\n        \"semantic_type\": \"\",\n        \"description\": \"\"\n      }\n    }\n  ]\n}"
            }
          },
          "metadata": {},
          "execution_count": 42
        }
      ]
    },
    {
      "cell_type": "markdown",
      "source": [
        "### Calculate Class Probabilities"
      ],
      "metadata": {
        "id": "OMMu37LCJlvx"
      }
    },
    {
      "cell_type": "code",
      "source": [
        "# Specify the date for prediction\n",
        "prediction_date = '2023-09-20'\n",
        "probability = model1.predict_proba(X_test)\n",
        "print(probability)"
      ],
      "metadata": {
        "colab": {
          "base_uri": "https://localhost:8080/"
        },
        "id": "ie-jiXbzKlfx",
        "outputId": "acd7befc-3fa8-421d-b35f-cdaef260aa43"
      },
      "execution_count": 43,
      "outputs": [
        {
          "output_type": "stream",
          "name": "stdout",
          "text": [
            "[[0.49881775 0.50118225]\n",
            " [0.49849361 0.50150639]\n",
            " [0.49791685 0.50208315]\n",
            " ...\n",
            " [0.49801255 0.50198745]\n",
            " [0.49700533 0.50299467]\n",
            " [0.49411219 0.50588781]]\n"
          ]
        }
      ]
    },
    {
      "cell_type": "markdown",
      "source": [
        "### Predict Class Labels"
      ],
      "metadata": {
        "id": "PGNqWT0pLQZn"
      }
    },
    {
      "cell_type": "code",
      "source": [
        "predicted = model1.predict(X_test)"
      ],
      "metadata": {
        "id": "seb21mAuLR_L"
      },
      "execution_count": 44,
      "outputs": []
    },
    {
      "cell_type": "code",
      "source": [
        "print(predicted)\n",
        "print(len(predicted))"
      ],
      "metadata": {
        "colab": {
          "base_uri": "https://localhost:8080/"
        },
        "id": "k1v2u4XmLVPi",
        "outputId": "6a03d9ca-c858-4aca-8905-11d9995760f4"
      },
      "execution_count": 45,
      "outputs": [
        {
          "output_type": "stream",
          "name": "stdout",
          "text": [
            "[1 1 1 1 1 1 1 1 1 1 1 1 1 1 1 1 1 1 1 1 1 1 1 1 1 1 1 1 1 1 1 1 1 1 1 1 1\n",
            " 1 1 1 1 1 1 1 1 1 1 1 1 1 1 1 1 1 1 1 1 1 1 1 1 1 1 1 1 1 1 1 1 1 1 1 1 1\n",
            " 1 1 1 1 1 1 1 1 1 1 1 1 1 1 1 1 1 1 1 1 1 1 1 1 1 1 1 1 1 1 1 1 1 1 1 1 1\n",
            " 1 1 1 1 1 1 1 1 1 1 1 1 1 1 1 1 1 1 1 1 1 1 1 1 1 1 1 1 1 1 1 1 1 1 1 1 1\n",
            " 1 1 1 1 1 1 1 1 1 1 1 1 1 1 1 1 1 1 1 1 1 1 1 1 1 1 1 1 1 1 1 1 1 1 1 1 1\n",
            " 1 1 1 1 1 1 1 1 1 1 1 1 1 1 1 1 1 1 1 1 1 1 1 1 1 1 1 1 1 1 1 1 1 1 1 1 1\n",
            " 1 1 1 1 1 1 1 1 1 1 1 1 1 1 1 1 1 1 1 1 1 1 1 1 1 1 1 1 1 1 1 1 1 1 1 1 1\n",
            " 1 1 1 1 1 1 1 1 1 1 1 1 1 1 1 1 1 1 1 1 1 1 1 1 1 1 1 1 1 1 1 1 1 1 1 1 1\n",
            " 1 1 1 1 1 1 1 1 1 1 1 1 1 1 1 1 1 1 1 1 1 1 1 1 1 1 1 1 1 1 1 1 1 1 1 1 1\n",
            " 1 1 1 1 1 1 1 1 1 1 1 1 1 1 1 1 1 1 1 1 1 1 1 1 1 1 1 1 1 1 1 1 1 1 1 1 1\n",
            " 1 1 1 1 1 1 1 1 1 1 1 1 1 1 1 1 1 1 1 1 1 1 1 1 1 1 1 1 1 1 1 1 1 1 1 1 1\n",
            " 1 1 1 1 1 1 1 1 1 1 1 1 1 1 1 1 1 1 1 1 1 1 1 1 1 1 1 1 1 1 1 1 1 1 1 1 1\n",
            " 1 1 1 1 1 1 1 1 1 1 1 1 1 1 1 1 1 1 1 1 1 1 1 1 1 1 1 1 1 1 1 1 1 1 1 1 1\n",
            " 1 1 1 1 1 1 1 1 1 1 1 1 1 1 1 1 1 1 1 1 1 1 1 1 1 1 1 1 1 1 1 1 1 1 1 1 1\n",
            " 1 1 1 1 1 1 1 1 1 1 1 1 1 1 1 1 1 1 1 1 1 1 1 1 1 1 1 1 1 1 1 1 1 1 1 1 1\n",
            " 1 1 1 1 1 1 1 1 1 1 1 1 1 1 1 1 1 1 1 1 1 1 1 1 1 1 1 1 1 1 1 1 1 1 1 1 1\n",
            " 1 1 1 1 1 1 1 1 1 1 1 1 1 1 1 1 1 1 1 1 1 1 1 1 1 1 1 1 1 1 1 1 1 1 1 1 1\n",
            " 1 1 1 1 1 1 1 1 1 1 1 1 1 1 1 1 1 1 1 1 1 1 1 1 1 1 1 1 1 1 1 1 1 1 1 1 1\n",
            " 1 1 1 1 1 1 1 1 1 1 1 1 1 1 1 1 1 1 1 1 1 1 1 1 1 1 1 1 1 1 1 1 1 1 1 1 1\n",
            " 1 1 1 1 1 1 1 1 1 1 1 1 1 1 1 1 1 1 1 1 1 1 1 1 1 1 1 1 1 1 1 1 1 1 1 1 1\n",
            " 1 1 1 1 1 1 1 1 1 1 1 1 1 1 1 1 1 1 1 1 1 1 1 1 1 1 1 1 1 1 1 1 1 1 1 1 1\n",
            " 1 1 1 1 1 1 1 1 1 1 1 1 1 1 1 1 1 1 1 1 1 1 1 1 1 1 1 1 1 1 1 1 1 1 1 1 1\n",
            " 1 1 1 1 1 1 1 1 1 1 1 1 1 1 1 1 1 1 1 1 1 1 1 1 1 1 1 1 1 1 1 1 1 1 1 1 1\n",
            " 1 1 1 1 1 1 1 1 1 1 1 1 1 1 1 1 1 1 1 1 1 1 1 1 1 1 1 1 1 1 1 1 1 1 1 1 1\n",
            " 1 1 1 1 1 1 1 1 1 1 1 1 1 1 1 1 1 1 1 1 1 1 1 1 1 1 1 1 1 1 1 1 1 1 1 1 1\n",
            " 1 1 1 1 1 1 1 1 1 1 1 1 1 1 1 1 1 1 1 1 1 1 1 1 1 1 1 1 1 1 1 1 1 1 1 1 1]\n",
            "962\n"
          ]
        }
      ]
    },
    {
      "cell_type": "markdown",
      "source": [
        "### Date of prediction"
      ],
      "metadata": {
        "id": "ZC6szRlZjJqx"
      }
    },
    {
      "cell_type": "code",
      "source": [
        "test_dates = wmt_df.index[split:]\n",
        "\n",
        "# Find the dates with predicted buy signals (Signal = 1)\n",
        "buy_signal_dates = test_dates[predicted== 1]\n",
        "\n",
        "# Print the date(s) with buy signal(s)\n",
        "print(\"\\nDate(s) with Buy Signal(s):\")\n",
        "print(buy_signal_dates)"
      ],
      "metadata": {
        "colab": {
          "base_uri": "https://localhost:8080/"
        },
        "id": "-APHKLr6jMSJ",
        "outputId": "3682db72-76fe-4ed4-9f29-303b4e2ac233"
      },
      "execution_count": 46,
      "outputs": [
        {
          "output_type": "stream",
          "name": "stdout",
          "text": [
            "\n",
            "Date(s) with Buy Signal(s):\n",
            "DatetimeIndex(['2023-06-13 12:30:00-04:00', '2023-06-13 13:30:00-04:00',\n",
            "               '2023-06-13 14:30:00-04:00', '2023-06-13 15:30:00-04:00',\n",
            "               '2023-06-14 09:30:00-04:00', '2023-06-14 10:30:00-04:00',\n",
            "               '2023-06-14 11:30:00-04:00', '2023-06-14 12:30:00-04:00',\n",
            "               '2023-06-14 13:30:00-04:00', '2023-06-14 14:30:00-04:00',\n",
            "               ...\n",
            "               '2023-12-28 13:30:00-05:00', '2023-12-28 14:30:00-05:00',\n",
            "               '2023-12-28 15:30:00-05:00', '2023-12-29 09:30:00-05:00',\n",
            "               '2023-12-29 10:30:00-05:00', '2023-12-29 11:30:00-05:00',\n",
            "               '2023-12-29 12:30:00-05:00', '2023-12-29 13:30:00-05:00',\n",
            "               '2023-12-29 14:30:00-05:00', '2023-12-29 15:30:00-05:00'],\n",
            "              dtype='datetime64[ns, America/New_York]', name='Datetime', length=962, freq=None)\n"
          ]
        }
      ]
    },
    {
      "cell_type": "markdown",
      "source": [
        "### Evaluate The Model"
      ],
      "metadata": {
        "id": "xuh9tjV5L3K1"
      }
    },
    {
      "cell_type": "markdown",
      "source": [
        "Confusion Metrix"
      ],
      "metadata": {
        "id": "fhJUdvPqipDZ"
      }
    },
    {
      "cell_type": "code",
      "source": [
        "print(metrics.confusion_matrix(y_test, predicted))"
      ],
      "metadata": {
        "colab": {
          "base_uri": "https://localhost:8080/"
        },
        "id": "4zXRNt35L5Z3",
        "outputId": "851ec209-c408-43d3-e32c-ecef0f525115"
      },
      "execution_count": 47,
      "outputs": [
        {
          "output_type": "stream",
          "name": "stdout",
          "text": [
            "[[  0 452]\n",
            " [  0 510]]\n"
          ]
        }
      ]
    },
    {
      "cell_type": "markdown",
      "source": [
        "Classification Metrix"
      ],
      "metadata": {
        "id": "r4AbVUPziuX2"
      }
    },
    {
      "cell_type": "code",
      "source": [
        "print(metrics.classification_report(y_test, predicted))"
      ],
      "metadata": {
        "colab": {
          "base_uri": "https://localhost:8080/"
        },
        "id": "Q4wFT-6OMAFZ",
        "outputId": "d51cdf68-2bdf-4024-e1a7-d364a5804d81"
      },
      "execution_count": 48,
      "outputs": [
        {
          "output_type": "stream",
          "name": "stdout",
          "text": [
            "              precision    recall  f1-score   support\n",
            "\n",
            "          -1       0.00      0.00      0.00       452\n",
            "           1       0.53      1.00      0.69       510\n",
            "\n",
            "    accuracy                           0.53       962\n",
            "   macro avg       0.27      0.50      0.35       962\n",
            "weighted avg       0.28      0.53      0.37       962\n",
            "\n"
          ]
        },
        {
          "output_type": "stream",
          "name": "stderr",
          "text": [
            "/usr/local/lib/python3.10/dist-packages/sklearn/metrics/_classification.py:1344: UndefinedMetricWarning: Precision and F-score are ill-defined and being set to 0.0 in labels with no predicted samples. Use `zero_division` parameter to control this behavior.\n",
            "  _warn_prf(average, modifier, msg_start, len(result))\n",
            "/usr/local/lib/python3.10/dist-packages/sklearn/metrics/_classification.py:1344: UndefinedMetricWarning: Precision and F-score are ill-defined and being set to 0.0 in labels with no predicted samples. Use `zero_division` parameter to control this behavior.\n",
            "  _warn_prf(average, modifier, msg_start, len(result))\n",
            "/usr/local/lib/python3.10/dist-packages/sklearn/metrics/_classification.py:1344: UndefinedMetricWarning: Precision and F-score are ill-defined and being set to 0.0 in labels with no predicted samples. Use `zero_division` parameter to control this behavior.\n",
            "  _warn_prf(average, modifier, msg_start, len(result))\n"
          ]
        }
      ]
    },
    {
      "cell_type": "markdown",
      "source": [
        "## Create Trading Strategy Using The Model"
      ],
      "metadata": {
        "id": "PUm2CTtTMM76"
      }
    },
    {
      "cell_type": "code",
      "source": [
        "wmt_df['Predicted_Signal'] = model1.predict(X)\n",
        "wmt_df['WMT_returns'] = np.log(wmt_df['Close']/wmt_df['Close'].shift(1))\n",
        "Cumulative_WMT_returns = np.cumsum(wmt_df[split:]['WMT_returns'])\n",
        "\n",
        "\n",
        "wmt_df['Strategy_returns'] = wmt_df['WMT_returns']* wmt_df['Predicted_Signal'].shift(1)\n",
        "Cumulative_Strategy_returns = np.cumsum(wmt_df[split:]['Strategy_returns'])\n",
        "plt.figure(figsize=(10,5))\n",
        "plt.plot(Cumulative_Strategy_returns, color='g', label = 'Strategy Returns')\n",
        "plt.legend()\n",
        "plt.show()"
      ],
      "metadata": {
        "colab": {
          "base_uri": "https://localhost:8080/",
          "height": 445
        },
        "id": "umNFwqrsMOkP",
        "outputId": "32b0304e-1bc6-4a41-d63d-97cac6e01f2a"
      },
      "execution_count": 49,
      "outputs": [
        {
          "output_type": "display_data",
          "data": {
            "text/plain": [
              "<Figure size 1000x500 with 1 Axes>"
            ],
            "image/png": "[encoded data removed]"
          },
          "metadata": {}
        }
      ]
    },
    {
      "cell_type": "markdown",
      "source": [
        "# 2.Create another model by add some necessary feature."
      ],
      "metadata": {
        "id": "F3_uHP8lmDG6"
      }
    },
    {
      "cell_type": "code",
      "source": [
        "wmt_df2 = df.copy()"
      ],
      "metadata": {
        "id": "7xf6kX6Gmyc1"
      },
      "execution_count": 274,
      "outputs": []
    },
    {
      "cell_type": "code",
      "source": [
        "wmt_df2 = wmt_df2.drop(columns =['Volume','Dividends','Stock Splits'])"
      ],
      "metadata": {
        "id": "XCg2qJ16m41O"
      },
      "execution_count": 275,
      "outputs": []
    },
    {
      "cell_type": "markdown",
      "source": [
        "### Define Predictor/Independent Variables"
      ],
      "metadata": {
        "id": "f24ZTwolmiCn"
      }
    },
    {
      "cell_type": "code",
      "source": [
        "# Bollinger Bands\n",
        "upper, middle, lower = ta.BBANDS(wmt_df2['Close'], timeperiod=5)\n",
        "MACD_FAST = 20\n",
        "MACD_SLOW = 50\n",
        "MACD_SIGNAL = 9\n"
      ],
      "metadata": {
        "id": "IpMi3nsTR8z_"
      },
      "execution_count": 276,
      "outputs": []
    },
    {
      "cell_type": "code",
      "source": [
        "wmt_df2['ema_50'] = wmt_df2['Close'].ewm(span=50, adjust=False, min_periods=5).mean()\n",
        "wmt_df2['ema_20'] = wmt_df2['Close'].ewm(span=20, adjust=False, min_periods=5).mean()\n",
        "wmt_df2['upperband'] = upper\n",
        "wmt_df2['lowerband'] = lower\n",
        "wmt_df2[\"ema_20-ema_50\"] = wmt_df2['ema_20'] - wmt_df2['ema_50']\n",
        "wmt_df2[\"macd\"],wmt_df2[\"macdHist\"],wmt_df2[\"macdSignal\"] = ta.MACD(wmt_df2[\"Close\"], fastperiod=MACD_FAST, slowperiod=MACD_SLOW, signalperiod=MACD_SIGNAL)\n",
        "wmt_df2 = wmt_df2.dropna()\n",
        "\n",
        "# Bollinger Bands\n",
        "# ind['MA_20'] = ind['Close'].rolling(window=20).mean()\n",
        "# # ind['std_20'] = ind['Close'].rolling(window=20).std()\n",
        "#ind['Upper_BB'] = ind['MA_20'] + 2 * ind['std_20']\n",
        "# ind['Lower_BB'] = ind['MA_20'] - 2 * ind['std_20']"
      ],
      "metadata": {
        "id": "MbTjNY4C87FP"
      },
      "execution_count": 277,
      "outputs": []
    },
    {
      "cell_type": "code",
      "source": [
        "wmt_df2.head(3)"
      ],
      "metadata": {
        "colab": {
          "base_uri": "https://localhost:8080/",
          "height": 175
        },
        "id": "Me6nKfTcqUsT",
        "outputId": "ac196680-dbcf-4b35-938a-245e451f5944"
      },
      "execution_count": 278,
      "outputs": [
        {
          "output_type": "execute_result",
          "data": {
            "text/plain": [
              "                                 Open        High         Low       Close  \\\n",
              "Datetime                                                                    \n",
              "2022-03-11 10:30:00-05:00  142.755005  142.975006  142.360001  142.845001   \n",
              "2022-03-11 11:30:00-05:00  142.850006  142.889999  142.145004  142.472794   \n",
              "2022-03-11 12:30:00-05:00  142.479996  142.904999  142.430893  142.820007   \n",
              "\n",
              "                               ema_50      ema_20   upperband   lowerband  \\\n",
              "Datetime                                                                    \n",
              "2022-03-11 10:30:00-05:00  140.254391  141.250823  142.969851  142.260147   \n",
              "2022-03-11 11:30:00-05:00  140.341387  141.367201  142.934278  142.340838   \n",
              "2022-03-11 12:30:00-05:00  140.438588  141.505564  142.981812  142.429308   \n",
              "\n",
              "                           ema_20-ema_50      macd  macdHist  macdSignal  \n",
              "Datetime                                                                  \n",
              "2022-03-11 10:30:00-05:00       0.996432  1.230227  1.026564    0.203664  \n",
              "2022-03-11 11:30:00-05:00       1.025814  1.245223  1.070296    0.174928  \n",
              "2022-03-11 12:30:00-05:00       1.066976  1.273060  1.110848    0.162211  "
            ],
            "text/html": [
              "\n",
              "  <div id=\"df-9ca6ba97-1270-47eb-a760-4892162e3514\" class=\"colab-df-container\">\n",
              "    <div>\n",
              "<style scoped>\n",
              "    .dataframe tbody tr th:only-of-type {\n",
              "        vertical-align: middle;\n",
              "    }\n",
              "\n",
              "    .dataframe tbody tr th {\n",
              "        vertical-align: top;\n",
              "    }\n",
              "\n",
              "    .dataframe thead th {\n",
              "        text-align: right;\n",
              "    }\n",
              "</style>\n",
              "<table border=\"1\" class=\"dataframe\">\n",
              "  <thead>\n",
              "    <tr style=\"text-align: right;\">\n",
              "      <th></th>\n",
              "      <th>Open</th>\n",
              "      <th>High</th>\n",
              "      <th>Low</th>\n",
              "      <th>Close</th>\n",
              "      <th>ema_50</th>\n",
              "      <th>ema_20</th>\n",
              "      <th>upperband</th>\n",
              "      <th>lowerband</th>\n",
              "      <th>ema_20-ema_50</th>\n",
              "      <th>macd</th>\n",
              "      <th>macdHist</th>\n",
              "      <th>macdSignal</th>\n",
              "    </tr>\n",
              "    <tr>\n",
              "      <th>Datetime</th>\n",
              "      <th></th>\n",
              "      <th></th>\n",
              "      <th></th>\n",
              "      <th></th>\n",
              "      <th></th>\n",
              "      <th></th>\n",
              "      <th></th>\n",
              "      <th></th>\n",
              "      <th></th>\n",
              "      <th></th>\n",
              "      <th></th>\n",
              "      <th></th>\n",
              "    </tr>\n",
              "  </thead>\n",
              "  <tbody>\n",
              "    <tr>\n",
              "      <th>2022-03-11 10:30:00-05:00</th>\n",
              "      <td>142.755005</td>\n",
              "      <td>142.975006</td>\n",
              "      <td>142.360001</td>\n",
              "      <td>142.845001</td>\n",
              "      <td>140.254391</td>\n",
              "      <td>141.250823</td>\n",
              "      <td>142.969851</td>\n",
              "      <td>142.260147</td>\n",
              "      <td>0.996432</td>\n",
              "      <td>1.230227</td>\n",
              "      <td>1.026564</td>\n",
              "      <td>0.203664</td>\n",
              "    </tr>\n",
              "    <tr>\n",
              "      <th>2022-03-11 11:30:00-05:00</th>\n",
              "      <td>142.850006</td>\n",
              "      <td>142.889999</td>\n",
              "      <td>142.145004</td>\n",
              "      <td>142.472794</td>\n",
              "      <td>140.341387</td>\n",
              "      <td>141.367201</td>\n",
              "      <td>142.934278</td>\n",
              "      <td>142.340838</td>\n",
              "      <td>1.025814</td>\n",
              "      <td>1.245223</td>\n",
              "      <td>1.070296</td>\n",
              "      <td>0.174928</td>\n",
              "    </tr>\n",
              "    <tr>\n",
              "      <th>2022-03-11 12:30:00-05:00</th>\n",
              "      <td>142.479996</td>\n",
              "      <td>142.904999</td>\n",
              "      <td>142.430893</td>\n",
              "      <td>142.820007</td>\n",
              "      <td>140.438588</td>\n",
              "      <td>141.505564</td>\n",
              "      <td>142.981812</td>\n",
              "      <td>142.429308</td>\n",
              "      <td>1.066976</td>\n",
              "      <td>1.273060</td>\n",
              "      <td>1.110848</td>\n",
              "      <td>0.162211</td>\n",
              "    </tr>\n",
              "  </tbody>\n",
              "</table>\n",
              "</div>\n",
              "    <div class=\"colab-df-buttons\">\n",
              "\n",
              "  <div class=\"colab-df-container\">\n",
              "    <button class=\"colab-df-convert\" onclick=\"convertToInteractive('df-9ca6ba97-1270-47eb-a760-4892162e3514')\"\n",
              "            title=\"Convert this dataframe to an interactive table.\"\n",
              "            style=\"display:none;\">\n",
              "\n",
              "  <svg xmlns=\"http://www.w3.org/2000/svg\" height=\"24px\" viewBox=\"0 -960 960 960\">\n",
              "    <path d=\"M120-120v-720h720v720H120Zm60-500h600v-160H180v160Zm220 220h160v-160H400v160Zm0 220h160v-160H400v160ZM180-400h160v-160H180v160Zm440 0h160v-160H620v160ZM180-180h160v-160H180v160Zm440 0h160v-160H620v160Z\"/>\n",
              "  </svg>\n",
              "    </button>\n",
              "\n",
              "  <style>\n",
              "    .colab-df-container {\n",
              "      display:flex;\n",
              "      gap: 12px;\n",
              "    }\n",
              "\n",
              "    .colab-df-convert {\n",
              "      background-color: #E8F0FE;\n",
              "      border: none;\n",
              "      border-radius: 50%;\n",
              "      cursor: pointer;\n",
              "      display: none;\n",
              "      fill: #1967D2;\n",
              "      height: 32px;\n",
              "      padding: 0 0 0 0;\n",
              "      width: 32px;\n",
              "    }\n",
              "\n",
              "    .colab-df-convert:hover {\n",
              "      background-color: #E2EBFA;\n",
              "      box-shadow: 0px 1px 2px rgba(60, 64, 67, 0.3), 0px 1px 3px 1px rgba(60, 64, 67, 0.15);\n",
              "      fill: #174EA6;\n",
              "    }\n",
              "\n",
              "    .colab-df-buttons div {\n",
              "      margin-bottom: 4px;\n",
              "    }\n",
              "\n",
              "    [theme=dark] .colab-df-convert {\n",
              "      background-color: #3B4455;\n",
              "      fill: #D2E3FC;\n",
              "    }\n",
              "\n",
              "    [theme=dark] .colab-df-convert:hover {\n",
              "      background-color: #434B5C;\n",
              "      box-shadow: 0px 1px 3px 1px rgba(0, 0, 0, 0.15);\n",
              "      filter: drop-shadow(0px 1px 2px rgba(0, 0, 0, 0.3));\n",
              "      fill: #FFFFFF;\n",
              "    }\n",
              "  </style>\n",
              "\n",
              "    <script>\n",
              "      const buttonEl =\n",
              "        document.querySelector('#df-9ca6ba97-1270-47eb-a760-4892162e3514 button.colab-df-convert');\n",
              "      buttonEl.style.display =\n",
              "        google.colab.kernel.accessAllowed ? 'block' : 'none';\n",
              "\n",
              "      async function convertToInteractive(key) {\n",
              "        const element = document.querySelector('#df-9ca6ba97-1270-47eb-a760-4892162e3514');\n",
              "        const dataTable =\n",
              "          await google.colab.kernel.invokeFunction('convertToInteractive',\n",
              "                                                    [key], {});\n",
              "        if (!dataTable) return;\n",
              "\n",
              "        const docLinkHtml = 'Like what you see? Visit the ' +\n",
              "          '<a target=\"_blank\" href=https://colab.research.google.com/notebooks/data_table.ipynb>data table notebook</a>'\n",
              "          + ' to learn more about interactive tables.';\n",
              "        element.innerHTML = '';\n",
              "        dataTable['output_type'] = 'display_data';\n",
              "        await google.colab.output.renderOutput(dataTable, element);\n",
              "        const docLink = document.createElement('div');\n",
              "        docLink.innerHTML = docLinkHtml;\n",
              "        element.appendChild(docLink);\n",
              "      }\n",
              "    </script>\n",
              "  </div>\n",
              "\n",
              "\n",
              "<div id=\"df-94bc16d4-02af-4cba-bd04-5dfc21cfcc1a\">\n",
              "  <button class=\"colab-df-quickchart\" onclick=\"quickchart('df-94bc16d4-02af-4cba-bd04-5dfc21cfcc1a')\"\n",
              "            title=\"Suggest charts\"\n",
              "            style=\"display:none;\">\n",
              "\n",
              "<svg xmlns=\"http://www.w3.org/2000/svg\" height=\"24px\"viewBox=\"0 0 24 24\"\n",
              "     width=\"24px\">\n",
              "    <g>\n",
              "        <path d=\"M19 3H5c-1.1 0-2 .9-2 2v14c0 1.1.9 2 2 2h14c1.1 0 2-.9 2-2V5c0-1.1-.9-2-2-2zM9 17H7v-7h2v7zm4 0h-2V7h2v10zm4 0h-2v-4h2v4z\"/>\n",
              "    </g>\n",
              "</svg>\n",
              "  </button>\n",
              "\n",
              "<style>\n",
              "  .colab-df-quickchart {\n",
              "      --bg-color: #E8F0FE;\n",
              "      --fill-color: #1967D2;\n",
              "      --hover-bg-color: #E2EBFA;\n",
              "      --hover-fill-color: #174EA6;\n",
              "      --disabled-fill-color: #AAA;\n",
              "      --disabled-bg-color: #DDD;\n",
              "  }\n",
              "\n",
              "  [theme=dark] .colab-df-quickchart {\n",
              "      --bg-color: #3B4455;\n",
              "      --fill-color: #D2E3FC;\n",
              "      --hover-bg-color: #434B5C;\n",
              "      --hover-fill-color: #FFFFFF;\n",
              "      --disabled-bg-color: #3B4455;\n",
              "      --disabled-fill-color: #666;\n",
              "  }\n",
              "\n",
              "  .colab-df-quickchart {\n",
              "    background-color: var(--bg-color);\n",
              "    border: none;\n",
              "    border-radius: 50%;\n",
              "    cursor: pointer;\n",
              "    display: none;\n",
              "    fill: var(--fill-color);\n",
              "    height: 32px;\n",
              "    padding: 0;\n",
              "    width: 32px;\n",
              "  }\n",
              "\n",
              "  .colab-df-quickchart:hover {\n",
              "    background-color: var(--hover-bg-color);\n",
              "    box-shadow: 0 1px 2px rgba(60, 64, 67, 0.3), 0 1px 3px 1px rgba(60, 64, 67, 0.15);\n",
              "    fill: var(--button-hover-fill-color);\n",
              "  }\n",
              "\n",
              "  .colab-df-quickchart-complete:disabled,\n",
              "  .colab-df-quickchart-complete:disabled:hover {\n",
              "    background-color: var(--disabled-bg-color);\n",
              "    fill: var(--disabled-fill-color);\n",
              "    box-shadow: none;\n",
              "  }\n",
              "\n",
              "  .colab-df-spinner {\n",
              "    border: 2px solid var(--fill-color);\n",
              "    border-color: transparent;\n",
              "    border-bottom-color: var(--fill-color);\n",
              "    animation:\n",
              "      spin 1s steps(1) infinite;\n",
              "  }\n",
              "\n",
              "  @keyframes spin {\n",
              "    0% {\n",
              "      border-color: transparent;\n",
              "      border-bottom-color: var(--fill-color);\n",
              "      border-left-color: var(--fill-color);\n",
              "    }\n",
              "    20% {\n",
              "      border-color: transparent;\n",
              "      border-left-color: var(--fill-color);\n",
              "      border-top-color: var(--fill-color);\n",
              "    }\n",
              "    30% {\n",
              "      border-color: transparent;\n",
              "      border-left-color: var(--fill-color);\n",
              "      border-top-color: var(--fill-color);\n",
              "      border-right-color: var(--fill-color);\n",
              "    }\n",
              "    40% {\n",
              "      border-color: transparent;\n",
              "      border-right-color: var(--fill-color);\n",
              "      border-top-color: var(--fill-color);\n",
              "    }\n",
              "    60% {\n",
              "      border-color: transparent;\n",
              "      border-right-color: var(--fill-color);\n",
              "    }\n",
              "    80% {\n",
              "      border-color: transparent;\n",
              "      border-right-color: var(--fill-color);\n",
              "      border-bottom-color: var(--fill-color);\n",
              "    }\n",
              "    90% {\n",
              "      border-color: transparent;\n",
              "      border-bottom-color: var(--fill-color);\n",
              "    }\n",
              "  }\n",
              "</style>\n",
              "\n",
              "  <script>\n",
              "    async function quickchart(key) {\n",
              "      const quickchartButtonEl =\n",
              "        document.querySelector('#' + key + ' button');\n",
              "      quickchartButtonEl.disabled = true;  // To prevent multiple clicks.\n",
              "      quickchartButtonEl.classList.add('colab-df-spinner');\n",
              "      try {\n",
              "        const charts = await google.colab.kernel.invokeFunction(\n",
              "            'suggestCharts', [key], {});\n",
              "      } catch (error) {\n",
              "        console.error('Error during call to suggestCharts:', error);\n",
              "      }\n",
              "      quickchartButtonEl.classList.remove('colab-df-spinner');\n",
              "      quickchartButtonEl.classList.add('colab-df-quickchart-complete');\n",
              "    }\n",
              "    (() => {\n",
              "      let quickchartButtonEl =\n",
              "        document.querySelector('#df-94bc16d4-02af-4cba-bd04-5dfc21cfcc1a button');\n",
              "      quickchartButtonEl.style.display =\n",
              "        google.colab.kernel.accessAllowed ? 'block' : 'none';\n",
              "    })();\n",
              "  </script>\n",
              "</div>\n",
              "    </div>\n",
              "  </div>\n"
            ],
            "application/vnd.google.colaboratory.intrinsic+json": {
              "type": "dataframe",
              "variable_name": "wmt_df2",
              "summary": "{\n  \"name\": \"wmt_df2\",\n  \"rows\": 3165,\n  \"fields\": [\n    {\n      \"column\": \"Open\",\n      \"properties\": {\n        \"dtype\": \"number\",\n        \"std\": 11.964378102283288,\n        \"min\": 117.44999694824219,\n        \"max\": 169.38999938964844,\n        \"num_unique_values\": 2450,\n        \"samples\": [\n          141.38999938964844,\n          140.77000427246094,\n          155.90499877929688\n        ],\n        \"semantic_type\": \"\",\n        \"description\": \"\"\n      }\n    },\n    {\n      \"column\": \"High\",\n      \"properties\": {\n        \"dtype\": \"number\",\n        \"std\": 11.914748348572164,\n        \"min\": 118.5199966430664,\n        \"max\": 169.94000244140625,\n        \"num_unique_values\": 2418,\n        \"samples\": [\n          123.19999694824219,\n          157.22000122070312,\n          147.85000610351562\n        ],\n        \"semantic_type\": \"\",\n        \"description\": \"\"\n      }\n    },\n    {\n      \"column\": \"Low\",\n      \"properties\": {\n        \"dtype\": \"number\",\n        \"std\": 11.99316402319182,\n        \"min\": 117.2699966430664,\n        \"max\": 169.0850067138672,\n        \"num_unique_values\": 2433,\n        \"samples\": [\n          117.9749984741211,\n          164.10000610351562,\n          129.3000030517578\n        ],\n        \"semantic_type\": \"\",\n        \"description\": \"\"\n      }\n    },\n    {\n      \"column\": \"Close\",\n      \"properties\": {\n        \"dtype\": \"number\",\n        \"std\": 11.950131887582886,\n        \"min\": 117.47000122070312,\n        \"max\": 169.77000427246094,\n        \"num_unique_values\": 2547,\n        \"samples\": [\n          143.0399932861328,\n          158.86000061035156,\n          161.6300048828125\n        ],\n        \"semantic_type\": \"\",\n        \"description\": \"\"\n      }\n    },\n    {\n      \"column\": \"ema_50\",\n      \"properties\": {\n        \"dtype\": \"number\",\n        \"std\": 11.616704939421064,\n        \"min\": 120.37308395400169,\n        \"max\": 166.72793234868723,\n        \"num_unique_values\": 3165,\n        \"samples\": [\n          161.48941908622797,\n          131.81583446563445,\n          154.8014358367613\n        ],\n        \"semantic_type\": \"\",\n        \"description\": \"\"\n      }\n    },\n    {\n      \"column\": \"ema_20\",\n      \"properties\": {\n        \"dtype\": \"number\",\n        \"std\": 11.815529617245137,\n        \"min\": 119.33315902194667,\n        \"max\": 168.09552151079757,\n        \"num_unique_values\": 3165,\n        \"samples\": [\n          162.49522228554073,\n          122.6028997802367,\n          156.118788908009\n        ],\n        \"semantic_type\": \"\",\n        \"description\": \"\"\n      }\n    },\n    {\n      \"column\": \"upperband\",\n      \"properties\": {\n        \"dtype\": \"number\",\n        \"std\": 11.852287678397623,\n        \"min\": 118.88725380878402,\n        \"max\": 176.70907198654191,\n        \"num_unique_values\": 3159,\n        \"samples\": [\n          160.6539933681603,\n          160.11449018557607,\n          155.01516681989943\n        ],\n        \"semantic_type\": \"\",\n        \"description\": \"\"\n      }\n    },\n    {\n      \"column\": \"lowerband\",\n      \"properties\": {\n        \"dtype\": \"number\",\n        \"std\": 12.077499864194742,\n        \"min\": 114.6186791625025,\n        \"max\": 168.59002127811706,\n        \"num_unique_values\": 3159,\n        \"samples\": [\n          159.63000321387096,\n          156.81750444333017,\n          154.55083659806934\n        ],\n        \"semantic_type\": \"\",\n        \"description\": \"\"\n      }\n    },\n    {\n      \"column\": \"ema_20-ema_50\",\n      \"properties\": {\n        \"dtype\": \"number\",\n        \"std\": 1.3712808842211663,\n        \"min\": -9.399950820192771,\n        \"max\": 3.5398242051998636,\n        \"num_unique_values\": 3165,\n        \"samples\": [\n          1.0058031993127656,\n          -9.212934685397755,\n          1.3173530712477088\n        ],\n        \"semantic_type\": \"\",\n        \"description\": \"\"\n      }\n    },\n    {\n      \"column\": \"macd\",\n      \"properties\": {\n        \"dtype\": \"number\",\n        \"std\": 1.3724926017867647,\n        \"min\": -9.399950659414117,\n        \"max\": 3.539824205199949,\n        \"num_unique_values\": 3165,\n        \"samples\": [\n          1.0058031993128793,\n          -9.21293454839413,\n          1.3175095960381213\n        ],\n        \"semantic_type\": \"\",\n        \"description\": \"\"\n      }\n    },\n    {\n      \"column\": \"macdHist\",\n      \"properties\": {\n        \"dtype\": \"number\",\n        \"std\": 1.3386781615907068,\n        \"min\": -9.093232241364706,\n        \"max\": 3.2939236011959676,\n        \"num_unique_values\": 3165,\n        \"samples\": [\n          0.8957254585141935,\n          -9.093232241364706,\n          1.1948499610993362\n        ],\n        \"semantic_type\": \"\",\n        \"description\": \"\"\n      }\n    },\n    {\n      \"column\": \"macdSignal\",\n      \"properties\": {\n        \"dtype\": \"number\",\n        \"std\": 0.27077877900203423,\n        \"min\": -2.0014598017826826,\n        \"max\": 1.1154340485891163,\n        \"num_unique_values\": 3165,\n        \"samples\": [\n          0.11007774079868582,\n          -0.1197023070294243,\n          0.12265963493878518\n        ],\n        \"semantic_type\": \"\",\n        \"description\": \"\"\n      }\n    }\n  ]\n}"
            }
          },
          "metadata": {},
          "execution_count": 278
        }
      ]
    },
    {
      "cell_type": "markdown",
      "source": [
        "### Define Target/Dependent Variable"
      ],
      "metadata": {
        "id": "lP9vK_n4qXtA"
      }
    },
    {
      "cell_type": "code",
      "source": [
        "y2 = np.where(wmt_df2['Close'].shift(-1) > wmt_df2['Close'],1,-1)"
      ],
      "metadata": {
        "id": "NYrhwTkqqai2"
      },
      "execution_count": 279,
      "outputs": []
    },
    {
      "cell_type": "code",
      "source": [
        "len(X2)"
      ],
      "metadata": {
        "colab": {
          "base_uri": "https://localhost:8080/"
        },
        "id": "Rs4Kp5oas1_t",
        "outputId": "8fd5a892-0a65-49af-f999-298fcc22dbbe"
      },
      "execution_count": 280,
      "outputs": [
        {
          "output_type": "execute_result",
          "data": {
            "text/plain": [
              "3165"
            ]
          },
          "metadata": {},
          "execution_count": 280
        }
      ]
    },
    {
      "cell_type": "code",
      "source": [
        "X2 = wmt_df2.iloc[:,:12]"
      ],
      "metadata": {
        "id": "GK3GDZ5er-l1"
      },
      "execution_count": 281,
      "outputs": []
    },
    {
      "cell_type": "markdown",
      "source": [
        "### Split The Dataset"
      ],
      "metadata": {
        "id": "XaFBS35MqyZZ"
      }
    },
    {
      "cell_type": "code",
      "source": [
        "split2 = int(0.7*len(wmt_df2))\n",
        "X2_train, X2_test, y2_train, y2_test = X2[:split2], X2[split2:], y2[:split2], y2[split2:]"
      ],
      "metadata": {
        "id": "89GoTB3QqzfZ"
      },
      "execution_count": 282,
      "outputs": []
    },
    {
      "cell_type": "markdown",
      "source": [
        "### Instantiate The Logistic Regression in Python"
      ],
      "metadata": {
        "id": "8elhi7D2tbnp"
      }
    },
    {
      "cell_type": "code",
      "source": [
        "model2 = LogisticRegression()\n",
        "model2 = model2.fit (X2_train,y2_train)"
      ],
      "metadata": {
        "id": "WMwqltfltcjx"
      },
      "execution_count": 283,
      "outputs": []
    },
    {
      "cell_type": "markdown",
      "source": [
        "### Examine The Coefficients"
      ],
      "metadata": {
        "id": "5e7yjIi3tnov"
      }
    },
    {
      "cell_type": "code",
      "source": [
        "pd.DataFrame(zip(X2.columns, np.transpose(model2.coef_)))"
      ],
      "metadata": {
        "colab": {
          "base_uri": "https://localhost:8080/",
          "height": 425
        },
        "id": "sEBx1vNdto5-",
        "outputId": "2d3e5581-6cad-4a51-9876-b4758d35b448"
      },
      "execution_count": 284,
      "outputs": [
        {
          "output_type": "execute_result",
          "data": {
            "text/plain": [
              "                0                        1\n",
              "0            Open  [-0.006998042537787406]\n",
              "1            High    [0.02428014249572219]\n",
              "2             Low   [-0.15660185398330442]\n",
              "3           Close    [0.09783776042594557]\n",
              "4          ema_50  [-0.021345371176805877]\n",
              "5          ema_20   [-0.03849122818865509]\n",
              "6       upperband   [0.021202421112529464]\n",
              "7       lowerband    [0.08049721950206523]\n",
              "8   ema_20-ema_50  [-0.017145857012028646]\n",
              "9            macd   [-0.01572735889017519]\n",
              "10       macdHist   [-0.05185215453020345]\n",
              "11     macdSignal   [0.036124795640216666]"
            ],
            "text/html": [
              "\n",
              "  <div id=\"df-3b05823b-757f-41cc-84ab-8c70bacabac0\" class=\"colab-df-container\">\n",
              "    <div>\n",
              "<style scoped>\n",
              "    .dataframe tbody tr th:only-of-type {\n",
              "        vertical-align: middle;\n",
              "    }\n",
              "\n",
              "    .dataframe tbody tr th {\n",
              "        vertical-align: top;\n",
              "    }\n",
              "\n",
              "    .dataframe thead th {\n",
              "        text-align: right;\n",
              "    }\n",
              "</style>\n",
              "<table border=\"1\" class=\"dataframe\">\n",
              "  <thead>\n",
              "    <tr style=\"text-align: right;\">\n",
              "      <th></th>\n",
              "      <th>0</th>\n",
              "      <th>1</th>\n",
              "    </tr>\n",
              "  </thead>\n",
              "  <tbody>\n",
              "    <tr>\n",
              "      <th>0</th>\n",
              "      <td>Open</td>\n",
              "      <td>[-0.006998042537787406]</td>\n",
              "    </tr>\n",
              "    <tr>\n",
              "      <th>1</th>\n",
              "      <td>High</td>\n",
              "      <td>[0.02428014249572219]</td>\n",
              "    </tr>\n",
              "    <tr>\n",
              "      <th>2</th>\n",
              "      <td>Low</td>\n",
              "      <td>[-0.15660185398330442]</td>\n",
              "    </tr>\n",
              "    <tr>\n",
              "      <th>3</th>\n",
              "      <td>Close</td>\n",
              "      <td>[0.09783776042594557]</td>\n",
              "    </tr>\n",
              "    <tr>\n",
              "      <th>4</th>\n",
              "      <td>ema_50</td>\n",
              "      <td>[-0.021345371176805877]</td>\n",
              "    </tr>\n",
              "    <tr>\n",
              "      <th>5</th>\n",
              "      <td>ema_20</td>\n",
              "      <td>[-0.03849122818865509]</td>\n",
              "    </tr>\n",
              "    <tr>\n",
              "      <th>6</th>\n",
              "      <td>upperband</td>\n",
              "      <td>[0.021202421112529464]</td>\n",
              "    </tr>\n",
              "    <tr>\n",
              "      <th>7</th>\n",
              "      <td>lowerband</td>\n",
              "      <td>[0.08049721950206523]</td>\n",
              "    </tr>\n",
              "    <tr>\n",
              "      <th>8</th>\n",
              "      <td>ema_20-ema_50</td>\n",
              "      <td>[-0.017145857012028646]</td>\n",
              "    </tr>\n",
              "    <tr>\n",
              "      <th>9</th>\n",
              "      <td>macd</td>\n",
              "      <td>[-0.01572735889017519]</td>\n",
              "    </tr>\n",
              "    <tr>\n",
              "      <th>10</th>\n",
              "      <td>macdHist</td>\n",
              "      <td>[-0.05185215453020345]</td>\n",
              "    </tr>\n",
              "    <tr>\n",
              "      <th>11</th>\n",
              "      <td>macdSignal</td>\n",
              "      <td>[0.036124795640216666]</td>\n",
              "    </tr>\n",
              "  </tbody>\n",
              "</table>\n",
              "</div>\n",
              "    <div class=\"colab-df-buttons\">\n",
              "\n",
              "  <div class=\"colab-df-container\">\n",
              "    <button class=\"colab-df-convert\" onclick=\"convertToInteractive('df-3b05823b-757f-41cc-84ab-8c70bacabac0')\"\n",
              "            title=\"Convert this dataframe to an interactive table.\"\n",
              "            style=\"display:none;\">\n",
              "\n",
              "  <svg xmlns=\"http://www.w3.org/2000/svg\" height=\"24px\" viewBox=\"0 -960 960 960\">\n",
              "    <path d=\"M120-120v-720h720v720H120Zm60-500h600v-160H180v160Zm220 220h160v-160H400v160Zm0 220h160v-160H400v160ZM180-400h160v-160H180v160Zm440 0h160v-160H620v160ZM180-180h160v-160H180v160Zm440 0h160v-160H620v160Z\"/>\n",
              "  </svg>\n",
              "    </button>\n",
              "\n",
              "  <style>\n",
              "    .colab-df-container {\n",
              "      display:flex;\n",
              "      gap: 12px;\n",
              "    }\n",
              "\n",
              "    .colab-df-convert {\n",
              "      background-color: #E8F0FE;\n",
              "      border: none;\n",
              "      border-radius: 50%;\n",
              "      cursor: pointer;\n",
              "      display: none;\n",
              "      fill: #1967D2;\n",
              "      height: 32px;\n",
              "      padding: 0 0 0 0;\n",
              "      width: 32px;\n",
              "    }\n",
              "\n",
              "    .colab-df-convert:hover {\n",
              "      background-color: #E2EBFA;\n",
              "      box-shadow: 0px 1px 2px rgba(60, 64, 67, 0.3), 0px 1px 3px 1px rgba(60, 64, 67, 0.15);\n",
              "      fill: #174EA6;\n",
              "    }\n",
              "\n",
              "    .colab-df-buttons div {\n",
              "      margin-bottom: 4px;\n",
              "    }\n",
              "\n",
              "    [theme=dark] .colab-df-convert {\n",
              "      background-color: #3B4455;\n",
              "      fill: #D2E3FC;\n",
              "    }\n",
              "\n",
              "    [theme=dark] .colab-df-convert:hover {\n",
              "      background-color: #434B5C;\n",
              "      box-shadow: 0px 1px 3px 1px rgba(0, 0, 0, 0.15);\n",
              "      filter: drop-shadow(0px 1px 2px rgba(0, 0, 0, 0.3));\n",
              "      fill: #FFFFFF;\n",
              "    }\n",
              "  </style>\n",
              "\n",
              "    <script>\n",
              "      const buttonEl =\n",
              "        document.querySelector('#df-3b05823b-757f-41cc-84ab-8c70bacabac0 button.colab-df-convert');\n",
              "      buttonEl.style.display =\n",
              "        google.colab.kernel.accessAllowed ? 'block' : 'none';\n",
              "\n",
              "      async function convertToInteractive(key) {\n",
              "        const element = document.querySelector('#df-3b05823b-757f-41cc-84ab-8c70bacabac0');\n",
              "        const dataTable =\n",
              "          await google.colab.kernel.invokeFunction('convertToInteractive',\n",
              "                                                    [key], {});\n",
              "        if (!dataTable) return;\n",
              "\n",
              "        const docLinkHtml = 'Like what you see? Visit the ' +\n",
              "          '<a target=\"_blank\" href=https://colab.research.google.com/notebooks/data_table.ipynb>data table notebook</a>'\n",
              "          + ' to learn more about interactive tables.';\n",
              "        element.innerHTML = '';\n",
              "        dataTable['output_type'] = 'display_data';\n",
              "        await google.colab.output.renderOutput(dataTable, element);\n",
              "        const docLink = document.createElement('div');\n",
              "        docLink.innerHTML = docLinkHtml;\n",
              "        element.appendChild(docLink);\n",
              "      }\n",
              "    </script>\n",
              "  </div>\n",
              "\n",
              "\n",
              "<div id=\"df-2f6e2f4f-dbdc-4e5c-acf0-fc764e1b0f38\">\n",
              "  <button class=\"colab-df-quickchart\" onclick=\"quickchart('df-2f6e2f4f-dbdc-4e5c-acf0-fc764e1b0f38')\"\n",
              "            title=\"Suggest charts\"\n",
              "            style=\"display:none;\">\n",
              "\n",
              "<svg xmlns=\"http://www.w3.org/2000/svg\" height=\"24px\"viewBox=\"0 0 24 24\"\n",
              "     width=\"24px\">\n",
              "    <g>\n",
              "        <path d=\"M19 3H5c-1.1 0-2 .9-2 2v14c0 1.1.9 2 2 2h14c1.1 0 2-.9 2-2V5c0-1.1-.9-2-2-2zM9 17H7v-7h2v7zm4 0h-2V7h2v10zm4 0h-2v-4h2v4z\"/>\n",
              "    </g>\n",
              "</svg>\n",
              "  </button>\n",
              "\n",
              "<style>\n",
              "  .colab-df-quickchart {\n",
              "      --bg-color: #E8F0FE;\n",
              "      --fill-color: #1967D2;\n",
              "      --hover-bg-color: #E2EBFA;\n",
              "      --hover-fill-color: #174EA6;\n",
              "      --disabled-fill-color: #AAA;\n",
              "      --disabled-bg-color: #DDD;\n",
              "  }\n",
              "\n",
              "  [theme=dark] .colab-df-quickchart {\n",
              "      --bg-color: #3B4455;\n",
              "      --fill-color: #D2E3FC;\n",
              "      --hover-bg-color: #434B5C;\n",
              "      --hover-fill-color: #FFFFFF;\n",
              "      --disabled-bg-color: #3B4455;\n",
              "      --disabled-fill-color: #666;\n",
              "  }\n",
              "\n",
              "  .colab-df-quickchart {\n",
              "    background-color: var(--bg-color);\n",
              "    border: none;\n",
              "    border-radius: 50%;\n",
              "    cursor: pointer;\n",
              "    display: none;\n",
              "    fill: var(--fill-color);\n",
              "    height: 32px;\n",
              "    padding: 0;\n",
              "    width: 32px;\n",
              "  }\n",
              "\n",
              "  .colab-df-quickchart:hover {\n",
              "    background-color: var(--hover-bg-color);\n",
              "    box-shadow: 0 1px 2px rgba(60, 64, 67, 0.3), 0 1px 3px 1px rgba(60, 64, 67, 0.15);\n",
              "    fill: var(--button-hover-fill-color);\n",
              "  }\n",
              "\n",
              "  .colab-df-quickchart-complete:disabled,\n",
              "  .colab-df-quickchart-complete:disabled:hover {\n",
              "    background-color: var(--disabled-bg-color);\n",
              "    fill: var(--disabled-fill-color);\n",
              "    box-shadow: none;\n",
              "  }\n",
              "\n",
              "  .colab-df-spinner {\n",
              "    border: 2px solid var(--fill-color);\n",
              "    border-color: transparent;\n",
              "    border-bottom-color: var(--fill-color);\n",
              "    animation:\n",
              "      spin 1s steps(1) infinite;\n",
              "  }\n",
              "\n",
              "  @keyframes spin {\n",
              "    0% {\n",
              "      border-color: transparent;\n",
              "      border-bottom-color: var(--fill-color);\n",
              "      border-left-color: var(--fill-color);\n",
              "    }\n",
              "    20% {\n",
              "      border-color: transparent;\n",
              "      border-left-color: var(--fill-color);\n",
              "      border-top-color: var(--fill-color);\n",
              "    }\n",
              "    30% {\n",
              "      border-color: transparent;\n",
              "      border-left-color: var(--fill-color);\n",
              "      border-top-color: var(--fill-color);\n",
              "      border-right-color: var(--fill-color);\n",
              "    }\n",
              "    40% {\n",
              "      border-color: transparent;\n",
              "      border-right-color: var(--fill-color);\n",
              "      border-top-color: var(--fill-color);\n",
              "    }\n",
              "    60% {\n",
              "      border-color: transparent;\n",
              "      border-right-color: var(--fill-color);\n",
              "    }\n",
              "    80% {\n",
              "      border-color: transparent;\n",
              "      border-right-color: var(--fill-color);\n",
              "      border-bottom-color: var(--fill-color);\n",
              "    }\n",
              "    90% {\n",
              "      border-color: transparent;\n",
              "      border-bottom-color: var(--fill-color);\n",
              "    }\n",
              "  }\n",
              "</style>\n",
              "\n",
              "  <script>\n",
              "    async function quickchart(key) {\n",
              "      const quickchartButtonEl =\n",
              "        document.querySelector('#' + key + ' button');\n",
              "      quickchartButtonEl.disabled = true;  // To prevent multiple clicks.\n",
              "      quickchartButtonEl.classList.add('colab-df-spinner');\n",
              "      try {\n",
              "        const charts = await google.colab.kernel.invokeFunction(\n",
              "            'suggestCharts', [key], {});\n",
              "      } catch (error) {\n",
              "        console.error('Error during call to suggestCharts:', error);\n",
              "      }\n",
              "      quickchartButtonEl.classList.remove('colab-df-spinner');\n",
              "      quickchartButtonEl.classList.add('colab-df-quickchart-complete');\n",
              "    }\n",
              "    (() => {\n",
              "      let quickchartButtonEl =\n",
              "        document.querySelector('#df-2f6e2f4f-dbdc-4e5c-acf0-fc764e1b0f38 button');\n",
              "      quickchartButtonEl.style.display =\n",
              "        google.colab.kernel.accessAllowed ? 'block' : 'none';\n",
              "    })();\n",
              "  </script>\n",
              "</div>\n",
              "    </div>\n",
              "  </div>\n"
            ],
            "application/vnd.google.colaboratory.intrinsic+json": {
              "type": "dataframe",
              "summary": "{\n  \"name\": \"pd\",\n  \"rows\": 12,\n  \"fields\": [\n    {\n      \"column\": 0,\n      \"properties\": {\n        \"dtype\": \"string\",\n        \"num_unique_values\": 12,\n        \"samples\": [\n          \"macdHist\",\n          \"macd\",\n          \"Open\"\n        ],\n        \"semantic_type\": \"\",\n        \"description\": \"\"\n      }\n    },\n    {\n      \"column\": 1,\n      \"properties\": {\n        \"dtype\": \"object\",\n        \"semantic_type\": \"\",\n        \"description\": \"\"\n      }\n    }\n  ]\n}"
            }
          },
          "metadata": {},
          "execution_count": 284
        }
      ]
    },
    {
      "cell_type": "markdown",
      "source": [
        "### Calculate Class Probabilities"
      ],
      "metadata": {
        "id": "2gBR0rcdtvF6"
      }
    },
    {
      "cell_type": "code",
      "source": [
        "# Specify the date for prediction\n",
        "probability = model2.predict_proba(X2_test)\n",
        "print(probability)"
      ],
      "metadata": {
        "colab": {
          "base_uri": "https://localhost:8080/"
        },
        "id": "i48zqyiytxRW",
        "outputId": "ff35ade5-8727-4751-b95e-ca24412fa4ee"
      },
      "execution_count": 285,
      "outputs": [
        {
          "output_type": "stream",
          "name": "stdout",
          "text": [
            "[[0.5120571  0.4879429 ]\n",
            " [0.50014968 0.49985032]\n",
            " [0.51028046 0.48971954]\n",
            " ...\n",
            " [0.5072842  0.4927158 ]\n",
            " [0.50431973 0.49568027]\n",
            " [0.51067168 0.48932832]]\n"
          ]
        }
      ]
    },
    {
      "cell_type": "markdown",
      "source": [
        "### Predict Class Labels"
      ],
      "metadata": {
        "id": "upnyMTnMt6Me"
      }
    },
    {
      "cell_type": "code",
      "source": [
        "predicted2 = model2.predict(X2_test)"
      ],
      "metadata": {
        "id": "gxSJP3_ht7f_"
      },
      "execution_count": 286,
      "outputs": []
    },
    {
      "cell_type": "code",
      "source": [
        "print(predicted2)"
      ],
      "metadata": {
        "colab": {
          "base_uri": "https://localhost:8080/"
        },
        "id": "SNK3J_wXuGP3",
        "outputId": "d5ee1769-d180-40c9-ce86-c266164c1ced"
      },
      "execution_count": 287,
      "outputs": [
        {
          "output_type": "stream",
          "name": "stdout",
          "text": [
            "[-1 -1 -1  1  1 -1 -1 -1 -1 -1 -1 -1 -1 -1 -1 -1 -1 -1 -1 -1  1 -1 -1 -1\n",
            " -1 -1  1  1 -1 -1 -1  1  1  1  1  1  1  1  1  1  1  1  1  1 -1 -1  1  1\n",
            "  1  1  1  1  1  1  1  1  1  1  1  1  1  1  1  1 -1 -1  1  1  1  1 -1 -1\n",
            "  1  1  1  1  1  1  1  1  1  1  1  1  1 -1  1  1  1 -1 -1  1 -1  1 -1 -1\n",
            " -1 -1 -1 -1 -1 -1 -1 -1 -1 -1  1  1  1  1  1  1  1  1  1 -1  1  1  1  1\n",
            "  1  1  1  1  1  1  1  1  1  1  1  1  1  1  1  1  1  1  1  1  1  1  1  1\n",
            "  1  1  1  1  1  1  1  1  1  1  1  1  1 -1 -1  1  1  1  1  1  1  1  1  1\n",
            "  1  1  1  1  1  1  1  1  1  1  1  1 -1  1  1 -1  1 -1 -1 -1  1  1  1  1\n",
            " -1  1 -1 -1 -1 -1  1 -1 -1 -1  1 -1 -1  1  1 -1 -1 -1 -1  1 -1 -1 -1 -1\n",
            " -1 -1 -1  1  1  1 -1  1 -1  1 -1  1  1 -1  1 -1  1  1  1  1  1  1  1  1\n",
            "  1 -1 -1 -1  1  1  1  1  1  1  1  1  1  1  1 -1  1  1  1  1  1  1  1  1\n",
            "  1  1 -1  1  1 -1 -1 -1  1  1  1  1  1 -1 -1  1 -1  1  1  1 -1  1  1  1\n",
            "  1  1  1  1  1  1  1  1  1  1  1 -1  1  1 -1  1 -1  1 -1  1  1  1  1  1\n",
            "  1  1  1  1  1  1  1  1  1  1  1  1  1  1  1  1  1  1  1  1  1  1  1  1\n",
            "  1  1  1  1  1  1  1  1  1  1  1  1  1  1  1  1  1  1  1  1  1  1  1  1\n",
            "  1  1  1  1  1  1  1  1  1  1  1  1  1  1  1 -1 -1 -1 -1 -1 -1  1 -1 -1\n",
            " -1 -1 -1  1 -1 -1 -1  1  1  1  1  1  1 -1 -1  1  1  1  1  1  1  1  1  1\n",
            "  1  1  1  1  1  1  1  1  1  1  1  1  1  1  1  1 -1 -1 -1  1 -1  1 -1  1\n",
            " -1 -1 -1  1  1  1 -1  1 -1  1  1 -1 -1 -1 -1 -1 -1 -1 -1  1 -1 -1  1 -1\n",
            " -1  1  1  1  1  1  1  1  1  1  1  1 -1 -1 -1  1 -1 -1 -1  1  1  1  1  1\n",
            "  1  1  1  1  1  1  1  1  1  1  1  1  1  1  1 -1  1  1  1  1  1  1  1  1\n",
            "  1  1  1  1  1  1 -1  1 -1  1  1  1  1  1  1  1  1  1  1  1  1  1  1  1\n",
            "  1  1  1  1  1  1  1  1  1  1  1  1  1  1 -1 -1 -1 -1 -1 -1  1 -1  1 -1\n",
            "  1  1  1  1  1  1  1  1  1  1  1  1  1  1  1  1  1  1  1  1  1  1  1  1\n",
            "  1  1  1  1  1  1  1  1  1 -1  1  1  1  1  1  1  1  1  1  1  1  1 -1  1\n",
            "  1  1  1  1  1  1 -1  1 -1 -1 -1 -1 -1 -1 -1 -1 -1 -1  1  1 -1 -1 -1  1\n",
            "  1  1  1 -1  1  1  1  1  1  1  1  1  1  1  1  1  1  1 -1 -1 -1 -1  1 -1\n",
            " -1  1 -1  1 -1  1 -1  1  1  1 -1 -1  1  1  1  1  1  1  1  1  1  1  1  1\n",
            "  1  1  1  1  1  1  1  1  1  1  1  1  1  1 -1 -1  1  1 -1 -1  1 -1  1  1\n",
            " -1 -1 -1  1  1  1  1  1 -1 -1 -1 -1 -1 -1 -1 -1 -1 -1 -1 -1  1 -1  1  1\n",
            "  1  1  1  1  1  1  1  1  1  1  1  1  1  1  1  1  1 -1  1 -1  1  1  1  1\n",
            "  1 -1 -1 -1 -1 -1 -1 -1 -1 -1 -1 -1  1  1  1  1  1  1  1  1  1  1  1  1\n",
            "  1  1  1  1  1  1  1  1  1  1  1  1  1  1  1  1  1  1  1  1  1  1  1  1\n",
            "  1  1  1  1  1  1  1 -1  1  1  1  1  1  1  1  1  1  1  1  1  1  1 -1  1\n",
            "  1  1  1  1  1  1  1  1  1  1  1  1  1  1  1  1  1  1  1  1  1  1  1  1\n",
            "  1  1  1  1  1  1  1  1 -1 -1  1  1  1  1  1  1  1  1  1  1  1  1  1  1\n",
            "  1  1  1  1  1  1  1  1  1  1  1  1  1  1  1  1  1  1  1  1  1  1  1  1\n",
            "  1  1  1  1  1  1  1  1  1  1  1  1  1  1  1  1  1  1  1 -1  1 -1 -1 -1\n",
            " -1  1 -1  1 -1 -1 -1  1  1  1  1  1  1  1  1  1  1  1 -1 -1  1  1  1  1\n",
            "  1  1  1  1  1  1 -1  1 -1 -1  1 -1 -1 -1]\n"
          ]
        }
      ]
    },
    {
      "cell_type": "markdown",
      "source": [
        "### Evaluate The Model"
      ],
      "metadata": {
        "id": "WkdLV99rt77e"
      }
    },
    {
      "cell_type": "markdown",
      "source": [
        "#### Confusion Matrix"
      ],
      "metadata": {
        "id": "MgUH8cL-uNQV"
      }
    },
    {
      "cell_type": "code",
      "source": [
        "print(metrics.confusion_matrix(y2_test, predicted2))"
      ],
      "metadata": {
        "colab": {
          "base_uri": "https://localhost:8080/"
        },
        "id": "XideP1MMuShp",
        "outputId": "d5915dc1-0dfe-48f2-a060-1e1b9ef52194"
      },
      "execution_count": 288,
      "outputs": [
        {
          "output_type": "stream",
          "name": "stdout",
          "text": [
            "[[113 335]\n",
            " [123 379]]\n"
          ]
        }
      ]
    },
    {
      "cell_type": "markdown",
      "source": [
        "#### Classification Report"
      ],
      "metadata": {
        "id": "Wt2o5JXhuY6w"
      }
    },
    {
      "cell_type": "code",
      "source": [
        "print(metrics.classification_report(y2_test, predicted2))"
      ],
      "metadata": {
        "colab": {
          "base_uri": "https://localhost:8080/"
        },
        "id": "DNmAm_h7uZ8n",
        "outputId": "a6dee1e0-e4c3-4a68-ed17-38dee8585958"
      },
      "execution_count": 289,
      "outputs": [
        {
          "output_type": "stream",
          "name": "stdout",
          "text": [
            "              precision    recall  f1-score   support\n",
            "\n",
            "          -1       0.48      0.25      0.33       448\n",
            "           1       0.53      0.75      0.62       502\n",
            "\n",
            "    accuracy                           0.52       950\n",
            "   macro avg       0.50      0.50      0.48       950\n",
            "weighted avg       0.51      0.52      0.49       950\n",
            "\n"
          ]
        }
      ]
    },
    {
      "cell_type": "markdown",
      "source": [
        "## Create Trading Strategy Using The Model"
      ],
      "metadata": {
        "id": "uRcefsJ6uqrB"
      }
    },
    {
      "cell_type": "code",
      "source": [
        "wmt_df2['Predicted_Signal'] = model2.predict(X2)\n",
        "wmt_df2['wmt_returns'] = np.log(wmt_df2['Close']/wmt_df2['Close'].shift(1))\n",
        "Cumulative_wmt_returns = np.cumsum(wmt_df2[split2:]['wmt_returns'])\n",
        "wmt_df2['Strategy_returns'] = wmt_df2['wmt_returns']* wmt_df2['Predicted_Signal'].shift(1)\n",
        "Cumulative_Strategy_returns = np.cumsum(wmt_df2[split2:]['Strategy_returns'])\n",
        "\n",
        "plt.figure(figsize=(10,5))\n",
        "plt.plot(Cumulative_Strategy_returns, color='g', label = 'Strategy Returns')\n",
        "plt.legend()\n",
        "plt.show()"
      ],
      "metadata": {
        "colab": {
          "base_uri": "https://localhost:8080/",
          "height": 445
        },
        "id": "3ohW3owOurs9",
        "outputId": "fee48f42-166a-46b8-de8e-9888c4584215"
      },
      "execution_count": 290,
      "outputs": [
        {
          "output_type": "display_data",
          "data": {
            "text/plain": [
              "<Figure size 1000x500 with 1 Axes>"
            ],
            "image/png": "[encoded data removed]"
          },
          "metadata": {}
        }
      ]
    },
    {
      "cell_type": "markdown",
      "source": [
        "## Strategy comparison"
      ],
      "metadata": {
        "id": "iu1MiTFsvL01"
      }
    },
    {
      "cell_type": "code",
      "source": [
        "wmt_df[split:]['Strategy_returns']"
      ],
      "metadata": {
        "colab": {
          "base_uri": "https://localhost:8080/"
        },
        "id": "-WwscenNhDhQ",
        "outputId": "26e8893b-c2d0-48b9-fcb4-92f8093970e3"
      },
      "execution_count": 291,
      "outputs": [
        {
          "output_type": "execute_result",
          "data": {
            "text/plain": [
              "Datetime\n",
              "2023-06-13 12:30:00-04:00    0.000772\n",
              "2023-06-13 13:30:00-04:00   -0.001738\n",
              "2023-06-13 14:30:00-04:00   -0.002452\n",
              "2023-06-13 15:30:00-04:00    0.003160\n",
              "2023-06-14 09:30:00-04:00    0.007633\n",
              "                               ...   \n",
              "2023-12-29 11:30:00-05:00   -0.003079\n",
              "2023-12-29 12:30:00-05:00    0.001906\n",
              "2023-12-29 13:30:00-05:00    0.000539\n",
              "2023-12-29 14:30:00-05:00    0.001458\n",
              "2023-12-29 15:30:00-05:00   -0.001521\n",
              "Name: Strategy_returns, Length: 962, dtype: float64"
            ]
          },
          "metadata": {},
          "execution_count": 291
        }
      ]
    },
    {
      "cell_type": "code",
      "source": [
        "split3 = int(0.7*len(df))\n",
        "y3_train, y3_test = y[:split2], y[split2:]"
      ],
      "metadata": {
        "id": "BA1S2BV0hCsT"
      },
      "execution_count": 292,
      "outputs": []
    },
    {
      "cell_type": "code",
      "source": [
        "##1 RSI 2 MA\n",
        "wmt_df['Predicted_Signal'] = model1.predict(X)\n",
        "wmt_df['WMT_returns'] = np.log(wmt_df['Close']/wmt_df['Close'].shift(1))\n",
        "Cumulative_WMT_returns = np.cumsum(wmt_df[split:]['WMT_returns'])\n",
        "wmt_df['Strategy_returns'] = wmt_df['WMT_returns']* wmt_df['Predicted_Signal'].shift(1)\n",
        "Cumulative_Strategy_returns_1 = np.cumsum(wmt_df[split:]['Strategy_returns'])\n",
        "\n",
        "##2 2 EMA, MACD, Bollinger Bands\n",
        "wmt_df2['Predicted_Signal'] = model2.predict(X2)\n",
        "wmt_df2['wmt_returns'] = np.log(wmt_df2['Close']/wmt_df2['Close'].shift(1))\n",
        "Cumulative_wmt_returns = np.cumsum(wmt_df2[split2:]['wmt_returns'])\n",
        "wmt_df2['Strategy_returns'] = wmt_df2['wmt_returns']* wmt_df2['Predicted_Signal'].shift(1)\n",
        "Cumulative_Strategy_returns_2 = np.cumsum(wmt_df2[split2:]['Strategy_returns'])\n",
        "\n",
        "#Plot\n",
        "plt.figure(figsize=(10,5))\n",
        "plt.plot(Cumulative_Strategy_returns_1 ,color='g', label = 'Strategy Returns Model 1')\n",
        "plt.plot(Cumulative_Strategy_returns_2 ,color='b', label = 'Strategy Returns Model 2')\n",
        "plt.legend()\n",
        "plt.show()"
      ],
      "metadata": {
        "colab": {
          "base_uri": "https://localhost:8080/",
          "height": 445
        },
        "id": "8RvcorLRuMk0",
        "outputId": "7cfe2f3a-6744-4c9c-f6a0-c1440f2d3fa0"
      },
      "execution_count": 293,
      "outputs": [
        {
          "output_type": "display_data",
          "data": {
            "text/plain": [
              "<Figure size 1000x500 with 1 Axes>"
            ],
            "image/png": "[encoded data removed]"
          },
          "metadata": {}
        }
      ]
    }
  ]
}